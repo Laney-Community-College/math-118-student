{
 "cells": [
  {
   "cell_type": "code",
   "execution_count": 2,
   "metadata": {},
   "outputs": [],
   "source": [
    "from datascience import *\n",
    "import numpy as np\n",
    "%matplotlib inline\n",
    "import matplotlib.pyplot as plots\n",
    "plots.style.use('fivethirtyeight')\n",
    "import warnings\n",
    "warnings.simplefilter(action=\"ignore\", category=FutureWarning)\n",
    "\n",
    "from urllib.request import urlopen \n",
    "import re\n",
    "def read_url(url): \n",
    "    return re.sub('\\\\s+', ' ', urlopen(url).read().decode())"
   ]
  },
  {
   "cell_type": "code",
   "execution_count": 3,
   "metadata": {},
   "outputs": [],
   "source": [
    "ticket_trend = Table.read_table(\"ticket_trend.csv\")"
   ]
  },
  {
   "cell_type": "code",
   "execution_count": 16,
   "metadata": {},
   "outputs": [],
   "source": [
    "attitudes = Table.read_table('attitudes.csv')\n"
   ]
  },
  {
   "cell_type": "code",
   "execution_count": 4,
   "metadata": {},
   "outputs": [
    {
     "data": {
      "text/html": [
       "<table border=\"1\" class=\"dataframe\">\n",
       "    <thead>\n",
       "        <tr>\n",
       "            <th>Month</th> <th>Received</th> <th>Processed</th>\n",
       "        </tr>\n",
       "    </thead>\n",
       "    <tbody>\n",
       "        <tr>\n",
       "            <td>January   </td> <td>160     </td> <td>160      </td>\n",
       "        </tr>\n",
       "        <tr>\n",
       "            <td>Februrary </td> <td>184     </td> <td>184      </td>\n",
       "        </tr>\n",
       "        <tr>\n",
       "            <td>March     </td> <td>241     </td> <td>237      </td>\n",
       "        </tr>\n",
       "        <tr>\n",
       "            <td>April     </td> <td>149     </td> <td>148      </td>\n",
       "        </tr>\n",
       "        <tr>\n",
       "            <td>May       </td> <td>180     </td> <td>181      </td>\n",
       "        </tr>\n",
       "        <tr>\n",
       "            <td>June      </td> <td>161     </td> <td>150      </td>\n",
       "        </tr>\n",
       "        <tr>\n",
       "            <td>July      </td> <td>132     </td> <td>123      </td>\n",
       "        </tr>\n",
       "        <tr>\n",
       "            <td>August    </td> <td>202     </td> <td>156      </td>\n",
       "        </tr>\n",
       "        <tr>\n",
       "            <td>Septempber</td> <td>160     </td> <td>126      </td>\n",
       "        </tr>\n",
       "        <tr>\n",
       "            <td>October   </td> <td>139     </td> <td>104      </td>\n",
       "        </tr>\n",
       "        <tr>\n",
       "            <td>November  </td> <td>149     </td> <td>124      </td>\n",
       "        </tr>\n",
       "        <tr>\n",
       "            <td>December  </td> <td>177     </td> <td>140      </td>\n",
       "        </tr>\n",
       "    </tbody>\n",
       "</table>"
      ],
      "text/plain": [
       "<IPython.core.display.HTML object>"
      ]
     },
     "metadata": {},
     "output_type": "display_data"
    }
   ],
   "source": [
    "ticket_trend.show()"
   ]
  },
  {
   "cell_type": "code",
   "execution_count": 5,
   "metadata": {},
   "outputs": [
    {
     "data": {
      "text/html": [
       "<table border=\"1\" class=\"dataframe\">\n",
       "    <thead>\n",
       "        <tr>\n",
       "            <th>Month</th> <th>Received</th> <th>Processed</th>\n",
       "        </tr>\n",
       "    </thead>\n",
       "    <tbody>\n",
       "        <tr>\n",
       "            <td>January   </td> <td>160     </td> <td>160      </td>\n",
       "        </tr>\n",
       "        <tr>\n",
       "            <td>Septempber</td> <td>160     </td> <td>126      </td>\n",
       "        </tr>\n",
       "    </tbody>\n",
       "</table>"
      ],
      "text/plain": [
       "Month      | Received | Processed\n",
       "January    | 160      | 160\n",
       "Septempber | 160      | 126"
      ]
     },
     "execution_count": 5,
     "metadata": {},
     "output_type": "execute_result"
    }
   ],
   "source": [
    "ticket_trend.where('Received',160)"
   ]
  },
  {
   "cell_type": "code",
   "execution_count": null,
   "metadata": {},
   "outputs": [],
   "source": []
  }
 ],
 "metadata": {
  "anaconda-cloud": {},
  "celltoolbar": "Raw Cell Format",
  "kernelspec": {
   "display_name": "Python 3 (ipykernel)",
   "language": "python",
   "name": "python3"
  },
  "language_info": {
   "codemirror_mode": {
    "name": "ipython",
    "version": 3
   },
   "file_extension": ".py",
   "mimetype": "text/x-python",
   "name": "python",
   "nbconvert_exporter": "python",
   "pygments_lexer": "ipython3",
   "version": "3.11.13"
  }
 },
 "nbformat": 4,
 "nbformat_minor": 4
}
