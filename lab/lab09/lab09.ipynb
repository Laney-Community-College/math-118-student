{
 "cells": [
  {
   "cell_type": "code",
   "execution_count": null,
   "id": "1976734b",
   "metadata": {},
   "outputs": [],
   "source": [
    "# Initialize Otter\n",
    "import otter\n",
    "grader = otter.Notebook(\"lab09.ipynb\")"
   ]
  },
  {
   "cell_type": "markdown",
   "id": "6462645a",
   "metadata": {},
   "source": [
    "# Lab 9: Regression\n",
    "\n",
    "Welcome to Lab 9!\n",
    "\n",
    "Today we will get some hands-on practice with linear regression. You can find more information about this topic in\n",
    "[Chapter 15.2](https://www.inferentialthinking.com/chapters/15/2/Regression_Line.html#the-regression-line).\n",
    "\n",
    "**Submission**: Once you’re finished, run all cells besides the last one, select File > Save Notebook, and then execute the final cell. Then submit the downloaded zip file, that includes your notebook,  according to your instructor's directions."
   ]
  },
  {
   "cell_type": "code",
   "execution_count": null,
   "id": "6828dd42",
   "metadata": {},
   "outputs": [],
   "source": [
    "# Run this cell, but please don't change it.\n",
    "\n",
    "# These lines import the Numpy and Datascience modules.\n",
    "import numpy as np\n",
    "from datascience import *\n",
    "\n",
    "# These lines do some fancy plotting magic.\n",
    "import matplotlib\n",
    "%matplotlib inline\n",
    "import matplotlib.pyplot as plots\n",
    "plots.style.use('fivethirtyeight')\n",
    "import warnings\n",
    "warnings.simplefilter('ignore')\n"
   ]
  },
  {
   "cell_type": "markdown",
   "id": "e2c09d4f",
   "metadata": {},
   "source": [
    "# 1. How old is that abalone? \n",
    "\n",
    "Abalone are shellfish, specifically a type of large sea mollusk that thrives in cold waters worldwide. Their shells have a lustrous substance known as mother-of-pearl, making them sought after for jewelry, art, and decoration. Run the cell below to learn about abalone."
   ]
  },
  {
   "cell_type": "code",
   "execution_count": null,
   "id": "e5125b5a",
   "metadata": {},
   "outputs": [],
   "source": [
    "# For the curious: this is how to display a YouTube video in a\n",
    "# Jupyter notebook.  The argument to YouTubeVideo is the part\n",
    "# of the URL (called a \"query parameter\") that identifies the\n",
    "# video.  For example, the full URL for this video is:\n",
    "#   https://www.youtube.com/watch?v=A2M1yKm_x1M\n",
    "from IPython.display import YouTubeVideo\n",
    "YouTubeVideo(\"A2M1yKm_x1M\")"
   ]
  },
  {
   "cell_type": "markdown",
   "id": "d5ed2f7b",
   "metadata": {},
   "source": [
    "How old is an abalone? Rings form within the inner shell of the abalone, with one ring typically developing each year. Determining the age of an abalone involves cutting the shell through the cone, staining it, and counting the rings under a microscope — a tedious and time-consuming process. However, alternative measurements exist that are easier to obtain and can be used to predict the age of the abalone.\n",
    " \n",
    "Today, we will use a dataset with abalone measurements and ages to see if we can make such predictions accurately with linear regression.\n",
    "\n",
    "The dataset has one row for each observed abalone.  It includes the following columns:\n",
    "- `Length`: longest shell measurement of the abalone in millimeters (mm) \n",
    "- `Shell weight`: shell weight of the abalone after being dried in grams\n",
    "- `Rings`: number of rings on the abalone shell. Note: the number of rings corresponds to the age of the abalone.\n",
    "\n",
    "Run the next cell to load the dataset."
   ]
  },
  {
   "cell_type": "code",
   "execution_count": null,
   "id": "57f08d38",
   "metadata": {},
   "outputs": [],
   "source": [
    "abalone = Table.read_table(\"abaloneI.csv\")\n",
    "abalone.show(10)"
   ]
  },
  {
   "cell_type": "markdown",
   "id": "bc0b59a4",
   "metadata": {},
   "source": [
    "**Question 1.0.** The following statements are the unordered steps of linear regression.  \n",
    "\n",
    "1. Use the regression line to generate predictions for each x value. \n",
    "2. Visualize the data and calculate the correlation coefficient to assess the whether linear regression is appropriate for modeling the data.\n",
    "3. Calculate the regression line's parameters, including the slope and intercept.\n",
    "4. Analyze the effectiveness of the regression line by computing the RMSE and examining the residuals plot.\n",
    "\n",
    "Make an array called `least_squares_order` that contains the correct order of a linear regression analysis, where the first item of the array is the first step of an linear regression analysis and the last item of the array is the last step of an linear regression analysis.\n"
   ]
  },
  {
   "cell_type": "code",
   "execution_count": null,
   "id": "9f0a84ee",
   "metadata": {},
   "outputs": [],
   "source": [
    "least_squares_order = ..."
   ]
  },
  {
   "cell_type": "code",
   "execution_count": null,
   "id": "ede5c833",
   "metadata": {},
   "outputs": [],
   "source": [
    "grader.check(\"q1_0\")"
   ]
  },
  {
   "cell_type": "markdown",
   "id": "e0b5dd68",
   "metadata": {},
   "source": [
    "We would like to use linear regression to make predictions, but that won't work well if the data aren't roughly linearly related.  To check that, we should look at the data."
   ]
  },
  {
   "cell_type": "markdown",
   "id": "bf44d501",
   "metadata": {},
   "source": [
    "**Question 1.1.** Make a scatter plot of the data using shell weight to predict the number of rings on the abalone shell (ie., the age of the abalone).  It's conventional to put the column we want to predict on the vertical axis and the other column on the horizontal axis.\n"
   ]
  },
  {
   "cell_type": "code",
   "execution_count": null,
   "id": "f64aa27f",
   "metadata": {},
   "outputs": [],
   "source": [
    "..."
   ]
  },
  {
   "cell_type": "markdown",
   "id": "927c768d",
   "metadata": {},
   "source": [
    "**Question 1.2.** Are shell weight and rings (i.e., age) of the abalone roughly linearly related based on the scatter plot above? Is this relationship positive? **(2 points)**\n"
   ]
  },
  {
   "cell_type": "markdown",
   "id": "b9ee07f8",
   "metadata": {},
   "source": [
    "We're going to continue with the assumption that they are linearly related, so it's reasonable to use linear regression to analyze this data.\n",
    "\n",
    "We'd next like to plot the data in standard units. If you don't remember the definition of standard units, textbook section [14.2](https://www.inferentialthinking.com/chapters/14/2/Variability.html#standard-units) might help!"
   ]
  },
  {
   "cell_type": "markdown",
   "id": "a3c66dd1",
   "metadata": {},
   "source": [
    "**Question 1.3.** Compute the mean and standard deviation of the shell lengths and rings.  **Then** create a table called `abalone_standard` containing the shell lengths and rings in standard units.  The columns should be named `Shell weight (standard units)` and `Rings (standard units)`.\n"
   ]
  },
  {
   "cell_type": "code",
   "execution_count": null,
   "id": "6aa9bdf3",
   "metadata": {},
   "outputs": [],
   "source": [
    "weight_mean = ...\n",
    "weight_std = ...\n",
    "rings_mean = ...\n",
    "rings_std = ...\n",
    "\n",
    "abalone_standard = Table().with_columns(\n",
    "    \"Shell weight (standard units)\", ...,\n",
    "    \"Rings (standard units)\", ...)\n",
    "abalone_standard"
   ]
  },
  {
   "cell_type": "code",
   "execution_count": null,
   "id": "635bd408",
   "metadata": {},
   "outputs": [],
   "source": [
    "grader.check(\"q1_3\")"
   ]
  },
  {
   "cell_type": "markdown",
   "id": "4affdcf6",
   "metadata": {},
   "source": [
    "**Question 1.4.** Plot the data again, but this time in standard units.\n"
   ]
  },
  {
   "cell_type": "code",
   "execution_count": null,
   "id": "ecc35967",
   "metadata": {},
   "outputs": [],
   "source": [
    "..."
   ]
  },
  {
   "cell_type": "markdown",
   "id": "144a4110",
   "metadata": {},
   "source": [
    "You'll notice that this plot looks the same as the last one!  However, the data and axes are scaled differently.  So it's important to read the ticks on the axes."
   ]
  },
  {
   "cell_type": "markdown",
   "id": "73395d91",
   "metadata": {},
   "source": [
    "**Question 1.5.** Among the following numbers, which would you guess is closest to the correlation between shell weight and number of rings in this dataset?\n",
    "\n",
    "1. 1\n",
    "2. 0\n",
    "3. -1\n",
    "\n",
    "Assign `correlation` to the number corresponding to your guess (either 1, 2 or 3).\n"
   ]
  },
  {
   "cell_type": "code",
   "execution_count": null,
   "id": "053e7229",
   "metadata": {},
   "outputs": [],
   "source": [
    "correlation = ..."
   ]
  },
  {
   "cell_type": "code",
   "execution_count": null,
   "id": "ad76208a",
   "metadata": {},
   "outputs": [],
   "source": [
    "grader.check(\"q1_5\")"
   ]
  },
  {
   "cell_type": "markdown",
   "id": "37394148",
   "metadata": {},
   "source": [
    "**Question 1.6.** Compute the correlation coefficient: `r`.  \n",
    "\n",
    "*Hint:* Use `abalone_standard`.  Section [15.1](https://www.inferentialthinking.com/chapters/15/1/Correlation.html#calculating-r) explains how to do this.\n",
    "\n"
   ]
  },
  {
   "cell_type": "code",
   "execution_count": null,
   "id": "fb648054",
   "metadata": {},
   "outputs": [],
   "source": [
    "r = ...\n",
    "r"
   ]
  },
  {
   "cell_type": "code",
   "execution_count": null,
   "id": "11079c94",
   "metadata": {},
   "outputs": [],
   "source": [
    "grader.check(\"q1_6\")"
   ]
  },
  {
   "cell_type": "markdown",
   "id": "5a9a3e53",
   "metadata": {},
   "source": [
    "## 2. The regression line\n",
    "Recall that the **correlation** is the **slope of the regression line when the data are put in standard units**.\n",
    "\n",
    "The next cell plots the regression line in standard units:\n",
    "\n",
    "$$\\text{number of rings (i.e., age) in standard units} = r \\times \\text{shell weight in standard units}$$\n",
    "\n",
    "Then, it plots the data in standard units again, for comparison."
   ]
  },
  {
   "cell_type": "code",
   "execution_count": null,
   "id": "76eab0c3",
   "metadata": {},
   "outputs": [],
   "source": [
    "def plot_data_and_line(dataset, x, y, point_0, point_1):\n",
    "    \"\"\"Makes a scatter plot of the dataset, along with a line passing through two points.\"\"\"\n",
    "    dataset.scatter(x, y, label=\"data\")\n",
    "    xs, ys = zip(point_0, point_1)\n",
    "    plots.plot(xs, ys, label=\"regression line\")\n",
    "    plots.legend(bbox_to_anchor=(1.5,.8))\n",
    "\n",
    "plot_data_and_line(abalone_standard, \n",
    "                   \"Shell weight (standard units)\", \n",
    "                   \"Rings (standard units)\", \n",
    "                   [-2, -2*r], \n",
    "                   [4, 4*r])"
   ]
  },
  {
   "cell_type": "markdown",
   "id": "627d2d0b",
   "metadata": {},
   "source": [
    "How would you take a point in standard units and convert it back to original units?  We'd have to \"stretch\" its horizontal position by `weight_std` and its vertical position by `rings_std`. That means the same thing would happen to the slope of the line.\n",
    "\n",
    "Stretching a line horizontally makes it less steep, so we divide the slope by the stretching factor.  Stretching a line vertically makes it more steep, so we multiply the slope by the stretching factor.\n",
    "\n",
    "**Question 2.1.** Calculate the slope of the regression line in original units, and assign it to `slope`.\n",
    "\n",
    "(If the \"stretching\" explanation is unintuitive, consult section [15.2](https://www.inferentialthinking.com/chapters/15/2/Regression_Line.html#the-equation-of-the-regression-line) in the textbook.)\n"
   ]
  },
  {
   "cell_type": "code",
   "execution_count": null,
   "id": "c64c0f56",
   "metadata": {},
   "outputs": [],
   "source": [
    "slope = ...\n",
    "slope"
   ]
  },
  {
   "cell_type": "code",
   "execution_count": null,
   "id": "2cfa021a",
   "metadata": {},
   "outputs": [],
   "source": [
    "grader.check(\"q2_1\")"
   ]
  },
  {
   "cell_type": "markdown",
   "id": "e7d27a7b",
   "metadata": {},
   "source": [
    "We know that the regression line passes through the point `(weight_mean, rings_mean)`. Recall that the equation of the regression line in the original units is:\n",
    "\n",
    "$$\\text{rings} = \\text{slope} \\times \\text{weight} + (- \\text{slope} \\times \\text{weight\\_mean + rings\\_mean})$$\n",
    "\n",
    "\n",
    "**Question 2.2.** Calculate the intercept in original units and assign it to `intercept`. [Section 15.2.5](https://inferentialthinking.com/chapters/15/2/Regression_Line.html#the-regression-line-in-standard-units) may be helpful.\n"
   ]
  },
  {
   "cell_type": "code",
   "execution_count": null,
   "id": "cd539a60",
   "metadata": {},
   "outputs": [],
   "source": [
    "intercept = ...\n",
    "intercept"
   ]
  },
  {
   "cell_type": "code",
   "execution_count": null,
   "id": "ecadfdf1",
   "metadata": {},
   "outputs": [],
   "source": [
    "grader.check(\"q2_2\")"
   ]
  },
  {
   "cell_type": "markdown",
   "id": "0828202a",
   "metadata": {},
   "source": [
    "## 3. Investigating the regression line\n",
    "The slope and intercept tell you exactly what the regression line looks like.  To predict the age of an abalone, multiply the abalone's shell weight by `slope` and then add `intercept`.\n",
    "\n",
    "**Question 3.1.** Compute the predicted number of rings (i.e., age) for an abalone that has a shell weight of .01 grams, and for an abalone that has a shell weight of .4 grams.\n"
   ]
  },
  {
   "cell_type": "code",
   "execution_count": null,
   "id": "429089c1",
   "metadata": {},
   "outputs": [],
   "source": [
    "point_01_predicted_age = ...\n",
    "point_4_predicted_age = ...\n",
    "\n",
    "# Here is a helper function to print out your predictions.\n",
    "# Don't modify the code below.\n",
    "def print_prediction(weight, predicted_age):\n",
    "    print(\"With a shell weight of\", weight,\n",
    "          \"grams, we predict the abalone is\", predicted_age,\n",
    "          \"years old.\")\n",
    "\n",
    "print_prediction(.01, point_01_predicted_age)\n",
    "print_prediction(.4, point_4_predicted_age)"
   ]
  },
  {
   "cell_type": "code",
   "execution_count": null,
   "id": "2bd25638",
   "metadata": {},
   "outputs": [],
   "source": [
    "grader.check(\"q3_1\")"
   ]
  },
  {
   "cell_type": "markdown",
   "id": "bc42f86e",
   "metadata": {},
   "source": [
    "The next cell plots the line that goes between those two points, which is (a segment of) the regression line."
   ]
  },
  {
   "cell_type": "code",
   "execution_count": null,
   "id": "d475b57b",
   "metadata": {},
   "outputs": [],
   "source": [
    "plot_data_and_line(abalone, \"Shell weight\", \"Rings\", \n",
    "                   [.01, point_01_predicted_age], \n",
    "                   [.4, point_4_predicted_age])"
   ]
  },
  {
   "cell_type": "markdown",
   "id": "0693af5e",
   "metadata": {},
   "source": [
    "**Question 3.2.** Make predictions for the number of rings for each abalone in the `abalone` table.  (Of course, we know exactly what the number of rings are for each abalone!  We are doing this so we can see how accurate our predictions are.  Put these numbers into a column in a new table called `abalone_predictions`.  Its first row should look like this:\n",
    "\n",
    "|Length|Shell weight|Rings|predicted Rings|\n",
    "|-|-|-|-|\n",
    "|.33|.055|7|6.28421|\n",
    "\n",
    "*Hint:* Your answer can be just one line, though you are not limited to one line.  There is no need for a `for` loop; use array arithmetic instead.\n"
   ]
  },
  {
   "cell_type": "code",
   "execution_count": null,
   "id": "1cfbbe6e",
   "metadata": {},
   "outputs": [],
   "source": [
    "abalone_predictions = ...\n",
    "abalone_predictions"
   ]
  },
  {
   "cell_type": "code",
   "execution_count": null,
   "id": "fbc54e3b",
   "metadata": {},
   "outputs": [],
   "source": [
    "grader.check(\"q3_2\")"
   ]
  },
  {
   "cell_type": "markdown",
   "id": "6a6caf6e",
   "metadata": {},
   "source": [
    "**Question 3.3.** How close were we?  Compute the *residual* for each eruption in the dataset.  The residual is the actual number of rings time minus the predicted number of rings.  Add the residuals to `abalone_predictions` as a new column called `residual` and name the resulting table `abalone_residuals`.\n",
    "\n",
    "*Hint:* Again, your code will be much simpler if you don't use a `for` loop.\n"
   ]
  },
  {
   "cell_type": "code",
   "execution_count": null,
   "id": "8b2ef517",
   "metadata": {},
   "outputs": [],
   "source": [
    "abalone_residuals = ...\n",
    "abalone_residuals"
   ]
  },
  {
   "cell_type": "code",
   "execution_count": null,
   "id": "fe0d8c6e",
   "metadata": {},
   "outputs": [],
   "source": [
    "grader.check(\"q3_3\")"
   ]
  },
  {
   "cell_type": "markdown",
   "id": "c6780f50",
   "metadata": {},
   "source": [
    "Here is a plot of the residuals you computed.  Each point corresponds to one abalone.  It shows how much our prediction over- or under-estimated the age of the abalone."
   ]
  },
  {
   "cell_type": "code",
   "execution_count": null,
   "id": "bfff1792",
   "metadata": {},
   "outputs": [],
   "source": [
    "abalone_residuals.scatter(\"Shell weight\", \"residual\", color=\"r\")"
   ]
  },
  {
   "cell_type": "markdown",
   "id": "725edb77",
   "metadata": {},
   "source": [
    "There isn't really a pattern in the residuals, which confirms that it was reasonable to try linear regression. "
   ]
  },
  {
   "cell_type": "markdown",
   "id": "2e6790b7",
   "metadata": {},
   "source": [
    "## 4. How accurate are different predictions?\n",
    "Earlier, you should have found that the correlation is moderately close to 1, so the line fits moderately well on the training data.  That means the residuals can vary widely (not all points are close to 0) in comparison to the number of rings (ie., age) of the abalone.\n",
    "\n",
    "We can see that visually by plotting the shell weight and residuals together:"
   ]
  },
  {
   "cell_type": "code",
   "execution_count": null,
   "id": "4cd3554c",
   "metadata": {},
   "outputs": [],
   "source": [
    "# Just run this cell.\n",
    "abalone_residuals.scatter(\"Shell weight\", \"Rings\", label=\"actual number of rings\", color=\"blue\")\n",
    "plots.scatter(abalone_residuals.column(\"Shell weight\"), abalone_residuals.column(\"residual\"), label=\"residual\", color=\"r\")\n",
    "plots.plot([0, .5], [point_01_predicted_age, point_4_predicted_age], label=\"regression line\")\n",
    "plots.legend(bbox_to_anchor=(.2,.5));"
   ]
  },
  {
   "cell_type": "markdown",
   "id": "6e9f11e3",
   "metadata": {},
   "source": [
    "Unless you have a strong reason to believe that the linear regression model is true, you should be wary of applying your prediction model to data that are very different from the training data."
   ]
  },
  {
   "cell_type": "markdown",
   "id": "34dc1a53",
   "metadata": {},
   "source": [
    "**Question 4.1.** In the `abalone` dataset, there is no abalone with a shell weight of exactly 0, .248, or 2 grams.  Using this line, what is the predicted age for an abalone with a shell weight of 0 grams?  .244 grams?  2 grams?\n"
   ]
  },
  {
   "cell_type": "code",
   "execution_count": null,
   "id": "79bb94f8",
   "metadata": {},
   "outputs": [],
   "source": [
    "zero_grams_predicted_age = ...\n",
    "point_248_grams_predicted_age = ...\n",
    "two_grams_predicted_age = ...\n",
    "\n",
    "print_prediction(0, zero_grams_predicted_age)\n",
    "print_prediction(.248, point_248_grams_predicted_age)\n",
    "print_prediction(2, two_grams_predicted_age)"
   ]
  },
  {
   "cell_type": "code",
   "execution_count": null,
   "id": "95dc2122",
   "metadata": {},
   "outputs": [],
   "source": [
    "grader.check(\"q4_1\")"
   ]
  },
  {
   "cell_type": "markdown",
   "id": "5bf6046f",
   "metadata": {},
   "source": [
    "**Question 4.2.** For each prediction, state whether you think it's reliable and explain your reasoning. **(2 points)**\n"
   ]
  },
  {
   "cell_type": "markdown",
   "id": "4d5f5a61",
   "metadata": {},
   "source": [
    "## 5. Checking other measurements"
   ]
  },
  {
   "cell_type": "markdown",
   "id": "71309bbc",
   "metadata": {},
   "source": [
    "In addition to the abalone's shell weight, other measurements are also taken. The `abalone` dataset also includes the length of the longest shell measurement (in millimeters). "
   ]
  },
  {
   "cell_type": "code",
   "execution_count": null,
   "id": "b2f1f6e1",
   "metadata": {},
   "outputs": [],
   "source": [
    "abalone.scatter(\"Length\", \"Rings\")"
   ]
  },
  {
   "cell_type": "markdown",
   "id": "31c734cc",
   "metadata": {},
   "source": [
    "The `standardize` function from lecture appears below, which takes in a table with numerical columns and returns the same table with each column converted into standard units."
   ]
  },
  {
   "cell_type": "code",
   "execution_count": null,
   "id": "bf7fb2c3",
   "metadata": {},
   "outputs": [],
   "source": [
    "# Just run this cell.\n",
    "\n",
    "def standard_units(any_numbers):\n",
    "    \"Convert any array of numbers to standard units.\"\n",
    "    return (any_numbers - np.mean(any_numbers)) / np.std(any_numbers)  \n",
    "\n",
    "def standardize(t):\n",
    "    \"\"\"Return a table in which all columns of t are converted to standard units.\"\"\"\n",
    "    t_su = Table()\n",
    "    for label in t.labels:\n",
    "        t_su = t_su.with_column(label + ' (su)', standard_units(t.column(label)))\n",
    "    return t_su"
   ]
  },
  {
   "cell_type": "markdown",
   "id": "4aba1154",
   "metadata": {},
   "source": [
    "**Question 5.1.** Compute the correlation coefficient *r* using the length of the abalone as the explanatory variable. \n"
   ]
  },
  {
   "cell_type": "code",
   "execution_count": null,
   "id": "bb24cc77",
   "metadata": {},
   "outputs": [],
   "source": [
    "def corr_coeff(t):\n",
    "    \"\"\"Return the regression coefficient for columns 0 & 1.\"\"\"\n",
    "    t_su = standardize(t)\n",
    "    ...\n",
    "\n",
    "abalone_length = ...\n",
    "abalone_length_r = ...\n",
    "print(\"Using the length of the abalone shell, r is\", abalone_length_r)"
   ]
  },
  {
   "cell_type": "code",
   "execution_count": null,
   "id": "dfbd2a5d",
   "metadata": {},
   "outputs": [],
   "source": [
    "grader.check(\"q5_1\")"
   ]
  },
  {
   "cell_type": "markdown",
   "id": "f5c158b3",
   "metadata": {},
   "source": [
    "**Question 5.2.** Complete the functions `slope_of` and `intercept_of` below. \n",
    "\n",
    "When you're done, the function `age_abalone_length` should use a different regression line than the one above to predict the age of an abalone based on its length.\n"
   ]
  },
  {
   "cell_type": "code",
   "execution_count": null,
   "id": "256fdfd6",
   "metadata": {},
   "outputs": [],
   "source": [
    "def slope_of(table, r):\n",
    "    \"\"\"Return the slope of the regression line for table in original units.\n",
    "    \n",
    "    Assume that column 0 contains x values and column 1 contains y values.\n",
    "    r is the regression coefficient for x and y.\n",
    "    \"\"\"\n",
    "    ...\n",
    "\n",
    "def intercept_of(table, r):\n",
    "    \"\"\"Return the intercept of the regression line for table in original units.\"\"\"\n",
    "    slope = slope_of(table, r)\n",
    "    ...\n",
    "    \n",
    "abalone_length_slope = slope_of(abalone_length, abalone_length_r)\n",
    "abalone_length_intercept = intercept_of(abalone_length, abalone_length_r)\n",
    "\n",
    "def age_abalone_length(length):\n",
    "    return abalone_length_slope * length + abalone_length_intercept"
   ]
  },
  {
   "cell_type": "code",
   "execution_count": null,
   "id": "3f4e50b4",
   "metadata": {},
   "outputs": [],
   "source": [
    "grader.check(\"q5_2\")"
   ]
  },
  {
   "cell_type": "markdown",
   "id": "4bf95cf4",
   "metadata": {},
   "source": [
    "The plot below shows the scatter plot of length and number of rings (i.e., age) with the new regression line."
   ]
  },
  {
   "cell_type": "code",
   "execution_count": null,
   "id": "e4510ef6",
   "metadata": {},
   "outputs": [],
   "source": [
    "abalone.scatter(\"Length\", 'Rings', fit_line=True)"
   ]
  },
  {
   "cell_type": "markdown",
   "id": "6974574c",
   "metadata": {},
   "source": [
    "**Question 5.3.** The first row of the table produced in Question 3.2, shows an abalone with a shell weight of 0.055 grams and a length of 0.33mm. Based on the shell weight of 0.055 grams, the predicted number of rings (i.e., age of the abalone) was 6.28421. Now, use the function `age_abalone_length` from above to predict the number of rings using the shell's length, which is 0.33 mm."
   ]
  },
  {
   "cell_type": "code",
   "execution_count": null,
   "id": "e9edf61d",
   "metadata": {},
   "outputs": [],
   "source": [
    "predicted_age_using_length =\n",
    "    ...\n",
    "\n",
    "# Don't modify the code below.\n",
    "print(\"Using a length of 0.33 mm for the abalone, the abalone's age is\", predicted_age_using_length)"
   ]
  },
  {
   "cell_type": "code",
   "execution_count": null,
   "id": "7681c8d3",
   "metadata": {},
   "outputs": [],
   "source": [
    "grader.check(\"q5_3\")"
   ]
  },
  {
   "cell_type": "markdown",
   "id": "3bf22dca",
   "metadata": {},
   "source": [
    "**Question 5.4.** Do you think the predictions produced using the length of the abalone would be more accurate, less accurate, or about the same as the predictions from the regression line you created in section 2? How could you tell?"
   ]
  },
  {
   "cell_type": "markdown",
   "id": "70d3f413",
   "metadata": {},
   "source": [
    "## 6. Submission\n",
    "\n",
    "<img src=\"lab09_pets.jpg\" alt=\"drawing\" width=\"500\"/>\n",
    "\n",
    "Congratulations, you're done with Lab 9!\n",
    "\n",
    "**Important submission steps:** \n",
    "1. Run the tests and verify that they all pass.\n",
    "2. Choose **Save Notebook** from the **File** menu, then **run the final cell**. \n",
    "3. Click the link to download the zip file.\n",
    "4. Then submit the zip file to the corresponding assignment according to your instructor's directions. \n",
    "\n",
    "**It is your responsibility to make sure your work is saved before running the last cell.**"
   ]
  },
  {
   "cell_type": "markdown",
   "id": "2289498e",
   "metadata": {},
   "source": [
    "---\n",
    "\n",
    "To double-check your work, the cell below will rerun all of the autograder tests."
   ]
  },
  {
   "cell_type": "code",
   "execution_count": null,
   "id": "dccaf41d",
   "metadata": {},
   "outputs": [],
   "source": [
    "grader.check_all()"
   ]
  },
  {
   "cell_type": "markdown",
   "id": "b0e66bc1",
   "metadata": {},
   "source": [
    "## Submission\n",
    "\n",
    "Make sure you have run all cells in your notebook in order before running the cell below, so that all images/graphs appear in the output. The cell below will generate a zip file for you to submit. **Please save before exporting!**"
   ]
  },
  {
   "cell_type": "code",
   "execution_count": null,
   "id": "55f9eb7e",
   "metadata": {},
   "outputs": [],
   "source": [
    "# Save your notebook first, then run this cell to export your submission.\n",
    "grader.export(pdf=False)"
   ]
  },
  {
   "cell_type": "markdown",
   "id": "92917e3e",
   "metadata": {},
   "source": [
    " "
   ]
  }
 ],
 "metadata": {
  "kernelspec": {
   "display_name": "Python 3 (ipykernel)",
   "language": "python",
   "name": "python3"
  },
  "language_info": {
   "codemirror_mode": {
    "name": "ipython",
    "version": 3
   },
   "file_extension": ".py",
   "mimetype": "text/x-python",
   "name": "python",
   "nbconvert_exporter": "python",
   "pygments_lexer": "ipython3"
  },
  "otter": {
   "OK_FORMAT": true,
   "tests": {
    "q1_0": {
     "name": "q1_0",
     "points": null,
     "suites": [
      {
       "cases": [
        {
         "code": ">>> len(least_squares_order) == 4\nTrue",
         "hidden": false,
         "locked": false
        },
        {
         "code": ">>> import hashlib\n>>> def get_hash(num):\n...     \"\"\"Helper function for assessing correctness.\"\"\"\n...     return hashlib.md5(str(num).encode()).hexdigest()\n>>> get_hash(np.array(least_squares_order).astype(int))\n'1c85b0f38addec933c7f53e97f00b23f'",
         "hidden": false,
         "locked": false
        }
       ],
       "scored": true,
       "setup": "",
       "teardown": "",
       "type": "doctest"
      }
     ]
    },
    "q1_3": {
     "name": "q1_3",
     "points": null,
     "suites": [
      {
       "cases": [
        {
         "code": ">>> abs(sum(abalone.column(0))) <= 858\nTrue",
         "hidden": false,
         "locked": false
        },
        {
         "code": ">>> round(weight_std, 2) == 0.08\nTrue",
         "hidden": false,
         "locked": false
        },
        {
         "code": ">>> round(rings_std, 2) == 2.51\nTrue",
         "hidden": false,
         "locked": false
        }
       ],
       "scored": true,
       "setup": "",
       "teardown": "",
       "type": "doctest"
      }
     ]
    },
    "q1_5": {
     "name": "q1_5",
     "points": null,
     "suites": [
      {
       "cases": [
        {
         "code": ">>> import hashlib\n>>> def get_hash(num):\n...     \"\"\"Helper function for assessing correctness.\"\"\"\n...     return hashlib.md5(str(num).encode()).hexdigest()\n>>> get_hash(int(correlation))\n'c4ca4238a0b923820dcc509a6f75849b'",
         "hidden": false,
         "locked": false
        }
       ],
       "scored": true,
       "setup": "",
       "teardown": "",
       "type": "doctest"
      }
     ]
    },
    "q1_6": {
     "name": "q1_6",
     "points": null,
     "suites": [
      {
       "cases": [
        {
         "code": ">>> -1 <= r <= 1\nTrue",
         "hidden": false,
         "locked": false
        },
        {
         "code": ">>> round(r, 3) == 0.734\nTrue",
         "hidden": false,
         "locked": false
        }
       ],
       "scored": true,
       "setup": "",
       "teardown": "",
       "type": "doctest"
      }
     ]
    },
    "q2_1": {
     "name": "q2_1",
     "points": null,
     "suites": [
      {
       "cases": [
        {
         "code": ">>> 1.5 < (slope * 13 - 100) / 98 <= 1.95\nTrue",
         "hidden": false,
         "locked": false
        },
        {
         "code": ">>> np.round(slope, 4) == 22.061\nTrue",
         "hidden": false,
         "locked": false
        }
       ],
       "scored": true,
       "setup": "",
       "teardown": "",
       "type": "doctest"
      }
     ]
    },
    "q2_2": {
     "name": "q2_2",
     "points": null,
     "suites": [
      {
       "cases": [
        {
         "code": ">>> 4 < intercept < 7\nTrue",
         "hidden": false,
         "locked": false
        },
        {
         "code": ">>> np.round(intercept, 3) == 5.071\nTrue",
         "hidden": false,
         "locked": false
        }
       ],
       "scored": true,
       "setup": "",
       "teardown": "",
       "type": "doctest"
      }
     ]
    },
    "q3_1": {
     "name": "q3_1",
     "points": null,
     "suites": [
      {
       "cases": [
        {
         "code": ">>> round(point_01_predicted_age, 3) == 5.291\nTrue",
         "hidden": false,
         "locked": false
        },
        {
         "code": ">>> round(point_4_predicted_age, 3) == 13.895\nTrue",
         "hidden": false,
         "locked": false
        }
       ],
       "scored": true,
       "setup": "",
       "teardown": "",
       "type": "doctest"
      }
     ]
    },
    "q3_2": {
     "name": "q3_2",
     "points": null,
     "suites": [
      {
       "cases": [
        {
         "code": ">>> set(abalone_predictions.labels) == set(['Length', 'Shell weight', 'Rings', 'predicted Rings'])\nTrue",
         "hidden": false,
         "locked": false
        },
        {
         "code": ">>> 0.6 < abs(1 - np.mean(abalone_predictions.column(2)) / 100) <= 0.93\nTrue",
         "hidden": false,
         "locked": false
        }
       ],
       "scored": true,
       "setup": "",
       "teardown": "",
       "type": "doctest"
      }
     ]
    },
    "q3_3": {
     "name": "q3_3",
     "points": null,
     "suites": [
      {
       "cases": [
        {
         "code": ">>> set(abalone_residuals.labels) == set(['Length', 'Shell weight', 'Rings', 'predicted Rings', 'residual'])\nTrue",
         "hidden": false,
         "locked": false
        },
        {
         "code": ">>> abs(sum(abalone_residuals.column('residual'))) <= 1.5e-12\nTrue",
         "hidden": false,
         "locked": false
        }
       ],
       "scored": true,
       "setup": "",
       "teardown": "",
       "type": "doctest"
      }
     ]
    },
    "q4_1": {
     "name": "q4_1",
     "points": null,
     "suites": [
      {
       "cases": [
        {
         "code": ">>> 12 - zero_grams_predicted_age * 1.4 / 4 <= 10.5\nTrue",
         "hidden": false,
         "locked": false
        },
        {
         "code": ">>> 9 < zero_grams_predicted_age + intercept <= 13.4\nTrue",
         "hidden": false,
         "locked": false
        },
        {
         "code": ">>> 1 < 2 - point_248_grams_predicted_age / 35 <= 1.75\nTrue",
         "hidden": false,
         "locked": false
        },
        {
         "code": ">>> 1 < (26 - two_grams_predicted_age / 30) / 10 <= 2.5\nTrue",
         "hidden": false,
         "locked": false
        }
       ],
       "scored": true,
       "setup": "",
       "teardown": "",
       "type": "doctest"
      }
     ]
    },
    "q5_1": {
     "name": "q5_1",
     "points": null,
     "suites": [
      {
       "cases": [
        {
         "code": ">>> 0 < abalone_length_r < 1\nTrue",
         "hidden": false,
         "locked": false
        },
        {
         "code": ">>> round(abalone_length_r, 3) == 0.686\nTrue",
         "hidden": false,
         "locked": false
        }
       ],
       "scored": true,
       "setup": "",
       "teardown": "",
       "type": "doctest"
      }
     ]
    },
    "q5_2": {
     "name": "q5_2",
     "points": null,
     "suites": [
      {
       "cases": [
        {
         "code": ">>> np.allclose([age_abalone_length(0.2), age_abalone_length(0.3)], [4.285869366273605, 5.868594941047705])\nTrue",
         "hidden": false,
         "locked": false
        }
       ],
       "scored": true,
       "setup": "",
       "teardown": "",
       "type": "doctest"
      }
     ]
    },
    "q5_3": {
     "name": "q5_3",
     "points": null,
     "suites": [
      {
       "cases": [
        {
         "code": ">>> 6 < predicted_age_using_length < 7\nTrue",
         "hidden": false,
         "locked": false
        },
        {
         "code": ">>> np.isclose(predicted_age_using_length, 6.343412613479936)\nTrue",
         "hidden": false,
         "locked": false
        }
       ],
       "scored": true,
       "setup": "",
       "teardown": "",
       "type": "doctest"
      }
     ]
    }
   }
  }
 },
 "nbformat": 4,
 "nbformat_minor": 5
}
