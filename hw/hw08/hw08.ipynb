{
 "cells": [
  {
   "cell_type": "code",
   "execution_count": null,
   "id": "d1f0d011",
   "metadata": {},
   "outputs": [],
   "source": [
    "# Initialize Otter\n",
    "import otter\n",
    "grader = otter.Notebook(\"hw08.ipynb\")"
   ]
  },
  {
   "cell_type": "markdown",
   "id": "df451c69",
   "metadata": {},
   "source": [
    "# Homework 8: Confidence Intervals"
   ]
  },
  {
   "cell_type": "markdown",
   "id": "bf75338b",
   "metadata": {},
   "source": [
    "**Helpful Resource:**\n",
    "\n",
    "- [Python Reference](http://data8.org/fa23/reference/): Cheat sheet of helpful array & table methods used in Data 8!\n",
    "\n",
    "**Recommended Reading**: \n",
    "\n",
    "* [Estimation](https://www.inferentialthinking.com/chapters/13/Estimation)"
   ]
  },
  {
   "cell_type": "markdown",
   "id": "1c59f57d",
   "metadata": {},
   "source": [
    "Please complete this notebook by filling in the cells provided. Before you begin, execute the following cell to setup the notebook by importing some helpful libraries. Each time you start your server, you will need to execute this cell again.\n",
    "\n",
    "For all problems that you must write explanations and sentences for, you **must** provide your answer in the designated space. **Moreover, throughout this homework and all future ones, please be sure to not re-assign variables throughout the notebook!** For example, if you use `max_temperature` in your answer to one question, do not reassign it later on. Otherwise, you will fail tests that you thought you were passing previously!\n",
    "\n",
    "\n",
    "**Note: This homework has hidden tests on it. That means even though the tests may say 100% passed, it doesn't mean your final grade will be 100%. We will be running more tests for correctness once everyone turns in the homework.**\n",
    "\n",
    "\n",
    "Directly sharing answers is not okay, but discussing problems with the course staff or with other students is encouraged. \n",
    "\n",
    "You should start early so that you have time to get help if you're stuck."
   ]
  },
  {
   "cell_type": "code",
   "execution_count": null,
   "id": "58f69155",
   "metadata": {},
   "outputs": [],
   "source": [
    "# Don't change this cell; just run it. \n",
    "\n",
    "import numpy as np\n",
    "from datascience import *\n",
    "\n",
    "# These lines do some fancy plotting magic.\",\n",
    "import matplotlib\n",
    "%matplotlib inline\n",
    "import matplotlib.pyplot as plt\n",
    "plt.style.use('fivethirtyeight')\n",
    "import warnings\n",
    "warnings.simplefilter('ignore')"
   ]
  },
  {
   "cell_type": "markdown",
   "id": "ca83a993",
   "metadata": {},
   "source": [
    "## 1. Athletic Shoe Brands Preferred by Laney College Students"
   ]
  },
  {
   "cell_type": "markdown",
   "id": "9c760bda",
   "metadata": {},
   "source": [
    "Camron and Jamal are curious to determine the most favored athletic shoe brand among Laney College students. They conduct a survey of 1,300 Laney College students, chosen uniformly at random, inquiring about each student's preferred athletic shoe brand. (Note: The data mentioned here is created for the purposes of this assignment.) The options given were [Nike](https://www.nike.com/?cp=90083564018_search_-nike-g-20300414621-150548537237-e-c---681090968314-kwd-19354280-9032064&gad_source=1&gclid=Cj0KCQjw2a6wBhCVARIsABPeH1vU0ZDJ9KF1XXhS8AnRw74m80_2ifsykmyNncn502TWUh1QdJ5eRbUaAlF6EALw_wcB&gclsrc=aw.ds), [Adidas](https://www.adidas.com/us/sale?af_channel=Search&af_click_lookback=30d&af_reengagement_window=30d&c=adidas-Trademark-General-B-new&cm_mmc=AdieSEM_Google-_-adidas-Trademark-General-B-new-_-Trademark-X-X-Unknown-Exact-_-43700014909128661&cm_mmca1=US&cm_mmca2=&ds_agid=58700001939460312&gad_source=1&gclid=Cj0KCQjw2a6wBhCVARIsABPeH1uWeEROEnKb3-1EnI0N1QxpwdnoxUnoUfBEuP8Gj7Rg5FaBlX5UlPcaAgb2EALw_wcB&gclsrc=aw.ds&is_retargeting=true&pid=googleadwords_temp), [Hoka](https://www.hoka.com/en/us/?utm_source=google&utm_medium=ppc_brand&gad_source=1&gclid=Cj0KCQjw2a6wBhCVARIsABPeH1vG6gJ2Ksc6RhSCklpZcpPm6n9ly49aE2-bCIh41VUdvq-XlRM5clsaAmxzEALw_wcB&gclsrc=aw.ds), and [Puma](https://us.puma.com/us/en?gad_source=1&gclid=Cj0KCQjw2a6wBhCVARIsABPeH1ufQhQ1gSVI1Ta1Qpo_2mFnsxf1jVnXBGfE2fMg3z45dHOlwA36Yh8aAkdDEALw_wcB). Upon analyzing the survey results, Camron and Jamal present the following percentages from their sample:\n",
    "\n",
    "|Shoes  | Percentage|\n",
    "|:------------:|:------------:|\n",
    "|Nike | 44% |\n",
    "|Adidas | 26% |\n",
    "|Hoka | 17% |\n",
    "|Puma | 13% |\n",
    "\n",
    "These percentages are derived from a uniform random sample of Laney College's student population. Our goal is to estimate the corresponding *parameters*, or true preference rates for each shoe brand within the *population* (i.e., all students at Laney College) based on this sample data. We will use confidence intervals to compute a range of values that reflects the uncertainty of our estimates.\n",
    "\n",
    "\n",
    "The table `preferences` contains the results of Camron and Jamal's survey."
   ]
  },
  {
   "cell_type": "code",
   "execution_count": null,
   "id": "6e58e0f5",
   "metadata": {},
   "outputs": [],
   "source": [
    "# Just run this cell\n",
    "preferences = Table.read_table('preferences.csv')\n",
    "preferences"
   ]
  },
  {
   "cell_type": "markdown",
   "id": "670fc03f",
   "metadata": {},
   "source": [
    "**Question 1.1.** Complete the function `one_resampled_percentage` below. It should return Nike's ***percentage*** of times it was prefered after taking the original table (`tbl`) and performing one bootstrap sample of it. Reminder that a percentage is between 0 and 100. **(9 Points)**\n",
    "\n",
    "*Note:* `tbl` will always be in the same format as `preferences`.\n",
    "\n",
    "*Hint:* Given a table of votes, how can you figure out what percentage of the votes are for a certain shoe brand? **Be sure to use percentages, not proportions, for this question!**\n"
   ]
  },
  {
   "cell_type": "code",
   "execution_count": null,
   "id": "b957a5cb",
   "metadata": {},
   "outputs": [],
   "source": [
    "def one_resampled_percentage(tbl):\n",
    "    ...\n",
    "\n",
    "one_resampled_percentage(preferences)"
   ]
  },
  {
   "cell_type": "code",
   "execution_count": null,
   "id": "5b9b0d56",
   "metadata": {},
   "outputs": [],
   "source": [
    "grader.check(\"q1_1\")"
   ]
  },
  {
   "cell_type": "markdown",
   "id": "5cc949b8",
   "metadata": {},
   "source": [
    "**Question 1.2.** Complete the `percentages_in_resamples` function such that it simulates and returns an array of 2000 elements, where each element represents a bootstrapped estimate of the percentage of students who will prefer Nike. You should use the `one_resampled_percentage` function you wrote above. **(9 Points)**\n"
   ]
  },
  {
   "cell_type": "code",
   "execution_count": null,
   "id": "429d07b2",
   "metadata": {},
   "outputs": [],
   "source": [
    "def percentages_in_resamples():\n",
    "    percentage_nike = make_array()\n",
    "    ..."
   ]
  },
  {
   "cell_type": "code",
   "execution_count": null,
   "id": "eefc5875",
   "metadata": {},
   "outputs": [],
   "source": [
    "grader.check(\"q1_2\")"
   ]
  },
  {
   "cell_type": "markdown",
   "id": "30d276a5",
   "metadata": {},
   "source": [
    "In the following cell, we run the function you just defined, `percentages_in_resamples`, and create a histogram of the calculated statistic for the 2000 bootstrap estimates of the percentage of students who prefered Nike. \n",
    "\n",
    "*Note:* This might take a few seconds to run."
   ]
  },
  {
   "cell_type": "code",
   "execution_count": null,
   "id": "60932d2a",
   "metadata": {},
   "outputs": [],
   "source": [
    "resampled_percentages = percentages_in_resamples()\n",
    "Table().with_column('Estimated Percentage', resampled_percentages).hist(\"Estimated Percentage\")"
   ]
  },
  {
   "cell_type": "markdown",
   "id": "9bafe3dd",
   "metadata": {},
   "source": [
    "**Question 1.3.** Using the array `resampled_percentages`, find the values at the two edges of the middle 90% of the bootstrapped percentage estimates. Compute the lower and upper ends of the interval, named `nike_lower_bound` and `nike_upper_bound` respectively. **(9 Points)**\n",
    "\n",
    "*Hint:* If you are stuck on this question, try looking over [Chapter 13](https://inferentialthinking.com/chapters/13/Estimation.html) of the textbook.\n"
   ]
  },
  {
   "cell_type": "code",
   "execution_count": null,
   "id": "801120d3",
   "metadata": {},
   "outputs": [],
   "source": [
    "nike_lower_bound = ...\n",
    "nike_upper_bound = ...\n",
    "print(f\"Bootstrapped 90% confidence interval for the percentage of students who prefered Nike in the population: [{nike_lower_bound:.2f}, {nike_upper_bound:.2f}]\")"
   ]
  },
  {
   "cell_type": "code",
   "execution_count": null,
   "id": "94ad1a7c",
   "metadata": {},
   "outputs": [],
   "source": [
    "grader.check(\"q1_3\")"
   ]
  },
  {
   "cell_type": "markdown",
   "id": "c604acae",
   "metadata": {},
   "source": [
    "**Question 1.4.** The survey results seem to indicate that Nike is beating each of the other shoe brands among the students. However, all the other shoe brands combined have a lead over Nike. We would like to use confidence intervals to determine a range of likely values for the true lead all the other shoe brands combined have over Nike. The calculation for Nike's position behind Adidas, Hoka, and Puma combined is:\n",
    "\n",
    "$$(\\text{100 percent} - \\text{Nike's percent of student preference})    -\\text{Nike's percent of the student preference}$$\n",
    "\n",
    "Define the function `one_resampled_difference` that returns from one bootstrap sample of `tbl`, **exactly one value** of the percentage lead Adidas, Hoka, and Puma combined have over Nike. **(9 Points)**\n",
    "\n",
    "*Hint 1:* Nike's leading all the other brands individually but not combined. We need to create a confidence interval that reflects the combined lead of the other brands over Nike.\n",
    "\n",
    "*Hint 2:* Given a table of preferences, how can you figure out what percentage of the students prefer a certain shoe brand? **Be sure to use percentages, not proportions, for this question!**\n",
    "\n",
    "*Note:* If the skeleton code provided within the function is not helpful for you, feel free to approach the question using your own variables.\n"
   ]
  },
  {
   "cell_type": "code",
   "execution_count": null,
   "id": "8fa5c293",
   "metadata": {},
   "outputs": [],
   "source": [
    "def one_resampled_difference(tbl):\n",
    "    bootstrap_sample = ...\n",
    "    Nike_percentage = ...\n",
    "    ..."
   ]
  },
  {
   "cell_type": "code",
   "execution_count": null,
   "id": "4dca7997",
   "metadata": {},
   "outputs": [],
   "source": [
    "grader.check(\"q1_4\")"
   ]
  },
  {
   "cell_type": "markdown",
   "id": "78d13cfc",
   "metadata": {},
   "source": [
    "<!-- BEGIN QUESTION -->\n",
    "\n",
    "**Question 1.5.** Write a function called `leads_in_resamples` that returns an array of 2000 elements representing the bootstrapped estimates (the result of calling `one_resampled_difference`) of Adidas, Hoka, and Puma's combined lead over Nike. Afterwards, run the cell to plot a histogram of the resulting samples. **(9 Points)**\n",
    "\n",
    "*Hint:* If you see an error involving `NoneType`, consider what components a function needs to have!\n"
   ]
  },
  {
   "cell_type": "code",
   "execution_count": null,
   "id": "ad1e96c0",
   "metadata": {},
   "outputs": [],
   "source": [
    "def leads_in_resamples():\n",
    "    ...\n",
    "\n",
    "sampled_leads = leads_in_resamples()\n",
    "Table().with_column('Estimated Lead', sampled_leads).hist(\"Estimated Lead\")"
   ]
  },
  {
   "cell_type": "markdown",
   "id": "d9d07cce",
   "metadata": {},
   "source": [
    "<!-- END QUESTION -->\n",
    "\n",
    "**Question 1.6.** Use the simulated data in `sampled_leads` from Question 1.5 to compute an approximate 90% confidence interval for Adidas, Hoka, and Puma's combined true lead over Nike. **(9 Points)**\n"
   ]
  },
  {
   "cell_type": "code",
   "execution_count": null,
   "id": "d8d12b5d",
   "metadata": {},
   "outputs": [],
   "source": [
    "diff_lower_bound = ...\n",
    "diff_upper_bound = ...\n",
    "print(\"Bootstrapped 90% confidence interval for Adidas, Hoka, and Puma's combined true lead over Nike: [{:f}%, {:f}%]\".format(diff_lower_bound, diff_upper_bound))"
   ]
  },
  {
   "cell_type": "code",
   "execution_count": null,
   "id": "7eb96dd9",
   "metadata": {},
   "outputs": [],
   "source": [
    "grader.check(\"q1_6\")"
   ]
  },
  {
   "cell_type": "markdown",
   "id": "a9ff3c0a",
   "metadata": {},
   "source": [
    "## 2. Interpreting Confidence Intervals "
   ]
  },
  {
   "cell_type": "markdown",
   "id": "9691f599",
   "metadata": {},
   "source": [
    "The staff computed the following 90% confidence interval for the percentage of students who prefered Nike: \n",
    "\n",
    "$$[41.8, 46.27]$$\n",
    "\n",
    "(Your answer may have been a bit different due to randomness; that doesn't mean it was wrong!)"
   ]
  },
  {
   "cell_type": "markdown",
   "id": "8c61a713",
   "metadata": {},
   "source": [
    "<!-- BEGIN QUESTION -->\n",
    "\n",
    "**Question 2.1.** The staff also created 70%, 95%, 99% confidence intervals from the same sample, but forgot to label which confidence interval represented which percentages. **First**, determine which confidence level (70%, 95%, or 99%) corresponds to the 99% confidence interval from the sample below. **Then**, explain your thought process and why you picked your answer **(10 Points)**\n",
    "\n",
    "The intervals are below:\n",
    "\n",
    "* [42.65, 45.62]\n",
    "* [41.42, 46.81]\n",
    "* [40.65, 47.96]\n",
    "\n",
    "\n"
   ]
  },
  {
   "cell_type": "markdown",
   "id": "5bdc3179",
   "metadata": {},
   "source": [
    "_Type your answer here, replacing this text._"
   ]
  },
  {
   "cell_type": "markdown",
   "id": "8176d8d4",
   "metadata": {},
   "source": [
    "<!-- END QUESTION -->\n",
    "\n",
    "**Question 2.2.** Suppose we produced 5,000 new samples (each one a new/distinct uniform random sample of 1,300 students) from the population and created a 90% confidence interval from each one. Roughly how many of those 5,000 intervals do you expect will actually contain the true percentage of the population? **(9 Points)**\n",
    "\n",
    "Assign your answer to `true_percentage_intervals`.\n"
   ]
  },
  {
   "cell_type": "code",
   "execution_count": null,
   "id": "6e84dc58",
   "metadata": {},
   "outputs": [],
   "source": [
    "true_percentage_intervals = ..."
   ]
  },
  {
   "cell_type": "code",
   "execution_count": null,
   "id": "9869ce5a",
   "metadata": {},
   "outputs": [],
   "source": [
    "grader.check(\"q2_2\")"
   ]
  },
  {
   "cell_type": "markdown",
   "id": "07d06bef",
   "metadata": {},
   "source": [
    "Recall the second bootstrap confidence interval you created, which estimated Adidas, Hoka, and Puma combined lead over Nike. Among students in the sample, Nike was behind 8%. The staff's 90% confidence interval for the true lead (in the population of all voters) was:\n",
    "\n",
    "$$[7.467283, 16.397229]$$\n",
    "\n",
    "Suppose we are interested in testing a simple yes-or-no question:\n",
    "\n",
    "> \"Is the percentage of students who prefer Nike equal to the percentage of students who prefer Adidas, Hoka, and Puma combined?\"\n",
    "\n",
    "Our null hypothesis is that the percentages are equal, or equivalently, that Adidas, Hoka, and Puma's combined lead is exactly 0. Our alternative hypothesis is that Adidas, Hoka, and Puma's combined lead is not equal to 0.  In the questions below, don't compute any confidence interval yourself—use only the staff's 90% confidence interval."
   ]
  },
  {
   "cell_type": "markdown",
   "id": "48bc78f9",
   "metadata": {},
   "source": [
    "**Question 2.3.** Say we use a 10% p-value cutoff. Do we reject the null, fail to reject the null, or are we unable to tell using the staff's confidence interval? **(9 Points)**\n",
    "\n",
    "Assign `cutoff_ten_percent` to the number corresponding to the correct answer.\n",
    "\n",
    "1. Fail to reject the null / Data is consistent with the null hypothesis\n",
    "2. Reject the null / Data is consistent with the alternative hypothesis\n",
    "3. Unable to tell using our staff confidence interval.\n",
    "\n",
    "*Hint:* Consider the relationship between the p-value cutoff and confidence. If you're confused, take a look at [this chapter](https://inferentialthinking.com/chapters/13/4/Using_Confidence_Intervals.html) of the textbook.\n"
   ]
  },
  {
   "cell_type": "code",
   "execution_count": null,
   "id": "4e294f26",
   "metadata": {},
   "outputs": [],
   "source": [
    "cutoff_ten_percent = ..."
   ]
  },
  {
   "cell_type": "code",
   "execution_count": null,
   "id": "1a029988",
   "metadata": {},
   "outputs": [],
   "source": [
    "grader.check(\"q2_3\")"
   ]
  },
  {
   "cell_type": "markdown",
   "id": "26085d99",
   "metadata": {},
   "source": [
    "**Question 2.4.** What if, instead, we use a p-value cutoff of 15%? Do we reject the null, fail to reject the null, or are we unable to tell using our staff confidence interval? **(9 Points)**\n",
    "\n",
    "Assign `cutoff_fifteen_percent` to the number corresponding to the correct answer.\n",
    "\n",
    "1. Fail to reject the null / Data is consistent with the null hypothesis\n",
    "2. Reject the null / Data is consistent with the alternative hypothesis\n",
    "3. Unable to tell using our staff confidence interval.\n"
   ]
  },
  {
   "cell_type": "code",
   "execution_count": null,
   "id": "b5e83728",
   "metadata": {},
   "outputs": [],
   "source": [
    "cutoff_fifteen_percent = ..."
   ]
  },
  {
   "cell_type": "code",
   "execution_count": null,
   "id": "ce474ea0",
   "metadata": {},
   "outputs": [],
   "source": [
    "grader.check(\"q2_4\")"
   ]
  },
  {
   "cell_type": "markdown",
   "id": "e79c8efd",
   "metadata": {},
   "source": [
    "**Question 2.5.** What if we use a p-value cutoff of 1%? Do we reject, fail to reject, or are we unable to tell using our confidence interval? **(9 Points)**\n",
    "\n",
    "Assign `cutoff_one_percent` to the number corresponding to the correct answer.\n",
    "\n",
    "1. Fail to reject the null / Data is consistent with the null hypothesis\n",
    "2. Reject the null / Data is consistent with the alternative hypothesis\n",
    "3. Unable to tell using our staff confidence interval.\n"
   ]
  },
  {
   "cell_type": "code",
   "execution_count": null,
   "id": "d5f1fa73",
   "metadata": {},
   "outputs": [],
   "source": [
    "cutoff_one_percent = ..."
   ]
  },
  {
   "cell_type": "code",
   "execution_count": null,
   "id": "c8177920",
   "metadata": {},
   "outputs": [],
   "source": [
    "grader.check(\"q2_5\")"
   ]
  },
  {
   "cell_type": "markdown",
   "id": "15d3c964",
   "metadata": {},
   "source": [
    "You're done with Homework 8!  \n",
    "\n",
    "**Important submission steps:** \n",
    "1. Run the tests and verify that they all pass.\n",
    "2. Choose **Save Notebook** from the **File** menu, then **run the final cell**. \n",
    "3. Click the link to download the zip file.\n",
    "4. Then submit the zip file to the corresponding assignment according to your instructor's directions. \n",
    "\n",
    "**It is your responsibility to make sure your work is saved before running the last cell.**"
   ]
  },
  {
   "cell_type": "markdown",
   "id": "6b2cec70",
   "metadata": {},
   "source": [
    "---\n",
    "\n",
    "To double-check your work, the cell below will rerun all of the autograder tests."
   ]
  },
  {
   "cell_type": "code",
   "execution_count": null,
   "id": "577bfa8f",
   "metadata": {},
   "outputs": [],
   "source": [
    "grader.check_all()"
   ]
  },
  {
   "cell_type": "markdown",
   "id": "d24d889f",
   "metadata": {},
   "source": [
    "## Submission\n",
    "\n",
    "Make sure you have run all cells in your notebook in order before running the cell below, so that all images/graphs appear in the output. The cell below will generate a zip file for you to submit. **Please save before exporting!**"
   ]
  },
  {
   "cell_type": "code",
   "execution_count": null,
   "id": "9de337ba",
   "metadata": {},
   "outputs": [],
   "source": [
    "# Save your notebook first, then run this cell to export your submission.\n",
    "grader.export()"
   ]
  },
  {
   "cell_type": "markdown",
   "id": "092c6a9d",
   "metadata": {},
   "source": [
    " "
   ]
  }
 ],
 "metadata": {
  "celltoolbar": "Edit Metadata",
  "kernelspec": {
   "display_name": "venv",
   "language": "python",
   "name": "python3"
  },
  "language_info": {
   "codemirror_mode": {
    "name": "ipython",
    "version": 3
   },
   "file_extension": ".py",
   "mimetype": "text/x-python",
   "name": "python",
   "nbconvert_exporter": "python",
   "pygments_lexer": "ipython3"
  },
  "otter": {
   "OK_FORMAT": true,
   "tests": {
    "q1_1": {
     "name": "q1_1",
     "points": [
      0,
      0,
      2
     ],
     "suites": [
      {
       "cases": [
        {
         "code": ">>> type(one_resampled_percentage(preferences)) in set([float, np.float64])\nTrue",
         "hidden": false,
         "locked": false
        },
        {
         "code": ">>> one_resampled_percentage(preferences) >= 0\nTrue",
         "hidden": false,
         "locked": false
        },
        {
         "code": ">>> 25 <= one_resampled_percentage(preferences) <= 50\nTrue",
         "hidden": false,
         "locked": false
        }
       ],
       "scored": true,
       "setup": "",
       "teardown": "",
       "type": "doctest"
      }
     ]
    },
    "q1_2": {
     "name": "q1_2",
     "points": [
      0
     ],
     "suites": [
      {
       "cases": [
        {
         "code": ">>> len(percentages_in_resamples()) == 2000\nTrue",
         "hidden": false,
         "locked": false
        }
       ],
       "scored": true,
       "setup": "",
       "teardown": "",
       "type": "doctest"
      }
     ]
    },
    "q1_3": {
     "name": "q1_3",
     "points": [
      0
     ],
     "suites": [
      {
       "cases": [
        {
         "code": ">>> 35 <= nike_lower_bound <= nike_upper_bound <= 50\nTrue",
         "hidden": false,
         "locked": false
        }
       ],
       "scored": true,
       "setup": "",
       "teardown": "",
       "type": "doctest"
      }
     ]
    },
    "q1_4": {
     "name": "q1_4",
     "points": [
      0
     ],
     "suites": [
      {
       "cases": [
        {
         "code": ">>> type(one_resampled_difference(preferences)) in set([float, np.float64])\nTrue",
         "hidden": false,
         "locked": false
        }
       ],
       "scored": true,
       "setup": "",
       "teardown": "",
       "type": "doctest"
      }
     ]
    },
    "q1_6": {
     "name": "q1_6",
     "points": [
      0
     ],
     "suites": [
      {
       "cases": [
        {
         "code": ">>> -5 <= diff_lower_bound <= diff_upper_bound <= 20\nTrue",
         "hidden": false,
         "locked": false
        }
       ],
       "scored": true,
       "setup": "",
       "teardown": "",
       "type": "doctest"
      }
     ]
    },
    "q2_2": {
     "name": "q2_2",
     "points": [
      0
     ],
     "suites": [
      {
       "cases": [
        {
         "code": ">>> 1000 <= true_percentage_intervals <= 6000\nTrue",
         "hidden": false,
         "locked": false
        }
       ],
       "scored": true,
       "setup": "",
       "teardown": "",
       "type": "doctest"
      }
     ]
    },
    "q2_3": {
     "name": "q2_3",
     "points": [
      0,
      0,
      0
     ],
     "suites": [
      {
       "cases": [
        {
         "code": ">>> 1 <= cutoff_ten_percent <= 3\nTrue",
         "hidden": false,
         "locked": false
        },
        {
         "code": ">>> cutoff_ten_percent != 3\nTrue",
         "hidden": false,
         "locked": false
        },
        {
         "code": ">>> cutoff_ten_percent != 1\nTrue",
         "hidden": false,
         "locked": false
        }
       ],
       "scored": true,
       "setup": "",
       "teardown": "",
       "type": "doctest"
      }
     ]
    },
    "q2_4": {
     "name": "q2_4",
     "points": [
      0
     ],
     "suites": [
      {
       "cases": [
        {
         "code": ">>> 1 <= cutoff_fifteen_percent <= 3\nTrue",
         "hidden": false,
         "locked": false
        }
       ],
       "scored": true,
       "setup": "",
       "teardown": "",
       "type": "doctest"
      }
     ]
    },
    "q2_5": {
     "name": "q2_5",
     "points": [
      0
     ],
     "suites": [
      {
       "cases": [
        {
         "code": ">>> 1 <= cutoff_one_percent <= 3\nTrue",
         "hidden": false,
         "locked": false
        }
       ],
       "scored": true,
       "setup": "",
       "teardown": "",
       "type": "doctest"
      }
     ]
    }
   }
  }
 },
 "nbformat": 4,
 "nbformat_minor": 5
}
