{
 "cells": [
  {
   "cell_type": "code",
   "execution_count": null,
   "metadata": {},
   "outputs": [],
   "source": [
    "# Initialize Otter\n",
    "import otter\n",
    "grader = otter.Notebook(\"hw03.ipynb\")"
   ]
  },
  {
   "cell_type": "markdown",
   "metadata": {},
   "source": [
    "# Homework 3: Table Manipulation and Visualization\n",
    "\n",
    "Please complete this notebook by filling in the cells provided. Before you begin, execute the previous cell to load the provided tests."
   ]
  },
  {
   "cell_type": "markdown",
   "metadata": {},
   "source": [
    "**Helpful Resource:**\n",
    "- [Python Reference](http://data8.org/sp22/python-reference.html): Cheat sheet of helpful array & table methods used in Data 8!\n",
    "\n",
    "**Recommended Reading**: \n",
    "* [Visualization](https://inferentialthinking.com/chapters/07/Visualization.html)"
   ]
  },
  {
   "cell_type": "markdown",
   "metadata": {},
   "source": [
    "For all problems that you must write explanations and sentences for, you **must** provide your answer in the designated space. **Moreover, throughout this homework and all future ones, please be sure to not re-assign variables throughout the notebook!** For example, if you use `max_temperature` in your answer to one question, do not reassign it later on. Otherwise, you will fail tests that you thought you were passing previously!\n",
    "\n",
    "\n",
    "**Note: This homework has hidden tests on it. That means even though tests may say 100% passed, doesn't mean your final grade will be 100%. We will be running more tests for correctness once everyone turns in the homework.**\n",
    "\n",
    "\n",
    "Directly sharing answers is not okay, but discussing problems with the course staff or with other students is encouraged. \n",
    "\n",
    "You should start early so that you have time to get help if you're stuck."
   ]
  },
  {
   "cell_type": "code",
   "execution_count": null,
   "metadata": {},
   "outputs": [],
   "source": [
    "# Don't change this cell; just run it. \n",
    "\n",
    "import numpy as np\n",
    "from datascience import *\n",
    "import warnings\n",
    "warnings.simplefilter('ignore', FutureWarning)\n",
    "\n",
    "# These lines do some fancy plotting magic.\\n\",\n",
    "import matplotlib\n",
    "%matplotlib inline\n",
    "import matplotlib.pyplot as plots\n",
    "plots.style.use('fivethirtyeight')"
   ]
  },
  {
   "cell_type": "markdown",
   "metadata": {},
   "source": [
    "## 1. Unemployment"
   ]
  },
  {
   "cell_type": "markdown",
   "metadata": {},
   "source": [
    "The Great Recession of 2008-2009 was a period of economic decline observed globally, with scale and timing varying from country to country. In the United States, it resulted in a rapid rise in unemployment that affected industries and population groups to different extents.\n",
    "\n",
    "The Employment Development Department publishes data about jobs in CA.  Below, we've loaded data on unemployment in the CA. The unemployment rate represents the number of unemployed as a percentage of the labor force. Labor force data are restricted to people 16 years of age and older, who currently reside in CA, who do not reside in institutions (e.g., penal and mental facilities, homes for the aged), and who are not on active duty in the Armed Forces.\n",
    "\n",
    "Over the course of a year, the size of the labor force, the levels of employment and unemployment, and other measures of labor market activity undergo fluctuations due to seasonal events including changes in weather, harvests, major holidays, and school schedules. Because these seasonal events follow a more or less regular pattern each year, their influence on statistical trends can be eliminated by seasonally adjusting the statistics from month to month. These seasonal adjustments make it easier to observe the cyclical, underlying trend, and other nonseasonal movements in the series. The data provided includes seasonally adjusted and non-seasonally adjusted data.\n",
    "\n",
    "1. Among people who are able to work and are looking for a full-time job, the percentage who can't find a job.  This is called the Non-Employment Index, or NEI.\n",
    "2. Among people who are able to work and are looking for a full-time job, the percentage who can't find any job *or* are only working at a part-time job.  The latter group is called \"Part-Time for Economic Reasons\", so the acronym for this index is NEI-PTER.  (Economists are great at marketing.)\n",
    "\n",
    "The source of the data is [here](https://fred.stlouisfed.org/categories/33509)."
   ]
  },
  {
   "cell_type": "markdown",
   "metadata": {},
   "source": [
    "**Question 1.** The data are in a CSV file called `Unemployment_rate_CA.csv`.  Load that file into a table called `ca_unemployment`. **(4 Points)**\n"
   ]
  },
  {
   "cell_type": "code",
   "execution_count": null,
   "metadata": {},
   "outputs": [],
   "source": [
    "ca_unemployment = ...\n",
    "ca_unemployment"
   ]
  },
  {
   "cell_type": "code",
   "execution_count": null,
   "metadata": {},
   "outputs": [],
   "source": [
    "grader.check(\"q1_1\")"
   ]
  },
  {
   "cell_type": "markdown",
   "metadata": {},
   "source": [
    "**Question 2.** Sort the data in descending order by the Seasonally Adjusted rate, naming the sorted table `by_season`.  Create another table called `by_not_season` that's sorted in descending order by the Not Seasonally Adjusted rate instead. **(4 Points)**\n"
   ]
  },
  {
   "cell_type": "code",
   "execution_count": null,
   "metadata": {},
   "outputs": [],
   "source": [
    "by_season = ...\n",
    "by_not_season = ..."
   ]
  },
  {
   "cell_type": "code",
   "execution_count": null,
   "metadata": {},
   "outputs": [],
   "source": [
    "grader.check(\"q1_2\")"
   ]
  },
  {
   "cell_type": "code",
   "execution_count": null,
   "metadata": {},
   "outputs": [],
   "source": [
    "# Run this cell to check your by_season table. You do not need to change the code.\n",
    "by_season.show(5)"
   ]
  },
  {
   "cell_type": "code",
   "execution_count": null,
   "metadata": {},
   "outputs": [],
   "source": [
    "# Run this cell to check your by_not_season table. You do not need to change the code.\n",
    "by_not_season.show(5)"
   ]
  },
  {
   "cell_type": "markdown",
   "metadata": {},
   "source": [
    "**Question 3.** Use `take` to make a table containing the data for the 12 months when the Seasonally Adjusted unemployment rate was smallest.  Call that table `smallest_season`.\n",
    "\n",
    "`smallest_season` should be sorted in ascending order of `Seasonally Adjusted`. Note that each row of `ca_unemployment` represents a month. **(4 Points)**\n"
   ]
  },
  {
   "cell_type": "code",
   "execution_count": null,
   "metadata": {},
   "outputs": [],
   "source": [
    "smallest_season = ...\n",
    "smallest_season"
   ]
  },
  {
   "cell_type": "code",
   "execution_count": null,
   "metadata": {},
   "outputs": [],
   "source": [
    "grader.check(\"q1_3\")"
   ]
  },
  {
   "cell_type": "markdown",
   "metadata": {},
   "source": [
    "**Question 4.** The unemployment rates differ depending on whether you look at the Seasonally Adjusted or Not Seasonally Adjusted rates. Typically, the monthly employment and unemployment numbers reported in the news are seasonally adjusted data. Seasonally adjusted data are useful when comparing several months of data. Annual average estimates are calculated from the not seasonally adjusted data series.\n",
    "\n",
    "Compute an array containing the difference between the Seasonally Adjusted and Not Seasonally Adjusted rates.  (The first element of the array should correspond to the first row of `ca_unemployment`, and so on.) **(4 Points)**\n",
    "\n",
    "*Note:* Use the original `ca_unemployment` table for this.\n"
   ]
  },
  {
   "cell_type": "code",
   "execution_count": null,
   "metadata": {},
   "outputs": [],
   "source": [
    "diff = ...\n",
    "diff"
   ]
  },
  {
   "cell_type": "code",
   "execution_count": null,
   "metadata": {},
   "outputs": [],
   "source": [
    "grader.check(\"q1_4\")"
   ]
  },
  {
   "cell_type": "markdown",
   "metadata": {},
   "source": [
    "**Question 5.** Add `diff` as a column to `ca_unemployment` (name the column `Difference`) and sort the resulting table by that column in descending order.  Call the resulting table `by_diff`.\n",
    "\n",
    "Try to do this with a single line of code, if you can. **(4 Points)**\n"
   ]
  },
  {
   "cell_type": "code",
   "execution_count": null,
   "metadata": {},
   "outputs": [],
   "source": [
    "by_diff = ...\n",
    "by_diff"
   ]
  },
  {
   "cell_type": "code",
   "execution_count": null,
   "metadata": {},
   "outputs": [],
   "source": [
    "grader.check(\"q1_5\")"
   ]
  },
  {
   "cell_type": "markdown",
   "metadata": {},
   "source": [
    "**Question 6.** Create a line plot of Seasonally Adjusted rates over time. To do this, create a new table called `season_over_time` by making a copy of the `ca_unemployment` table and including only the columns `Date` and `Seasonally Adjusted`, and adding a new column: `Year` using the `year` array. Then, generate a line plot using one of the table methods you've learned in class.\n",
    "\n",
    "The order of the columns matter for our correctness tests, so be sure `Year` comes before `Seasonally Adjusted`. **(4 Points)**\n",
    "\n",
    "*Note:* When constructing `season_over_time`, do not just add the `year` column to the `by_season` table. Please follow the directions in the question above.\n"
   ]
  },
  {
   "cell_type": "code",
   "execution_count": null,
   "metadata": {},
   "outputs": [],
   "source": [
    "year = 1976 + np.arange(by_season.num_rows)/10\n",
    "year\n",
    "season = ca_unemployment.column(\"Seasonally Adjusted\")\n",
    "season_over_time = ...\n",
    "season_over_time\n",
    "...\n",
    "plots.ylim(0,20); # Do not change this line"
   ]
  },
  {
   "cell_type": "code",
   "execution_count": null,
   "metadata": {},
   "outputs": [],
   "source": [
    "grader.check(\"q1_6\")"
   ]
  },
  {
   "cell_type": "markdown",
   "metadata": {},
   "source": [
    "**Question 7.** Were Seasonally Adjusted unemployment rates higher during the Great Recession (that is in the years 2008 through 2011) than during 2020? Assign `high_rates` to `True` if you think Seasonally Adjusted rates were higher during the Great Recession time period, or `False` if you think they weren't. **(4 Points)**\n"
   ]
  },
  {
   "cell_type": "code",
   "execution_count": null,
   "metadata": {},
   "outputs": [],
   "source": [
    "high_rates = ..."
   ]
  },
  {
   "cell_type": "code",
   "execution_count": null,
   "metadata": {},
   "outputs": [],
   "source": [
    "grader.check(\"q1_7\")"
   ]
  },
  {
   "cell_type": "markdown",
   "metadata": {},
   "source": [
    "## 2. Birth Rates"
   ]
  },
  {
   "cell_type": "markdown",
   "metadata": {},
   "source": [
    "The following table gives Census-based population estimates for each US state on both July 1, 2015 and July 1, 2016. The last four columns describe the components of the estimated change in population during this time interval. **For all questions below, assume that the word \"states\" refers to all 52 rows including Puerto Rico and the District of Columbia.**\n",
    "\n",
    "The data was taken from [here](http://www2.census.gov/programs-surveys/popest/datasets/2010-2016/national/totals/nst-est2016-alldata.csv). (Note: If it doesn't download for you when you click the link, please copy and paste it into your address bar!) If you want to read more about the different column descriptions, click [here](http://www2.census.gov/programs-surveys/popest/datasets/2010-2015/national/totals/nst-est2015-alldata.pdf).\n",
    "\n",
    "The raw data is a bit messy\u2014run the cell below to clean the table and make it easier to work with."
   ]
  },
  {
   "cell_type": "code",
   "execution_count": null,
   "metadata": {},
   "outputs": [],
   "source": [
    "# Don't change this cell; just run it.\n",
    "pop = Table.read_table('nst-est2016-alldata.csv').where('SUMLEV', 40).select([1, 4, 12, 13, 27, 34, 62, 69])\n",
    "pop = pop.relabeled('POPESTIMATE2015', '2015').relabeled('POPESTIMATE2016', '2016')\n",
    "pop = pop.relabeled('BIRTHS2016', 'BIRTHS').relabeled('DEATHS2016', 'DEATHS')\n",
    "pop = pop.relabeled('NETMIG2016', 'MIGRATION').relabeled('RESIDUAL2016', 'OTHER')\n",
    "pop = pop.with_columns(\"REGION\", np.array([int(region) if region != \"X\" else 0 for region in pop.column(\"REGION\")]))\n",
    "pop.set_format([2, 3, 4, 5, 6, 7], NumberFormatter(decimals=0)).show(5)"
   ]
  },
  {
   "cell_type": "markdown",
   "metadata": {},
   "source": [
    "**Question 1.** Assign `west_death_rate` to the total annual death rate of the western US during this time interval. The annual death rate for a year-long period is the total number of deaths in that period as a proportion of the total population size at the start of the time period. **(4 Points)**\n",
    "\n",
    "*Hint:* Which year corresponds to the start of the time period?\n",
    "\n",
    "*Hint:* Which `REGION` in the table corresponds to the states in the western US?\n",
    "\n"
   ]
  },
  {
   "cell_type": "code",
   "execution_count": null,
   "metadata": {},
   "outputs": [],
   "source": [
    "west_region = pop.where(\"REGION\",4)\n",
    "west_death_rate = ...\n",
    "west_death_rate"
   ]
  },
  {
   "cell_type": "code",
   "execution_count": null,
   "metadata": {},
   "outputs": [],
   "source": [
    "grader.check(\"q2_1\")"
   ]
  },
  {
   "cell_type": "markdown",
   "metadata": {},
   "source": [
    "**Question 2.** Assign `increase` to the number of western US states for which the **annual number of Natural Increase** was lower than 15,000. **Natural Increase** is the difference between the numbers of births and deaths in a population. The `BIRTHS` column contains the number of net birth counts by state. The `DEATHS` column contains the number of net death counts by state.**(4 Points)**\n",
    "\n",
    "*Hint*: `west_ni_number` should be a table and `increase` should be a number.\n",
    "\n",
    "*Hint*: use name that you for `REGION` 4 in previous problem.\n"
   ]
  },
  {
   "cell_type": "code",
   "execution_count": null,
   "metadata": {},
   "outputs": [],
   "source": [
    "west_ni_number = ...\n",
    "increase = ...\n",
    "increase\n"
   ]
  },
  {
   "cell_type": "code",
   "execution_count": null,
   "metadata": {},
   "outputs": [],
   "source": [
    "grader.check(\"q2_2\")"
   ]
  },
  {
   "cell_type": "markdown",
   "metadata": {},
   "source": [
    "**Question 3.** Assign `west_increase` to an array that returns the names of all western US states in the order of highest to lowest **Natural Increase.** **(4 Points)**\n",
    "\n",
    "*Hint:* use parts of previous answer.\n"
   ]
  },
  {
   "cell_type": "code",
   "execution_count": null,
   "metadata": {},
   "outputs": [],
   "source": [
    "west_increase = ...\n",
    "west_increase"
   ]
  },
  {
   "cell_type": "code",
   "execution_count": null,
   "metadata": {},
   "outputs": [],
   "source": [
    "grader.check(\"q2_3\")"
   ]
  },
  {
   "cell_type": "markdown",
   "metadata": {},
   "source": [
    "**Question 4.** In the next question, you will be creating a visualization to understand the relationship between western states and **Natural Increase**. \n",
    "\n",
    "What visualization is most appropriate to determine which western state has the highest **Natural Increase?**\n",
    "\n",
    "1. Line Graph\n",
    "2. Bar Chart\n",
    "3. Scatter Plot\n",
    "\n",
    "Assign `visualization` below to the number corresponding to the correct visualization. **(4 Points)**\n"
   ]
  },
  {
   "cell_type": "code",
   "execution_count": null,
   "metadata": {},
   "outputs": [],
   "source": [
    "visualization = ..."
   ]
  },
  {
   "cell_type": "code",
   "execution_count": null,
   "metadata": {},
   "outputs": [],
   "source": [
    "grader.check(\"q2_4\")"
   ]
  },
  {
   "cell_type": "markdown",
   "metadata": {},
   "source": [
    "<!-- BEGIN QUESTION -->\n",
    "\n",
    "**Question 5.** In the code cell below, create a visualization that will help us determine if there is an association between western US birth rate and death rate during this time interval. It may be helpful to create an intermediate table here. **(4 Points)**\n",
    "\n",
    "Things to consider:\n",
    "\n",
    "- What type of chart will help us illustrate an association between 2 variables?\n",
    "- How can you manipulate a certain table to help generate your chart?\n",
    "- Check out the Recommended Reading for this homework!\n"
   ]
  },
  {
   "cell_type": "code",
   "execution_count": null,
   "metadata": {},
   "outputs": [],
   "source": [
    "# In this cell, use birth_rates and death_rates to generate your visualization\n",
    "birth_rates = west_region.column('BIRTHS') / west_region.column('2015')\n",
    "death_rates = west_region.column('DEATHS') / west_region.column('2015')\n",
    "..."
   ]
  },
  {
   "cell_type": "markdown",
   "metadata": {},
   "source": [
    "<!-- END QUESTION -->\n",
    "\n",
    "**Question 6.** True or False: There is an association between western US birth rate and death rate during this time interval. \n",
    "\n",
    "Assign `assoc` to `True` or `False` in the cell below. **(4 Points)**\n"
   ]
  },
  {
   "cell_type": "code",
   "execution_count": null,
   "metadata": {},
   "outputs": [],
   "source": [
    "assoc = ..."
   ]
  },
  {
   "cell_type": "code",
   "execution_count": null,
   "metadata": {},
   "outputs": [],
   "source": [
    "grader.check(\"q2_6\")"
   ]
  },
  {
   "cell_type": "markdown",
   "metadata": {},
   "source": [
    "## 3. Flint, Michigan"
   ]
  },
  {
   "cell_type": "markdown",
   "metadata": {},
   "source": [
    "Flint, Michigan is a city about an hour outside Detroit. In 2014, Flint, Michigan switched its drinking water supply from Detroit\u2019s system to the Flint River in a cost-saving move.  In September 2015 a Flint pediatrician found: The incidence of elevated blood-lead levels in children citywide had nearly doubled since 2014\u2014and nearly tripled in certain neighborhoods. In 2015, an independent group of researchers at Virginia Tech, volunteered to conduct a study into the water crisis. They collected Water samples from resident homes throughout the city and measured the lead levels. Below we load a table containing water samples collected from 272 homes from the [Flint Water Study](https://flintwaterstudy.org/2015/12/complete-dataset-lead-results-in-tap-water-for-271-flint-samples/). \n",
    "\n",
    "The `Sampleid` is the ID assigned to each household, and `Zip Code` is the zip code of the household. The `PB Bottle 1 (ppb) - First Draw` is the amount of lead (Pb) measured in parts per billion (ppb) in the water as soon as the tap turned on. The `PB Bottle 2 (ppb) - 45 secs flushing` is the amount of lead (Pb) measured in parts per billion (ppb) after water from the tap has been flushing for 45 seconds. The `PB Bottle 3 (ppb) - 2 min flushing` is the amount of lead (Pb) measured in parts per billion (ppb) after water from the tap has been flushing for 2 minutes. "
   ]
  },
  {
   "cell_type": "code",
   "execution_count": null,
   "metadata": {},
   "outputs": [],
   "source": [
    "flint = Table.read_table(\"Flint.csv\")\n",
    "print(\"Flint, Michigan\")\n",
    "flint.show(4)"
   ]
  },
  {
   "cell_type": "markdown",
   "metadata": {},
   "source": [
    "<!-- BEGIN QUESTION -->\n",
    "\n",
    "**Question 1.** Produce a histogram that visualizes the distributions of lead (Pb) measured in parts per billion (ppb) after water from the tap has been flushing for 2 minutes using the given bins in `equal_bins`. **(4 Points)**\n"
   ]
  },
  {
   "cell_type": "code",
   "execution_count": null,
   "metadata": {},
   "outputs": [],
   "source": [
    "equal_bins = np.arange(0, 20, 1.5)\n",
    "..."
   ]
  },
  {
   "cell_type": "markdown",
   "metadata": {},
   "source": [
    "<!-- END QUESTION -->\n",
    "\n",
    "<!-- BEGIN QUESTION -->\n",
    "\n",
    "**Question 2.** Now, produce a histogram that visualizes the distribution of lead (Pb) measured in parts per billion (ppb) after water from the tap has been flushing for 45 seconds using the given bins in `equal_bins`. **(4 Points)**\n"
   ]
  },
  {
   "cell_type": "code",
   "execution_count": null,
   "metadata": {},
   "outputs": [],
   "source": [
    "equal_bins = np.arange(0, 20, 1.5)\n",
    "...\n",
    "\n",
    "# Don't delete the following line!\n",
    "plots.ylim(0, .5);"
   ]
  },
  {
   "cell_type": "markdown",
   "metadata": {},
   "source": [
    "<!-- END QUESTION -->\n",
    "\n",
    "**Question 3.** Let's take a closer look at the y-axis label. Assign `unit_meaning` to an integer (1, 2, 3) that corresponds to the \"unit\" in \"Percent per unit\". **(4 Points)**\n",
    "\n",
    "1. second  \n",
    "2. minute\n",
    "3. ppb (parts per billion of lead Pb)\n"
   ]
  },
  {
   "cell_type": "code",
   "execution_count": null,
   "metadata": {},
   "outputs": [],
   "source": [
    "unit_meaning = ...\n",
    "unit_meaning"
   ]
  },
  {
   "cell_type": "code",
   "execution_count": null,
   "metadata": {},
   "outputs": [],
   "source": [
    "grader.check(\"q3_3\")"
   ]
  },
  {
   "cell_type": "markdown",
   "metadata": {},
   "source": [
    "**Question 4.** Assign `flush_45sec_under_4_point_5` to the percentage of bottles that contain less than 4.5 ppb of lead after 45 seconds of flushing. Assign `flush_2min_under_4_point_5` to the percentage of bottles that contain less than 4.5 ppb of lead after 2 minutes of flushing. Use the height variables provided below in order to compute the percentages. Your solution should only use height variables, numbers, and mathematical operations. You should **not** access the table `Flint` in any way. **(4 Points)**\n"
   ]
  },
  {
   "cell_type": "code",
   "execution_count": null,
   "metadata": {},
   "outputs": [],
   "source": [
    "flush_45sec_under__1_point_5_height = 34.9\n",
    "flush_2min_under_1_point_5_height = 41.8\n",
    "flush_45sec_1_point_5_to_under_3_height = 9.3\n",
    "flush_2min_1_point_5_to_under_3_height = 9.1\n",
    "flush_45sec_3_to_under_4_point_5_height = 5.9\n",
    "flush_2min_3_to_under_4_point_5_height = 5.4\n",
    "\n",
    "flush_45_under_4_point_5 = ...\n",
    "flush_2min_under_4_point_5 = ...\n",
    "\n",
    "flush_45_under_4_point_5, flush_2min_under_4_point_5"
   ]
  },
  {
   "cell_type": "code",
   "execution_count": null,
   "metadata": {},
   "outputs": [],
   "source": [
    "grader.check(\"q3_4\")"
   ]
  },
  {
   "cell_type": "markdown",
   "metadata": {},
   "source": [
    "**Question 5.** Let's take a closer look at the distribution of lead afer 45 seconds of flushing. Assign `flush_2min_median_bin` to an integer (1, 2, 3, or 4) that corresponds to the bin that contains the median amout of lead. **(4 Points)**\n",
    "\n",
    "1. 0-1.5 ppb  \n",
    "2. 1.5-3 ppb  \n",
    "3. 3-4.5 ppb  \n",
    "4. 4.5-6 ppb  \n",
    "\n",
    "*Hint:* The median of a sorted list has half of the list elements to its left, and half to its right.\n"
   ]
  },
  {
   "cell_type": "code",
   "execution_count": null,
   "metadata": {},
   "outputs": [],
   "source": [
    "flush_2min_median_bin = ...\n",
    "flush_2min_median_bin"
   ]
  },
  {
   "cell_type": "code",
   "execution_count": null,
   "metadata": {},
   "outputs": [],
   "source": [
    "grader.check(\"q3_5\")"
   ]
  },
  {
   "cell_type": "markdown",
   "metadata": {},
   "source": [
    "<!-- BEGIN QUESTION -->\n",
    "\n",
    "**Question 6.** Identify one difference between the histograms, in terms of the statistical properties. Can you comment on the average and/or skew of each histogram? **(4 Points)**\n",
    "\n",
    "*Hint*: The best way to do this is to compare the two histograms (from 3.1 and 3.2) visually.\n"
   ]
  },
  {
   "cell_type": "markdown",
   "metadata": {},
   "source": [
    "_Type your answer here, replacing this text._"
   ]
  },
  {
   "cell_type": "markdown",
   "metadata": {},
   "source": [
    "<!-- END QUESTION -->\n",
    "\n",
    "<!-- BEGIN QUESTION -->\n",
    "\n",
    "**Question 7.** \n",
    "A. Does flushing the tap for 2 minutes decrease the amount of lead in the tap water compared to flushing the tap for 45 seconds? Explain your answer using at least one complete sentence.\n",
    "\n",
    "B. According to the Virginia Tech researchers, lead levels of over 5 parts per billion (ppb) indicate there is a \u201cvery serious\u201d problem in the water supply. If lead levels are over 15 ppb, the federal law requires that corrective action be taken. Based on this information, does the data you\u2019ve analyzed suggest that there was a serious problem of lead in the water supply in Flint, Michigan in 2015? Explain your answer using at least 1-2 complete sentences. Use numerical data (with units) to support your answer.\n",
    "\n",
    "**(4 Points)**\n",
    "\n"
   ]
  },
  {
   "cell_type": "markdown",
   "metadata": {},
   "source": [
    "_Type your answer here, replacing this text._"
   ]
  },
  {
   "cell_type": "markdown",
   "metadata": {},
   "source": [
    "<!-- END QUESTION -->\n",
    "\n",
    "## 4. Histograms"
   ]
  },
  {
   "cell_type": "markdown",
   "metadata": {},
   "source": [
    "Consider the following scatter plot: \n",
    "\n",
    "![](scatter.png)\n",
    "\n",
    "The axes of the plot represent values of two variables: $x$ and $y$. "
   ]
  },
  {
   "cell_type": "markdown",
   "metadata": {},
   "source": [
    "Suppose we have a table called `t` that has two columns in it:\n",
    "\n",
    "- `x`: a column containing the x-values of the points in the scatter plot\n",
    "- `y`: a column containing the y-values of the points in the scatter plot"
   ]
  },
  {
   "cell_type": "markdown",
   "metadata": {},
   "source": [
    "Below, you are given three histograms\u2014one corresponds to column `x`, one corresponds to column `y`, and one does not correspond to either column. "
   ]
  },
  {
   "cell_type": "markdown",
   "metadata": {},
   "source": [
    "**Histogram A:**\n",
    "\n",
    "![](var2.png) \n",
    "\n",
    "**Histogram B:**\n",
    "\n",
    "![](var3.png)\n",
    "\n",
    "**Histogram C:**\n",
    "\n",
    "![](var1.png)"
   ]
  },
  {
   "cell_type": "markdown",
   "metadata": {},
   "source": [
    "**Question 1.** Suppose we run `t.hist('x')`. Which histogram does this code produce? Assign `histogram_column_x` to either 1, 2, or 3. **(5 Points)**\n",
    "\n",
    "1. Histogram A\n",
    "2. Histogram B\n",
    "3. Histogram C\n"
   ]
  },
  {
   "cell_type": "code",
   "execution_count": null,
   "metadata": {},
   "outputs": [],
   "source": [
    "histogram_column_x = ..."
   ]
  },
  {
   "cell_type": "code",
   "execution_count": null,
   "metadata": {},
   "outputs": [],
   "source": [
    "grader.check(\"q4_1\")"
   ]
  },
  {
   "cell_type": "markdown",
   "metadata": {},
   "source": [
    "<!-- BEGIN QUESTION -->\n",
    "\n",
    "**Question 2.** State at least one reason why you chose the histogram from Question 1. **Make sure to clearly indicate which histogram you selected** (ex: \"I chose histogram A because ...\"). **(5 Points)**\n"
   ]
  },
  {
   "cell_type": "markdown",
   "metadata": {},
   "source": [
    "_Type your answer here, replacing this text._"
   ]
  },
  {
   "cell_type": "markdown",
   "metadata": {},
   "source": [
    "<!-- END QUESTION -->\n",
    "\n",
    "**Question 3.** Suppose we run `t.hist('y')`. Which histogram does this code produce? Assign `histogram_column_y` to either 1, 2, or 3. **(5 Points)**\n",
    "\n",
    "1. Histogram A\n",
    "2. Histogram B\n",
    "3. Histogram C\n"
   ]
  },
  {
   "cell_type": "code",
   "execution_count": null,
   "metadata": {},
   "outputs": [],
   "source": [
    "histogram_column_y = ..."
   ]
  },
  {
   "cell_type": "code",
   "execution_count": null,
   "metadata": {},
   "outputs": [],
   "source": [
    "grader.check(\"q4_3\")"
   ]
  },
  {
   "cell_type": "markdown",
   "metadata": {},
   "source": [
    "<!-- BEGIN QUESTION -->\n",
    "\n",
    "**Question 4.** State at least one reason why you chose the histogram from Question 3.  **Make sure to clearly indicate which histogram you selected** (ex: \"I chose histogram A because ...\"). **(5 Points)**\n"
   ]
  },
  {
   "cell_type": "markdown",
   "metadata": {},
   "source": [
    "_Type your answer here, replacing this text._"
   ]
  },
  {
   "cell_type": "markdown",
   "metadata": {},
   "source": [
    "<!-- END QUESTION -->\n",
    "\n",
    "You're done with Homework 3!  \n",
    "\n",
    "**Important submission steps:** \n",
    "1. Run the tests and verify that they all pass.\n",
    "2. Choose **Save Notebook** from the **File** menu, then **run the final cell**. \n",
    "3. Click the link to download the zip file.\n",
    "4. Then submit the zip file to the corresponding assignment according to your instructor's directions. \n",
    "\n",
    "**It is your responsibility to make sure your work is saved before running the last cell.**"
   ]
  },
  {
   "cell_type": "markdown",
   "metadata": {},
   "source": [
    "## Submission\n",
    "\n",
    "Make sure you have run all cells in your notebook in order before running the cell below, so that all images/graphs appear in the output. The cell below will generate a zip file for you to submit. **Please save before exporting!**"
   ]
  },
  {
   "cell_type": "code",
   "execution_count": null,
   "metadata": {},
   "outputs": [],
   "source": [
    "# Save your notebook first, then run this cell to export your submission.\n",
    "grader.export(pdf=False, run_tests=True)"
   ]
  },
  {
   "cell_type": "markdown",
   "metadata": {},
   "source": [
    " "
   ]
  }
 ],
 "metadata": {
  "kernelspec": {
   "display_name": "Python 3 (ipykernel)",
   "language": "python",
   "name": "python3"
  },
  "language_info": {
   "codemirror_mode": {
    "name": "ipython",
    "version": 3
   },
   "file_extension": ".py",
   "mimetype": "text/x-python",
   "name": "python",
   "nbconvert_exporter": "python",
   "pygments_lexer": "ipython3"
  },
  "otter": {
   "OK_FORMAT": true,
   "tests": {
    "q1_1": {
     "name": "q1_1",
     "points": [
      4
     ],
     "suites": [
      {
       "cases": [
        {
         "code": ">>> ca_unemployment.select('Date', 'Seasonally Adjusted', 'Not Seasonally Adjusted').take(0)\nDate     | Seasonally Adjusted | Not Seasonally Adjusted\n1/1/1976 | 9.2                 | 10.4",
         "hidden": false,
         "locked": false
        }
       ],
       "scored": true,
       "setup": "",
       "teardown": "",
       "type": "doctest"
      }
     ]
    },
    "q1_2": {
     "name": "q1_2",
     "points": [
      2,
      2
     ],
     "suites": [
      {
       "cases": [
        {
         "code": ">>> by_season.take(100)\nArea Name  | Date      | Year | Month   | Seasonally Adjusted | Not Seasonally Adjusted\nCalifornia | 10/1/2020 | 2020 | October | 9.3                 | 8.8",
         "hidden": false,
         "locked": false
        },
        {
         "code": ">>> by_not_season.take(100)\nArea Name  | Date     | Year | Month | Seasonally Adjusted | Not Seasonally Adjusted\nCalifornia | 3/1/1977 | 1977 | March | 8.9                 | 9.3",
         "hidden": false,
         "locked": false
        }
       ],
       "scored": true,
       "setup": "",
       "teardown": "",
       "type": "doctest"
      }
     ]
    },
    "q1_3": {
     "name": "q1_3",
     "points": [
      2
     ],
     "suites": [
      {
       "cases": [
        {
         "code": ">>> smallest_season.take(0)\nArea Name  | Date     | Year | Month | Seasonally Adjusted | Not Seasonally Adjusted\nCalifornia | 7/1/2022 | 2022 | July  | 3.8                 | 4.1",
         "hidden": false,
         "locked": false
        }
       ],
       "scored": true,
       "setup": "",
       "teardown": "",
       "type": "doctest"
      }
     ]
    },
    "q1_4": {
     "name": "q1_4",
     "points": [
      1,
      3
     ],
     "suites": [
      {
       "cases": [
        {
         "code": ">>> round(diff.item(6), 4) == -0.5\nTrue",
         "hidden": false,
         "locked": false
        },
        {
         "code": ">>> round(diff.item(6), 4)\n-0.5",
         "hidden": false,
         "locked": false
        }
       ],
       "scored": true,
       "setup": "",
       "teardown": "",
       "type": "doctest"
      }
     ]
    },
    "q1_5": {
     "name": "q1_5",
     "points": [
      4
     ],
     "suites": [
      {
       "cases": [
        {
         "code": ">>> by_diff.take(0)\nArea Name  | Date     | Year | Month | Seasonally Adjusted | Not Seasonally Adjusted | Difference\nCalifornia | 5/1/1976 | 1976 | May   | 9                   | 7.9                     | 1.1",
         "hidden": false,
         "locked": false
        }
       ],
       "scored": true,
       "setup": "",
       "teardown": "",
       "type": "doctest"
      }
     ]
    },
    "q1_6": {
     "name": "q1_6",
     "points": [
      0
     ],
     "suites": [
      {
       "cases": [
        {
         "code": ">>> season_over_time.take(0)\nDate     | Year | Seasonally Adjusted\n1/1/1976 | 1976 | 9.2",
         "hidden": false,
         "locked": false
        }
       ],
       "scored": true,
       "setup": "",
       "teardown": "",
       "type": "doctest"
      }
     ]
    },
    "q1_7": {
     "name": "q1_7",
     "points": [
      0
     ],
     "suites": [
      {
       "cases": [
        {
         "code": ">>> high_rates == True or high_rates == False\nTrue",
         "hidden": false,
         "locked": false
        }
       ],
       "scored": true,
       "setup": "",
       "teardown": "",
       "type": "doctest"
      }
     ]
    },
    "q2_1": {
     "name": "q2_1",
     "points": [
      0
     ],
     "suites": [
      {
       "cases": [
        {
         "code": ">>> 0 < west_death_rate < 1\nTrue",
         "hidden": false,
         "locked": false
        }
       ],
       "scored": true,
       "setup": "",
       "teardown": "",
       "type": "doctest"
      }
     ]
    },
    "q2_2": {
     "name": "q2_2",
     "points": [
      0
     ],
     "suites": [
      {
       "cases": [
        {
         "code": ">>> 0 < increase <= 10\nTrue",
         "hidden": false,
         "locked": false
        }
       ],
       "scored": true,
       "setup": "",
       "teardown": "",
       "type": "doctest"
      }
     ]
    },
    "q2_3": {
     "name": "q2_3",
     "points": [
      0
     ],
     "suites": [
      {
       "cases": [
        {
         "code": ">>> west_increase == west_increase\narray([ True,  True,  True,  True,  True,  True,  True,  True,  True,\n        True,  True,  True,  True], dtype=bool)",
         "hidden": false,
         "locked": false
        }
       ],
       "scored": true,
       "setup": "",
       "teardown": "",
       "type": "doctest"
      }
     ]
    },
    "q2_4": {
     "name": "q2_4",
     "points": [
      0,
      0
     ],
     "suites": [
      {
       "cases": [
        {
         "code": ">>> type(visualization) == int\nTrue",
         "hidden": false,
         "locked": false
        },
        {
         "code": ">>> 1 <= visualization <= 3\nTrue",
         "hidden": false,
         "locked": false
        }
       ],
       "scored": true,
       "setup": "",
       "teardown": "",
       "type": "doctest"
      }
     ]
    },
    "q2_6": {
     "name": "q2_6",
     "points": [
      0
     ],
     "suites": [
      {
       "cases": [
        {
         "code": ">>> type(assoc) is bool\nTrue",
         "hidden": false,
         "locked": false
        }
       ],
       "scored": true,
       "setup": "",
       "teardown": "",
       "type": "doctest"
      }
     ]
    },
    "q3_3": {
     "name": "q3_3",
     "points": [
      0
     ],
     "suites": [
      {
       "cases": [
        {
         "code": ">>> 1 <= unit_meaning <= 3\nTrue",
         "hidden": false,
         "locked": false
        }
       ],
       "scored": true,
       "setup": "",
       "teardown": "",
       "type": "doctest"
      }
     ]
    },
    "q3_4": {
     "name": "q3_4",
     "points": [
      0,
      0
     ],
     "suites": [
      {
       "cases": [
        {
         "code": ">>> flush_45_under_4_point_5 >= 0 and flush_45_under_4_point_5 <= 100\nTrue",
         "hidden": false,
         "locked": false
        },
        {
         "code": ">>> flush_2min_under_4_point_5 >= 0 and flush_2min_under_4_point_5 <= 100\nTrue",
         "hidden": false,
         "locked": false
        }
       ],
       "scored": true,
       "setup": "",
       "teardown": "",
       "type": "doctest"
      }
     ]
    },
    "q3_5": {
     "name": "q3_5",
     "points": [
      0
     ],
     "suites": [
      {
       "cases": [
        {
         "code": ">>> 1 <= flush_2min_median_bin <= 4\nTrue",
         "hidden": false,
         "locked": false
        }
       ],
       "scored": true,
       "setup": "",
       "teardown": "",
       "type": "doctest"
      }
     ]
    },
    "q4_1": {
     "name": "q4_1",
     "points": [
      0,
      1
     ],
     "suites": [
      {
       "cases": [
        {
         "code": ">>> type(histogram_column_x) == int\nTrue",
         "hidden": false,
         "locked": false
        },
        {
         "code": ">>> histogram_column_x == 1 or histogram_column_x == 2 or histogram_column_x == 3\nTrue",
         "hidden": false,
         "locked": false
        }
       ],
       "scored": true,
       "setup": "",
       "teardown": "",
       "type": "doctest"
      }
     ]
    },
    "q4_3": {
     "name": "q4_3",
     "points": [
      0,
      1
     ],
     "suites": [
      {
       "cases": [
        {
         "code": ">>> type(histogram_column_y) == int\nTrue",
         "hidden": false,
         "locked": false
        },
        {
         "code": ">>> histogram_column_y == 1 or histogram_column_y == 2 or histogram_column_y == 3\nTrue",
         "hidden": false,
         "locked": false
        }
       ],
       "scored": true,
       "setup": "",
       "teardown": "",
       "type": "doctest"
      }
     ]
    }
   }
  }
 },
 "nbformat": 4,
 "nbformat_minor": 5
}
