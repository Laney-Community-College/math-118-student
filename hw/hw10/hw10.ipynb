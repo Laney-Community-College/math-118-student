{
 "cells": [
  {
   "cell_type": "raw",
   "id": "4b05d327",
   "metadata": {
    "vscode": {
     "languageId": "raw"
    }
   },
   "source": [
    "# ASSIGNMENT CONFIG\n",
    "init_cell: true \n",
    "export_cell: true\n",
    "requirements: ../../../../requirements.txt\n",
    "files:\n",
    "    - three_vs_freethrow.csv\n",
    "    - btc.csv\n",
    "    - eth.csv\n",
    "    - spreads.csv\n",
    "    - iPhone_vs_Galaxy_Sales.csv\n",
    "    - NFL Spread2.csv\n",
    "export_cell:\n",
    "    pdf: false\n",
    "    force_save: false\n",
    "solutions_pdf: true\n",
    "template_pdf: true\n",
    "generate:\n",
    "    points_possible: 62.0\n",
    "    show_stdout: true\n",
    "    filtering: true\n",
    "    pagebreaks: true\n",
    "    zips: false"
   ]
  },
  {
   "cell_type": "markdown",
   "id": "125dfc5a",
   "metadata": {},
   "source": [
    "# Homework 10: Linear Regression"
   ]
  },
  {
   "cell_type": "markdown",
   "id": "7b9406ca",
   "metadata": {},
   "source": [
    "**Helpful Resource:**\n",
    "\n",
    "- [Python Reference](http://data8.org/sp22/python-reference.html): Cheat sheet of helpful array & table methods used in Data 8!\n",
    "\n",
    "**Recommended Readings**: \n",
    "\n",
    "* [The Regression Line](https://www.inferentialthinking.com/chapters/15/2/Regression_Line.html)\n",
    "* [Method of Least Squares](https://www.inferentialthinking.com/chapters/15/3/Method_of_Least_Squares.html)\n",
    "* [Least Squares Regression](https://www.inferentialthinking.com/chapters/15/4/Least_Squares_Regression.html)"
   ]
  },
  {
   "cell_type": "markdown",
   "id": "f18f280f",
   "metadata": {},
   "source": [
    "Please complete this notebook by filling in the cells provided. Before you begin, execute the following cell to setup the notebook by importing some helpful libraries. Each time you start your server, you will need to execute this cell again.\n",
    "\n",
    "For all problems that you must write explanations and sentences for, you **must** provide your answer in the designated space. **Moreover, throughout this homework and all future ones, please be sure to not re-assign variables throughout the notebook!** For example, if you use `max_temperature` in your answer to one question, do not reassign it later on. Otherwise, you will fail tests that you thought you were passing previously!\n",
    "\n",
    "\n",
    "**Note: This homework has hidden tests on it. That means even though the tests may say 100% passed, it doesn't mean your final grade will be 100%. We will be running more tests for correctness once everyone turns in the homework.**\n",
    "\n",
    "\n",
    "Directly sharing answers is not okay, but discussing problems with the course staff or with other students is encouraged. \n",
    "\n",
    "You should start early so that you have time to get help if you're stuck."
   ]
  },
  {
   "cell_type": "code",
   "execution_count": 1,
   "id": "a5f07ee9",
   "metadata": {
    "execution": {
     "iopub.execute_input": "2022-04-07T03:32:57.413696Z",
     "iopub.status.busy": "2022-04-07T03:32:57.413416Z",
     "iopub.status.idle": "2022-04-07T03:32:58.917362Z",
     "shell.execute_reply": "2022-04-07T03:32:58.916637Z"
    }
   },
   "outputs": [],
   "source": [
    "# Run this cell to set up the notebook, but please don't change it.\n",
    "\n",
    "import numpy as np\n",
    "from datascience import *\n",
    "\n",
    "# These lines do some fancy plotting magic.\n",
    "import matplotlib\n",
    "%matplotlib inline\n",
    "import matplotlib.pyplot as plt\n",
    "plt.style.use('fivethirtyeight')\n",
    "import warnings\n",
    "warnings.simplefilter('ignore', FutureWarning)\n",
    "from datetime import datetime"
   ]
  },
  {
   "cell_type": "markdown",
   "id": "6cb47ec8",
   "metadata": {},
   "source": [
    "## 1. Free Throws vs. 3 Point Shots"
   ]
  },
  {
   "cell_type": "markdown",
   "id": "b3827e84",
   "metadata": {},
   "source": [
    "Does having a skill in one area of basketball shooting imply skill in another? While both [free throws](https://en.wikipedia.org/wiki/Free_throw) and [three-point shots](https://en.wikipedia.org/wiki/Three-point_field_goal) require precision and technique, they differ significantly in their execution. This exercise investigates whether players who excel at free throws also tend to perform well at three-point shots.\n",
    "Since we're learning about linear regression, we will look specifically for a linear association between skill level in the two types of shots.\n",
    "\n",
    "\n",
    "The dataset includes the 2023-2024 free throw percentages (FT %) and three-point percentages (3PT %) for 50 NBA players. We have selected players with the highest free throw percentages to examine if this skill correlates with a high three-point shooting percentage. In the NBA, a three-point percentage over 35% is considered good, and over 40% is considered excellent.\n",
    "\n",
    "\n",
    "\n"
   ]
  },
  {
   "cell_type": "code",
   "execution_count": 2,
   "id": "e40f06e9",
   "metadata": {
    "ExecuteTime": {
     "end_time": "2018-04-03T22:42:22.463984Z",
     "start_time": "2018-04-03T22:42:22.455963Z"
    },
    "execution": {
     "iopub.execute_input": "2022-04-07T03:32:58.921192Z",
     "iopub.status.busy": "2022-04-07T03:32:58.920972Z",
     "iopub.status.idle": "2022-04-07T03:32:58.953207Z",
     "shell.execute_reply": "2022-04-07T03:32:58.952354Z"
    }
   },
   "outputs": [
    {
     "data": {
      "text/html": [
       "<table border=\"1\" class=\"dataframe\">\n",
       "    <thead>\n",
       "        <tr>\n",
       "            <th>FT %</th> <th>3PT %</th>\n",
       "        </tr>\n",
       "    </thead>\n",
       "    <tbody>\n",
       "        <tr>\n",
       "            <td>92.7</td> <td>38.7 </td>\n",
       "        </tr>\n",
       "        <tr>\n",
       "            <td>92.3</td> <td>40.8 </td>\n",
       "        </tr>\n",
       "        <tr>\n",
       "            <td>92.1</td> <td>37.4 </td>\n",
       "        </tr>\n",
       "        <tr>\n",
       "            <td>92  </td> <td>35.4 </td>\n",
       "        </tr>\n",
       "        <tr>\n",
       "            <td>91.6</td> <td>38.5 </td>\n",
       "        </tr>\n",
       "        <tr>\n",
       "            <td>90.7</td> <td>41.3 </td>\n",
       "        </tr>\n",
       "        <tr>\n",
       "            <td>90.5</td> <td>41.1 </td>\n",
       "        </tr>\n",
       "        <tr>\n",
       "            <td>90.1</td> <td>39.6 </td>\n",
       "        </tr>\n",
       "        <tr>\n",
       "            <td>89.9</td> <td>39.9 </td>\n",
       "        </tr>\n",
       "        <tr>\n",
       "            <td>88.6</td> <td>36.4 </td>\n",
       "        </tr>\n",
       "    </tbody>\n",
       "</table>\n",
       "<p>... (40 rows omitted)</p>"
      ],
      "text/plain": [
       "FT % | 3PT %\n",
       "92.7 | 38.7\n",
       "92.3 | 40.8\n",
       "92.1 | 37.4\n",
       "92   | 35.4\n",
       "91.6 | 38.5\n",
       "90.7 | 41.3\n",
       "90.5 | 41.1\n",
       "90.1 | 39.6\n",
       "89.9 | 39.9\n",
       "88.6 | 36.4\n",
       "... (40 rows omitted)"
      ]
     },
     "execution_count": 2,
     "metadata": {},
     "output_type": "execute_result"
    }
   ],
   "source": [
    "# Run this cell to load the data\n",
    "shots = Table.read_table('three_vs_freethrow.csv').select(\"FT %\",\"3PT %\")\n",
    "shots"
   ]
  },
  {
   "cell_type": "raw",
   "id": "6bb8f084",
   "metadata": {},
   "source": [
    "# BEGIN QUESTION\n",
    "name: q1_1\n",
    "manual: false\n",
    "points:\n",
    " - 0\n",
    " - 0\n",
    " - 0\n",
    " - 5"
   ]
  },
  {
   "cell_type": "markdown",
   "id": "93b8d4fc",
   "metadata": {},
   "source": [
    "**Question 1.1.** Create a function `std_units` that converts the values in the array `data` to standard units. **(5 points)**\n"
   ]
  },
  {
   "cell_type": "raw",
   "id": "8ea295f4",
   "metadata": {},
   "source": [
    "# BEGIN SOLUTION"
   ]
  },
  {
   "cell_type": "code",
   "execution_count": 3,
   "id": "ca36a774",
   "metadata": {
    "execution": {
     "iopub.execute_input": "2022-04-07T03:32:58.956818Z",
     "iopub.status.busy": "2022-04-07T03:32:58.956278Z",
     "iopub.status.idle": "2022-04-07T03:32:58.960645Z",
     "shell.execute_reply": "2022-04-07T03:32:58.959860Z"
    }
   },
   "outputs": [],
   "source": [
    "def std_units(data):\n",
    "    return (data - np.mean(data)) / np.std(data) #SOLUTION"
   ]
  },
  {
   "cell_type": "raw",
   "id": "33f49f9e",
   "metadata": {},
   "source": [
    "# END SOLUTION"
   ]
  },
  {
   "cell_type": "raw",
   "id": "28c77e7a",
   "metadata": {},
   "source": [
    "# BEGIN TESTS"
   ]
  },
  {
   "cell_type": "code",
   "execution_count": 4,
   "id": "7d33c89a",
   "metadata": {
    "execution": {
     "iopub.execute_input": "2022-04-07T03:32:58.963981Z",
     "iopub.status.busy": "2022-04-07T03:32:58.963333Z",
     "iopub.status.idle": "2022-04-07T03:32:58.969364Z",
     "shell.execute_reply": "2022-04-07T03:32:58.968634Z"
    }
   },
   "outputs": [
    {
     "data": {
      "text/plain": [
       "array([-1.41421356, -0.70710678,  0.        ,  0.70710678,  1.41421356])"
      ]
     },
     "execution_count": 4,
     "metadata": {},
     "output_type": "execute_result"
    }
   ],
   "source": [
    "std_units([1,2,3,4,5])"
   ]
  },
  {
   "cell_type": "code",
   "execution_count": 5,
   "id": "3010729c",
   "metadata": {
    "execution": {
     "iopub.execute_input": "2022-04-07T03:32:58.972221Z",
     "iopub.status.busy": "2022-04-07T03:32:58.972011Z",
     "iopub.status.idle": "2022-04-07T03:32:58.977617Z",
     "shell.execute_reply": "2022-04-07T03:32:58.976889Z"
    }
   },
   "outputs": [
    {
     "data": {
      "text/plain": [
       "True"
      ]
     },
     "execution_count": 5,
     "metadata": {},
     "output_type": "execute_result"
    }
   ],
   "source": [
    "np.isclose(np.mean(std_units([1,2,3,4,5])), 0)"
   ]
  },
  {
   "cell_type": "code",
   "execution_count": 6,
   "id": "3ad81c2d",
   "metadata": {
    "execution": {
     "iopub.execute_input": "2022-04-07T03:32:58.980847Z",
     "iopub.status.busy": "2022-04-07T03:32:58.980363Z",
     "iopub.status.idle": "2022-04-07T03:32:58.986048Z",
     "shell.execute_reply": "2022-04-07T03:32:58.985304Z"
    }
   },
   "outputs": [
    {
     "data": {
      "text/plain": [
       "True"
      ]
     },
     "execution_count": 6,
     "metadata": {},
     "output_type": "execute_result"
    }
   ],
   "source": [
    "np.isclose(np.std(std_units([1,2,3,4,5])), 0.9999999999999999)"
   ]
  },
  {
   "cell_type": "code",
   "execution_count": 7,
   "id": "8451aaf8",
   "metadata": {
    "execution": {
     "iopub.execute_input": "2022-04-07T03:32:58.989071Z",
     "iopub.status.busy": "2022-04-07T03:32:58.988845Z",
     "iopub.status.idle": "2022-04-07T03:32:58.994747Z",
     "shell.execute_reply": "2022-04-07T03:32:58.993746Z"
    },
    "scrolled": true
   },
   "outputs": [
    {
     "data": {
      "text/plain": [
       "array([-1.65988202, -1.15470054,  0.36084392, -0.14433757,  0.36084392,\n",
       "        0.8660254 ,  1.37120689])"
      ]
     },
     "execution_count": 7,
     "metadata": {},
     "output_type": "execute_result"
    }
   ],
   "source": [
    "# HIDDEN\n",
    "std_units([-3, -2, 1, 0, 1, 2, 3])"
   ]
  },
  {
   "cell_type": "raw",
   "id": "15d2e78d",
   "metadata": {},
   "source": [
    "# END TESTS"
   ]
  },
  {
   "cell_type": "raw",
   "id": "1383fee8",
   "metadata": {},
   "source": [
    "# END QUESTION"
   ]
  },
  {
   "cell_type": "raw",
   "id": "94078cc2",
   "metadata": {},
   "source": [
    "# BEGIN QUESTION\n",
    "name: q1_2\n",
    "manual: false\n",
    "points:\n",
    " - 0\n",
    " - 5"
   ]
  },
  {
   "cell_type": "markdown",
   "id": "14bbd47b",
   "metadata": {},
   "source": [
    "**Question 1.2.** Using the `std_units` function created previously, define a new function named `correlation` which computes the correlation coefficient between two arrays, `x` and `y`. **(5 points)**"
   ]
  },
  {
   "cell_type": "raw",
   "id": "3429b07c",
   "metadata": {},
   "source": [
    "# BEGIN SOLUTION"
   ]
  },
  {
   "cell_type": "code",
   "execution_count": 8,
   "id": "e85d3b6a",
   "metadata": {
    "execution": {
     "iopub.execute_input": "2022-04-07T03:32:58.998339Z",
     "iopub.status.busy": "2022-04-07T03:32:58.997687Z",
     "iopub.status.idle": "2022-04-07T03:32:59.001531Z",
     "shell.execute_reply": "2022-04-07T03:32:59.000809Z"
    }
   },
   "outputs": [],
   "source": [
    "def correlation(x, y):\n",
    "    return np.mean(std_units(x) * std_units(y)) #SOLUTION"
   ]
  },
  {
   "cell_type": "raw",
   "id": "05b2e7d9",
   "metadata": {},
   "source": [
    "# END SOLUTION"
   ]
  },
  {
   "cell_type": "raw",
   "id": "3e7a3937",
   "metadata": {},
   "source": [
    "# BEGIN TESTS"
   ]
  },
  {
   "cell_type": "code",
   "execution_count": 9,
   "id": "28c59de6",
   "metadata": {
    "execution": {
     "iopub.execute_input": "2022-04-07T03:32:59.004887Z",
     "iopub.status.busy": "2022-04-07T03:32:59.004278Z",
     "iopub.status.idle": "2022-04-07T03:32:59.010049Z",
     "shell.execute_reply": "2022-04-07T03:32:59.009330Z"
    }
   },
   "outputs": [
    {
     "data": {
      "text/plain": [
       "True"
      ]
     },
     "execution_count": 9,
     "metadata": {},
     "output_type": "execute_result"
    }
   ],
   "source": [
    "np.isclose(correlation([1,2,3], [4,5,6]), 0.9999999999999999)"
   ]
  },
  {
   "cell_type": "code",
   "execution_count": 10,
   "id": "b3c0a77b",
   "metadata": {
    "execution": {
     "iopub.execute_input": "2022-04-07T03:32:59.012872Z",
     "iopub.status.busy": "2022-04-07T03:32:59.012632Z",
     "iopub.status.idle": "2022-04-07T03:32:59.037611Z",
     "shell.execute_reply": "2022-04-07T03:32:59.017517Z"
    }
   },
   "outputs": [
    {
     "data": {
      "text/plain": [
       "True"
      ]
     },
     "execution_count": 10,
     "metadata": {},
     "output_type": "execute_result"
    }
   ],
   "source": [
    "# HIDDEN\n",
    "np.isclose(correlation([-3, 0, 3], [-3, 0, 3]), 1.0000000000000002)"
   ]
  },
  {
   "cell_type": "raw",
   "id": "a03514c2",
   "metadata": {},
   "source": [
    "# END TESTS"
   ]
  },
  {
   "cell_type": "raw",
   "id": "2f338d25",
   "metadata": {},
   "source": [
    "# END QUESTION"
   ]
  },
  {
   "cell_type": "raw",
   "id": "69177fce",
   "metadata": {},
   "source": [
    "# BEGIN QUESTION\n",
    "name: q1_3\n",
    "manual: true\n",
    "image: true"
   ]
  },
  {
   "cell_type": "markdown",
   "id": "0a20bebf",
   "metadata": {},
   "source": [
    "**Question 1.3.** Visual analysis of data through plotting is a crucial step in statistical analysis as it helps identify patterns, trends, and potential outliers. Effective visualization can provide immediate insights that are not always obvious through numerical methods alone.\n",
    "\n",
    "Task: Create a scatter plot **that includes the regression line**, with the free throw percentages on the horizontal axis and the three-point percentages on vertical axis. **(5 points)**\n",
    "\n",
    "See the documentation on `scatter` [here](http://data8.org/datascience/_autosummary/datascience.tables.Table.scatter.html#datascience.tables.Table.scatter) for instructions on how to have Python draw the regression line automatically.\n",
    "\n",
    "*Hint:* The `fit_line` argument may be useful here!"
   ]
  },
  {
   "cell_type": "raw",
   "id": "505d98ca",
   "metadata": {},
   "source": [
    "# BEGIN SOLUTION"
   ]
  },
  {
   "cell_type": "code",
   "execution_count": 11,
   "id": "37d07381",
   "metadata": {
    "ExecuteTime": {
     "end_time": "2018-04-03T07:28:04.288689Z",
     "start_time": "2018-04-03T07:28:04.108660Z"
    },
    "deletable": false,
    "execution": {
     "iopub.execute_input": "2022-04-07T03:32:59.041336Z",
     "iopub.status.busy": "2022-04-07T03:32:59.041042Z",
     "iopub.status.idle": "2022-04-07T03:32:59.332567Z",
     "shell.execute_reply": "2022-04-07T03:32:59.331877Z"
    },
    "manual_problem_id": "jumping_1"
   },
   "outputs": [
    {
     "data": {
      "image/png": "[encoded data removed]",
      "text/plain": [
       "<Figure size 500x500 with 1 Axes>"
      ]
     },
     "metadata": {},
     "output_type": "display_data"
    }
   ],
   "source": [
    "shots.scatter('FT %', '3PT %', fit_line=True) #SOLUTION"
   ]
  },
  {
   "cell_type": "raw",
   "id": "8919d137",
   "metadata": {},
   "source": [
    "# END SOLUTION"
   ]
  },
  {
   "cell_type": "raw",
   "id": "8581c582",
   "metadata": {},
   "source": [
    "# END QUESTION"
   ]
  },
  {
   "cell_type": "raw",
   "id": "8728de63",
   "metadata": {},
   "source": [
    "# BEGIN QUESTION\n",
    "name: q1_4\n",
    "manual: true"
   ]
  },
  {
   "cell_type": "markdown",
   "id": "41944afd",
   "metadata": {},
   "source": [
    "**Question 1.4.** By examining the scatter plot provided, with free throw percentages (FT %)  on the horizontal axis and three point (3PT %) on the vertical axis, estimate the correlation coefficient r. Does r appear to be closest to 0, 0.5, or -0.5? Justify your answer with an explanation based on the trend observed in the plot.\n",
    "\n",
    " **(5 points)**\n"
   ]
  },
  {
   "cell_type": "raw",
   "id": "f33a30d7",
   "metadata": {},
   "source": [
    "# BEGIN SOLUTION"
   ]
  },
  {
   "cell_type": "markdown",
   "id": "5845efee",
   "metadata": {
    "deletable": false,
    "manual_problem_id": "jumping_2"
   },
   "source": [
    "**SOLUTION:** Based on the plot, r appers closest to 0. There is a slight positive association reflected by the upward sloping graph, but the data points are widely dispersed from the line, indicating a weak linear association between free perecentage and three point percentage."
   ]
  },
  {
   "cell_type": "raw",
   "id": "580ed455",
   "metadata": {},
   "source": [
    "# END SOLUTION"
   ]
  },
  {
   "cell_type": "raw",
   "id": "979c09a5",
   "metadata": {},
   "source": [
    "# END QUESTION"
   ]
  },
  {
   "cell_type": "raw",
   "id": "07ee7368",
   "metadata": {},
   "source": [
    "# BEGIN QUESTION\n",
    "name: q1_5\n",
    "manual: false\n",
    "points:\n",
    " - 0\n",
    " - 0\n",
    " - 0\n",
    " - 5"
   ]
  },
  {
   "cell_type": "markdown",
   "id": "aadb07bb",
   "metadata": {},
   "source": [
    "**Question 1.5.** In order to understand the relationship between two basketball statistics, such as free throw percentages (FT%) and three-point percentages (3PT %), it's useful to calculate key regression statistics that summarize this relationship.\n",
    "\n",
    "Develop a function named `compute_regression_stats` that takes in the argument `tbl`, a data table with two columns. The first column is the x-axis (the explanatory variable), and the second column is the y-axis (the response variable). The function should return an array with three elements: **(1) The correlation coefficient** of the two columns, and the **(2) slope** and **(3) intercept** of the regression line that predicts the second column from the first, in original units. **(5 points)**\n",
    "\n",
    "*Hint:* This is a rare occasion where it’s better to implement the function using column indices instead of column names, in order to be able to call this function on any table. If you need a reminder about how to use column indices to pull out individual columns, please refer to [this](https://www.inferentialthinking.com/chapters/06/Tables.html#accessing-the-data-in-a-column) section of the textbook."
   ]
  },
  {
   "cell_type": "raw",
   "id": "f4a2728a",
   "metadata": {},
   "source": [
    "# BEGIN SOLUTION"
   ]
  },
  {
   "cell_type": "code",
   "execution_count": 12,
   "id": "d0c75233",
   "metadata": {
    "ExecuteTime": {
     "end_time": "2018-04-03T22:42:28.451495Z",
     "start_time": "2018-04-03T22:42:28.441469Z"
    },
    "execution": {
     "iopub.execute_input": "2022-04-07T03:32:59.339558Z",
     "iopub.status.busy": "2022-04-07T03:32:59.339319Z",
     "iopub.status.idle": "2022-04-07T03:32:59.346558Z",
     "shell.execute_reply": "2022-04-07T03:32:59.345782Z"
    },
    "for_assignment_type": "solution"
   },
   "outputs": [
    {
     "name": "stdout",
     "output_type": "stream",
     "text": [
      "r: 0.11003088267167974 ; slope: 0.06260718760951046 ; intercept: 33.00485218065394\n"
     ]
    }
   ],
   "source": [
    "def compute_regression_stats(tbl):\n",
    "    # BEGIN SOLUTION\n",
    "    y_mean = np.mean(tbl.column(1)) \n",
    "    y_sd = np.std(tbl.column(1))\n",
    "    x_mean = np.mean(tbl.column(0))\n",
    "    x_sd = np.std(tbl.column(0))\n",
    "    r = correlation(tbl.column(0), tbl.column(1))\n",
    "    slope = r * (y_sd / x_sd)\n",
    "    intercept = slope * (-x_mean) + y_mean \n",
    "    # END SOLUTION\n",
    "    return make_array(r, slope, intercept)\n",
    "\n",
    "constraints = compute_regression_stats(shots) \n",
    "print('r:', constraints.item(0), '; slope:', constraints.item(1), '; intercept:', constraints.item(2))"
   ]
  },
  {
   "cell_type": "raw",
   "id": "3f75c29b",
   "metadata": {},
   "source": [
    "# END SOLUTION"
   ]
  },
  {
   "cell_type": "raw",
   "id": "11464506",
   "metadata": {},
   "source": [
    "# BEGIN TESTS"
   ]
  },
  {
   "cell_type": "code",
   "execution_count": 13,
   "id": "54d949b4",
   "metadata": {
    "execution": {
     "iopub.execute_input": "2022-04-07T03:32:59.350569Z",
     "iopub.status.busy": "2022-04-07T03:32:59.350259Z",
     "iopub.status.idle": "2022-04-07T03:32:59.356186Z",
     "shell.execute_reply": "2022-04-07T03:32:59.355494Z"
    }
   },
   "outputs": [
    {
     "data": {
      "text/plain": [
       "True"
      ]
     },
     "execution_count": 13,
     "metadata": {},
     "output_type": "execute_result"
    }
   ],
   "source": [
    "len(constraints) == 3"
   ]
  },
  {
   "cell_type": "code",
   "execution_count": 14,
   "id": "4315a92e",
   "metadata": {
    "execution": {
     "iopub.execute_input": "2022-04-07T03:32:59.359768Z",
     "iopub.status.busy": "2022-04-07T03:32:59.359106Z",
     "iopub.status.idle": "2022-04-07T03:32:59.364420Z",
     "shell.execute_reply": "2022-04-07T03:32:59.363571Z"
    }
   },
   "outputs": [
    {
     "data": {
      "text/plain": [
       "True"
      ]
     },
     "execution_count": 14,
     "metadata": {},
     "output_type": "execute_result"
    }
   ],
   "source": [
    "# Make sure your function is returning an array!\n",
    "type(constraints) == np.ndarray"
   ]
  },
  {
   "cell_type": "code",
   "execution_count": 15,
   "id": "3d1bb49a",
   "metadata": {
    "execution": {
     "iopub.execute_input": "2022-04-07T03:32:59.368187Z",
     "iopub.status.busy": "2022-04-07T03:32:59.367702Z",
     "iopub.status.idle": "2022-04-07T03:32:59.373716Z",
     "shell.execute_reply": "2022-04-07T03:32:59.372851Z"
    }
   },
   "outputs": [
    {
     "data": {
      "text/plain": [
       "True"
      ]
     },
     "execution_count": 15,
     "metadata": {},
     "output_type": "execute_result"
    }
   ],
   "source": [
    "np.isclose(constraints.item(0), 0.11003088267167993)"
   ]
  },
  {
   "cell_type": "code",
   "execution_count": 16,
   "id": "0b0b09a2",
   "metadata": {
    "execution": {
     "iopub.execute_input": "2022-04-07T03:32:59.377320Z",
     "iopub.status.busy": "2022-04-07T03:32:59.376775Z",
     "iopub.status.idle": "2022-04-07T03:32:59.382450Z",
     "shell.execute_reply": "2022-04-07T03:32:59.381561Z"
    }
   },
   "outputs": [
    {
     "data": {
      "text/plain": [
       "True"
      ]
     },
     "execution_count": 16,
     "metadata": {},
     "output_type": "execute_result"
    }
   ],
   "source": [
    "# HIDDEN\n",
    "np.allclose(constraints, [0.11003088267167974 , 0.06260718760951046, 33.00485218065394])"
   ]
  },
  {
   "cell_type": "raw",
   "id": "4d1934ff",
   "metadata": {},
   "source": [
    "# END TESTS"
   ]
  },
  {
   "cell_type": "raw",
   "id": "8e519d9e",
   "metadata": {},
   "source": [
    "# END QUESTION"
   ]
  },
  {
   "cell_type": "raw",
   "id": "9f8f67d8",
   "metadata": {},
   "source": [
    "# BEGIN QUESTION\n",
    "name: q1_6\n",
    "manual: false\n",
    "points:\n",
    " - 0\n",
    " - 0\n",
    " - 5"
   ]
  },
  {
   "cell_type": "markdown",
   "id": "8546aa08",
   "metadata": {},
   "source": [
    "**Question 1.6.**: Now suppose you want to go the other way and predict a free throw percentage (FT %) given a three-point percentage (3PT %). Now 3PT % becomes the explanatory variable used to predict FT % the new response variable. How would various regression statistics be affected? Set `regression_change` equal to an array that includes the numbers of the correct answer choices below. **(5 points)**\n",
    "\n",
    "1) The correlation coefficient will remain unchanged because it only measures the strength and direction of the *linear* relationship between the two variables, regardless of which is the predictor.\n",
    "\n",
    "2) The value of the slope will remain the same because it only reflects the rate of change between the two variables.\n",
    "\n",
    "3) The value of the intercept may change because it is calculated based on the distribution and scale of the predictor variable.\n",
    "\n",
    "4) The units of the slope will not change because the units of the predictor and response variables are independent of each other."
   ]
  },
  {
   "cell_type": "raw",
   "id": "972ea357",
   "metadata": {},
   "source": [
    "# BEGIN SOLUTION"
   ]
  },
  {
   "cell_type": "code",
   "execution_count": 17,
   "id": "02b18045",
   "metadata": {
    "execution": {
     "iopub.execute_input": "2022-04-07T03:32:59.385990Z",
     "iopub.status.busy": "2022-04-07T03:32:59.385315Z",
     "iopub.status.idle": "2022-04-07T03:32:59.391551Z",
     "shell.execute_reply": "2022-04-07T03:32:59.390884Z"
    }
   },
   "outputs": [
    {
     "data": {
      "text/plain": [
       "array([1, 3])"
      ]
     },
     "execution_count": 17,
     "metadata": {},
     "output_type": "execute_result"
    }
   ],
   "source": [
    "regression_change = make_array(1, 3) # SOLUTION\n",
    "regression_change"
   ]
  },
  {
   "cell_type": "raw",
   "id": "d561597c",
   "metadata": {},
   "source": [
    "# END SOLUTION"
   ]
  },
  {
   "cell_type": "raw",
   "id": "14f86da5",
   "metadata": {},
   "source": [
    "# BEGIN TESTS"
   ]
  },
  {
   "cell_type": "code",
   "execution_count": 18,
   "id": "5438f568",
   "metadata": {
    "execution": {
     "iopub.execute_input": "2022-04-07T03:32:59.394752Z",
     "iopub.status.busy": "2022-04-07T03:32:59.394320Z",
     "iopub.status.idle": "2022-04-07T03:32:59.399463Z",
     "shell.execute_reply": "2022-04-07T03:32:59.398792Z"
    }
   },
   "outputs": [
    {
     "data": {
      "text/plain": [
       "True"
      ]
     },
     "execution_count": 18,
     "metadata": {},
     "output_type": "execute_result"
    }
   ],
   "source": [
    "# Make sure regression_change is a numpy array with 3 items!\n",
    "len(regression_change) == 2 and type(regression_change) == np.ndarray"
   ]
  },
  {
   "cell_type": "code",
   "execution_count": 19,
   "id": "e38d3a1b",
   "metadata": {
    "execution": {
     "iopub.execute_input": "2022-04-07T03:32:59.402488Z",
     "iopub.status.busy": "2022-04-07T03:32:59.402266Z",
     "iopub.status.idle": "2022-04-07T03:32:59.439931Z",
     "shell.execute_reply": "2022-04-07T03:32:59.439090Z"
    }
   },
   "outputs": [
    {
     "data": {
      "text/plain": [
       "True"
      ]
     },
     "execution_count": 19,
     "metadata": {},
     "output_type": "execute_result"
    }
   ],
   "source": [
    "regression_change.item(0) in set([0, 1, False, True])"
   ]
  },
  {
   "cell_type": "code",
   "execution_count": 20,
   "id": "fb0ffbf9",
   "metadata": {
    "execution": {
     "iopub.execute_input": "2022-04-07T03:32:59.443019Z",
     "iopub.status.busy": "2022-04-07T03:32:59.442794Z",
     "iopub.status.idle": "2022-04-07T03:32:59.448023Z",
     "shell.execute_reply": "2022-04-07T03:32:59.447372Z"
    }
   },
   "outputs": [
    {
     "data": {
      "text/plain": [
       "True"
      ]
     },
     "execution_count": 20,
     "metadata": {},
     "output_type": "execute_result"
    }
   ],
   "source": [
    "# HIDDEN\n",
    "np.all(regression_change == make_array(1, 3))"
   ]
  },
  {
   "cell_type": "raw",
   "id": "f6bf8025",
   "metadata": {},
   "source": [
    "# END TESTS"
   ]
  },
  {
   "cell_type": "raw",
   "id": "0de96236",
   "metadata": {},
   "source": [
    "# END QUESTION"
   ]
  },
  {
   "cell_type": "raw",
   "id": "dae479d5",
   "metadata": {},
   "source": [
    "# BEGIN QUESTION\n",
    "name: q1_7\n",
    "manual: false\n",
    "points:\n",
    " - 0\n",
    " - 5"
   ]
  },
  {
   "cell_type": "markdown",
   "id": "2779f25b",
   "metadata": {},
   "source": [
    "**Question 1.7.** Let's use `compute_regression_stats` (from Question 1.5) to predict what certain NBA Players' three point percentage (3PT %) would be given their Free Throw percentage (FT %). **(5 points)**\n",
    "\n",
    "The NBA player with the highest free throw percentage (FT %) is Klay Thompson with 92.7%. What is the prediction for Thompson's three point perecentage (3PT %) using this line?\n",
    "\n"
   ]
  },
  {
   "cell_type": "raw",
   "id": "27a6bb31",
   "metadata": {},
   "source": [
    "# BEGIN SOLUTION"
   ]
  },
  {
   "cell_type": "code",
   "execution_count": 21,
   "id": "d92e7822",
   "metadata": {
    "deletable": false,
    "execution": {
     "iopub.execute_input": "2022-04-07T03:32:59.451738Z",
     "iopub.status.busy": "2022-04-07T03:32:59.451227Z",
     "iopub.status.idle": "2022-04-07T03:32:59.455759Z",
     "shell.execute_reply": "2022-04-07T03:32:59.454937Z"
    }
   },
   "outputs": [
    {
     "name": "stdout",
     "output_type": "stream",
     "text": [
      "Predicted free throw percentage: 38.8%\n"
     ]
    }
   ],
   "source": [
    "free_throw_3pt_est = constraints.item(1) * 92.7 + constraints.item(2) # SOLUTION\n",
    "print(\"Predicted free throw percentage: {:.1f}%\".format(np.round(free_throw_3pt_est, 1)))"
   ]
  },
  {
   "cell_type": "raw",
   "id": "ced3b48a",
   "metadata": {},
   "source": [
    "# END SOLUTION"
   ]
  },
  {
   "cell_type": "raw",
   "id": "3c820762",
   "metadata": {},
   "source": [
    "# BEGIN TESTS"
   ]
  },
  {
   "cell_type": "code",
   "execution_count": 22,
   "id": "a0c45a2a",
   "metadata": {
    "execution": {
     "iopub.execute_input": "2022-04-07T03:32:59.459515Z",
     "iopub.status.busy": "2022-04-07T03:32:59.458811Z",
     "iopub.status.idle": "2022-04-07T03:32:59.464636Z",
     "shell.execute_reply": "2022-04-07T03:32:59.463914Z"
    }
   },
   "outputs": [
    {
     "data": {
      "text/plain": [
       "True"
      ]
     },
     "execution_count": 22,
     "metadata": {},
     "output_type": "execute_result"
    }
   ],
   "source": [
    "35 <= free_throw_3pt_est <= 45"
   ]
  },
  {
   "cell_type": "code",
   "execution_count": 23,
   "id": "240dd75c",
   "metadata": {
    "execution": {
     "iopub.execute_input": "2022-04-07T03:32:59.468750Z",
     "iopub.status.busy": "2022-04-07T03:32:59.468054Z",
     "iopub.status.idle": "2022-04-07T03:32:59.474560Z",
     "shell.execute_reply": "2022-04-07T03:32:59.473652Z"
    }
   },
   "outputs": [
    {
     "data": {
      "text/plain": [
       "True"
      ]
     },
     "execution_count": 23,
     "metadata": {},
     "output_type": "execute_result"
    }
   ],
   "source": [
    "# HIDDEN\n",
    "np.isclose(free_throw_3pt_est, 38.80853847205556)"
   ]
  },
  {
   "cell_type": "raw",
   "id": "bbb3b665",
   "metadata": {},
   "source": [
    "# END TESTS"
   ]
  },
  {
   "cell_type": "raw",
   "id": "114acb0b",
   "metadata": {},
   "source": [
    "# END QUESTION"
   ]
  },
  {
   "cell_type": "raw",
   "id": "6315a728",
   "metadata": {},
   "source": [
    "# BEGIN QUESTION\n",
    "name: q1_8\n",
    "manual: true"
   ]
  },
  {
   "cell_type": "markdown",
   "id": "a6eb6a1d",
   "metadata": {},
   "source": [
    "**Question 1.8.** Is it reliable to use this line to predict three point percentage (3PT %) of players? **(5 points)**\n",
    "\n",
    "*Hint:* Compare Thompson' three point percentage (3PT %)  to the three point percentage in `shots`. Is it relatively similar to the rest of the data (shown in Question 1.3)? \n"
   ]
  },
  {
   "cell_type": "raw",
   "id": "f989252e",
   "metadata": {},
   "source": [
    "# BEGIN SOLUTION"
   ]
  },
  {
   "cell_type": "markdown",
   "id": "75ae487c",
   "metadata": {
    "deletable": false,
    "manual_problem_id": "jumping_5"
   },
   "source": [
    "**SOLUTION:** You wouldn't expect the regression line to be reliabe since the r-value is fairly close to 0 indicating a weak linear association. However Klay's percentage is 38.7 which is close to 38.8. The range of 3-point percentages is quite small and it seems most are above 30% indicating strong 3-point shooters."
   ]
  },
  {
   "cell_type": "raw",
   "id": "cfd704b1",
   "metadata": {},
   "source": [
    "# END SOLUTION"
   ]
  },
  {
   "cell_type": "raw",
   "id": "91bf568e",
   "metadata": {},
   "source": [
    "# END QUESTION"
   ]
  },
  {
   "cell_type": "markdown",
   "id": "6d5ff73a",
   "metadata": {},
   "source": [
    "## 2. Smartphone Sales"
   ]
  },
  {
   "cell_type": "markdown",
   "id": "93d14715",
   "metadata": {},
   "source": [
    "Imagine you're a business analyst in December 2020. Smartphones are essential consumer goods, heavily influencing both technological trends and consumer behavior, and you want to understand the dynamics between competing models!\n",
    "\n",
    "The two most popular smartphone models are Apple's iPhone 12 and Samsung's Galaxy S20. Each model has daily sales figures, reflecting its market demand. For example, on the first day of sales in 2020, the iPhone 12 sold 1,060 units, and the Galaxy S20 sold 991 units.\n",
    "\n",
    "**You want to predict the sales of the Galaxy S20 on any given day based on the sales figures of the iPhone 12.** Below, we load a table called `iphone_vs_galaxy`. This table has 3 columns:\n",
    "* `Date`, the date\n",
    "* `iPhone Sales`,  the number of iPhone 12 units sold on that day,\n",
    "* `Galaxy Sales`,  the number of Galaxy S20 units sold on that day,\n",
    "* `Day`, the number of days since the start of our data"
   ]
  },
  {
   "cell_type": "code",
   "execution_count": 24,
   "id": "cac6de3c",
   "metadata": {
    "ExecuteTime": {
     "end_time": "2018-04-04T09:57:46.445990Z",
     "start_time": "2018-04-04T09:57:46.433958Z"
    },
    "execution": {
     "iopub.execute_input": "2022-04-07T03:32:59.497379Z",
     "iopub.status.busy": "2022-04-07T03:32:59.497125Z",
     "iopub.status.idle": "2022-04-07T03:32:59.509256Z",
     "shell.execute_reply": "2022-04-07T03:32:59.508571Z"
    }
   },
   "outputs": [
    {
     "data": {
      "text/html": [
       "<table border=\"1\" class=\"dataframe\">\n",
       "    <thead>\n",
       "        <tr>\n",
       "            <th>Date</th> <th>iPhone Sales</th> <th>Galaxy Sales</th> <th>Day</th>\n",
       "        </tr>\n",
       "    </thead>\n",
       "    <tbody>\n",
       "        <tr>\n",
       "            <td>1/1/20 </td> <td>1060        </td> <td>991         </td> <td>1   </td>\n",
       "        </tr>\n",
       "        <tr>\n",
       "            <td>1/2/20 </td> <td>978         </td> <td>937.5       </td> <td>2   </td>\n",
       "        </tr>\n",
       "        <tr>\n",
       "            <td>1/3/20 </td> <td>1067        </td> <td>983.5       </td> <td>3   </td>\n",
       "        </tr>\n",
       "        <tr>\n",
       "            <td>1/4/20 </td> <td>1167        </td> <td>988         </td> <td>4   </td>\n",
       "        </tr>\n",
       "        <tr>\n",
       "            <td>1/5/20 </td> <td>951         </td> <td>917.5       </td> <td>5   </td>\n",
       "        </tr>\n",
       "        <tr>\n",
       "            <td>1/6/20 </td> <td>946         </td> <td>936.5       </td> <td>6   </td>\n",
       "        </tr>\n",
       "        <tr>\n",
       "            <td>1/7/20 </td> <td>1159        </td> <td>1088.5      </td> <td>7   </td>\n",
       "        </tr>\n",
       "        <tr>\n",
       "            <td>1/8/20 </td> <td>1057        </td> <td>1010.5      </td> <td>8   </td>\n",
       "        </tr>\n",
       "        <tr>\n",
       "            <td>1/9/20 </td> <td>904         </td> <td>991.5       </td> <td>9   </td>\n",
       "        </tr>\n",
       "        <tr>\n",
       "            <td>1/10/20</td> <td>1020        </td> <td>901.5       </td> <td>10  </td>\n",
       "        </tr>\n",
       "        <tr>\n",
       "            <td>1/11/20</td> <td>895         </td> <td>919         </td> <td>11  </td>\n",
       "        </tr>\n",
       "        <tr>\n",
       "            <td>1/12/20</td> <td>890         </td> <td>880         </td> <td>12  </td>\n",
       "        </tr>\n",
       "        <tr>\n",
       "            <td>1/13/20</td> <td>971         </td> <td>1019        </td> <td>13  </td>\n",
       "        </tr>\n",
       "        <tr>\n",
       "            <td>1/14/20</td> <td>708         </td> <td>735.5       </td> <td>14  </td>\n",
       "        </tr>\n",
       "        <tr>\n",
       "            <td>1/15/20</td> <td>727         </td> <td>741.5       </td> <td>15  </td>\n",
       "        </tr>\n",
       "        <tr>\n",
       "            <td>1/16/20</td> <td>863         </td> <td>820         </td> <td>16  </td>\n",
       "        </tr>\n",
       "        <tr>\n",
       "            <td>1/17/20</td> <td>805         </td> <td>713         </td> <td>17  </td>\n",
       "        </tr>\n",
       "        <tr>\n",
       "            <td>1/18/20</td> <td>961         </td> <td>869.5       </td> <td>18  </td>\n",
       "        </tr>\n",
       "        <tr>\n",
       "            <td>1/19/20</td> <td>811         </td> <td>781.5       </td> <td>19  </td>\n",
       "        </tr>\n",
       "        <tr>\n",
       "            <td>1/20/20</td> <td>747         </td> <td>793.5       </td> <td>20  </td>\n",
       "        </tr>\n",
       "    </tbody>\n",
       "</table>\n",
       "<p>... (346 rows omitted)</p>"
      ],
      "text/plain": [
       "<IPython.core.display.HTML object>"
      ]
     },
     "metadata": {},
     "output_type": "display_data"
    }
   ],
   "source": [
    "iphone_vs_galaxy = Table.read_table('iPhone_vs_Galaxy_Sales.csv')\n",
    "iphone_vs_galaxy.show(20)"
   ]
  },
  {
   "cell_type": "raw",
   "id": "f338b82a",
   "metadata": {},
   "source": [
    "# BEGIN QUESTION\n",
    "name: q2_1\n",
    "manual: true\n",
    "image: true"
   ]
  },
  {
   "cell_type": "markdown",
   "id": "4029f93b",
   "metadata": {},
   "source": [
    "**Question 2.1.** In the cell below, create an overlaid scatter plot that visualizes the iPhones sales and Galaxy sales as a function of the day. Both iPhone and Galaxy sales should be plotted on the same graph. **(5 points)**\n",
    "\n",
    "*Hint*: [Section 7.3](https://inferentialthinking.com/chapters/07/3/Overlaid_Graphs.html#overlaid-line-plots) in the textbook might be helpful!\n",
    "\n",
    "*Note:* Think about how comparable iPhone 12 and Galaxy S20 sales are.\n"
   ]
  },
  {
   "cell_type": "raw",
   "id": "da6c1c8c",
   "metadata": {},
   "source": [
    "# BEGIN SOLUTION"
   ]
  },
  {
   "cell_type": "code",
   "execution_count": 25,
   "id": "76684072",
   "metadata": {
    "deletable": false,
    "execution": {
     "iopub.execute_input": "2022-04-07T03:32:59.552465Z",
     "iopub.status.busy": "2022-04-07T03:32:59.551829Z",
     "iopub.status.idle": "2022-04-07T03:32:59.841018Z",
     "shell.execute_reply": "2022-04-07T03:32:59.840150Z"
    },
    "for_assignment_type": "student"
   },
   "outputs": [
    {
     "data": {
      "image/png": "[encoded data removed]",
      "text/plain": [
       "<Figure size 500x500 with 1 Axes>"
      ]
     },
     "metadata": {},
     "output_type": "display_data"
    }
   ],
   "source": [
    "# BEGIN SOLUTION NO PROMPT\n",
    "iphone_galaxy_sales = iphone_vs_galaxy.select(\"Day\",\"iPhone Sales\", \"Galaxy Sales\" )\n",
    "iphone_galaxy_plot = iphone_galaxy_sales.scatter(\"Day\")\n",
    "\n",
    "# END SOLUTION\n",
    "\"\"\" # BEGIN PROMPT\n",
    "# Create a scatter plot of iPhone Sales and Galaxy Sales as a function of time\n",
    "...\n",
    "\"\"\"; # END PROMPT"
   ]
  },
  {
   "cell_type": "raw",
   "id": "66d1dae8",
   "metadata": {},
   "source": [
    "# END SOLUTION"
   ]
  },
  {
   "cell_type": "raw",
   "id": "989e65e5",
   "metadata": {},
   "source": [
    "# END QUESTION"
   ]
  },
  {
   "cell_type": "raw",
   "id": "f7916949",
   "metadata": {},
   "source": [
    "# BEGIN QUESTION\n",
    "name: q2_2\n",
    "manual: false\n",
    "points:\n",
    " - 0\n",
    " - 0\n",
    " - 5"
   ]
  },
  {
   "cell_type": "markdown",
   "id": "32d6a9b7",
   "metadata": {},
   "source": [
    "**Question 2.2.** Now, calculate the correlation coefficient between the sales of Apple iPhone 12 and Galaxy S20 using the `correlation` function you defined earlier. **(5 points)**\n"
   ]
  },
  {
   "cell_type": "raw",
   "id": "6ec2f965",
   "metadata": {},
   "source": [
    "# BEGIN SOLUTION"
   ]
  },
  {
   "cell_type": "code",
   "execution_count": 26,
   "id": "cad0b13a",
   "metadata": {
    "ExecuteTime": {
     "end_time": "2018-04-04T09:57:57.365938Z",
     "start_time": "2018-04-04T09:57:57.357879Z"
    },
    "deletable": false,
    "execution": {
     "iopub.execute_input": "2022-04-07T03:32:59.844739Z",
     "iopub.status.busy": "2022-04-07T03:32:59.844079Z",
     "iopub.status.idle": "2022-04-07T03:32:59.850351Z",
     "shell.execute_reply": "2022-04-07T03:32:59.849673Z"
    }
   },
   "outputs": [
    {
     "data": {
      "text/plain": [
       "0.84201087183279122"
      ]
     },
     "execution_count": 26,
     "metadata": {},
     "output_type": "execute_result"
    }
   ],
   "source": [
    "r = correlation(iphone_vs_galaxy.column('Galaxy Sales'), iphone_vs_galaxy.column('iPhone Sales')) #SOLUTION\n",
    "r"
   ]
  },
  {
   "cell_type": "raw",
   "id": "52bec198",
   "metadata": {},
   "source": [
    "# END SOLUTION"
   ]
  },
  {
   "cell_type": "raw",
   "id": "22581953",
   "metadata": {},
   "source": [
    "# BEGIN TESTS"
   ]
  },
  {
   "cell_type": "code",
   "execution_count": 27,
   "id": "2e484ced",
   "metadata": {
    "execution": {
     "iopub.execute_input": "2022-04-07T03:32:59.853602Z",
     "iopub.status.busy": "2022-04-07T03:32:59.853084Z",
     "iopub.status.idle": "2022-04-07T03:32:59.858341Z",
     "shell.execute_reply": "2022-04-07T03:32:59.857574Z"
    }
   },
   "outputs": [
    {
     "data": {
      "text/plain": [
       "True"
      ]
     },
     "execution_count": 27,
     "metadata": {},
     "output_type": "execute_result"
    }
   ],
   "source": [
    "# Correlation is a number between -1 and 1\n",
    "-1 <= r <= 1"
   ]
  },
  {
   "cell_type": "code",
   "execution_count": 28,
   "id": "dd69a07c",
   "metadata": {
    "execution": {
     "iopub.execute_input": "2022-04-07T03:32:59.861869Z",
     "iopub.status.busy": "2022-04-07T03:32:59.861204Z",
     "iopub.status.idle": "2022-04-07T03:32:59.867564Z",
     "shell.execute_reply": "2022-04-07T03:32:59.866845Z"
    }
   },
   "outputs": [
    {
     "data": {
      "text/plain": [
       "True"
      ]
     },
     "execution_count": 28,
     "metadata": {},
     "output_type": "execute_result"
    }
   ],
   "source": [
    "# It appears that you implemented std_units, but did so incorrectly\n",
    "std_units(np.arange(5)) is None or np.allclose(std_units(np.arange(5)), [-1.41421356, -0.70710678,  0,  0.70710678,  1.41421356])"
   ]
  },
  {
   "cell_type": "code",
   "execution_count": 29,
   "id": "7d323fb8",
   "metadata": {
    "execution": {
     "iopub.execute_input": "2022-04-07T03:32:59.871170Z",
     "iopub.status.busy": "2022-04-07T03:32:59.870522Z",
     "iopub.status.idle": "2022-04-07T03:32:59.875681Z",
     "shell.execute_reply": "2022-04-07T03:32:59.874958Z"
    }
   },
   "outputs": [
    {
     "data": {
      "text/plain": [
       "True"
      ]
     },
     "execution_count": 29,
     "metadata": {},
     "output_type": "execute_result"
    }
   ],
   "source": [
    "# HIDDEN\n",
    "np.isclose(r, 0.84201087183279122)"
   ]
  },
  {
   "cell_type": "raw",
   "id": "a14cf179",
   "metadata": {},
   "source": [
    "# END TESTS"
   ]
  },
  {
   "cell_type": "raw",
   "id": "4d79a596",
   "metadata": {},
   "source": [
    "# END QUESTION"
   ]
  },
  {
   "cell_type": "raw",
   "id": "2ab9bddd",
   "metadata": {},
   "source": [
    "# BEGIN QUESTION\n",
    "name: q2_3\n",
    "manual: false\n",
    "points:\n",
    " - 0\n",
    " - 2\n",
    " - 3"
   ]
  },
  {
   "cell_type": "markdown",
   "id": "af9d4e26",
   "metadata": {},
   "source": [
    "**Question 2.3.** Write a function `galaxy_sales_predictor` which takes daily sales figures for the iPhone 12 and predicts the daily sales of the Galaxy S20. Use the function `compute_regression_stats` that you defined earlier in this homework to assist in this process. **(5 points)**\n",
    "\n",
    "*Hint*: Double-check what the `tbl` input to `compute_regression_stats` must look like!\n",
    "\n",
    "*Note*: Ensure that your `galaxy_sales_predictor` function is using least squares linear regression to make predictions.\n",
    "\n"
   ]
  },
  {
   "cell_type": "raw",
   "id": "a7c801d1",
   "metadata": {},
   "source": [
    "# BEGIN SOLUTION"
   ]
  },
  {
   "cell_type": "code",
   "execution_count": 30,
   "id": "2e59dc1a",
   "metadata": {
    "deletable": false,
    "execution": {
     "iopub.execute_input": "2022-04-07T03:32:59.878802Z",
     "iopub.status.busy": "2022-04-07T03:32:59.878510Z",
     "iopub.status.idle": "2022-04-07T03:32:59.883169Z",
     "shell.execute_reply": "2022-04-07T03:32:59.882405Z"
    }
   },
   "outputs": [],
   "source": [
    "def galaxy_sales_predictor(iPhone_sales):\n",
    "    parameters = compute_regression_stats(iphone_vs_galaxy.select(\"iPhone Sales\", \"Galaxy Sales\" )) #SOLUTION\n",
    "    slope = parameters.item(1) #SOLUTION\n",
    "    intercept = parameters.item(2) #SOLUTION\n",
    "    return slope * iPhone_sales + intercept #SOLUTION"
   ]
  },
  {
   "cell_type": "raw",
   "id": "2f49c6c6",
   "metadata": {},
   "source": [
    "# END SOLUTION"
   ]
  },
  {
   "cell_type": "raw",
   "id": "e4f56ff3",
   "metadata": {},
   "source": [
    "# BEGIN TESTS"
   ]
  },
  {
   "cell_type": "code",
   "execution_count": 31,
   "id": "63c49b79",
   "metadata": {},
   "outputs": [
    {
     "data": {
      "text/plain": [
       "array([ 308.08464403,  308.73092002,  309.37719601,  310.02347201,\n",
       "        310.669748  ])"
      ]
     },
     "execution_count": 31,
     "metadata": {},
     "output_type": "execute_result"
    }
   ],
   "source": [
    "galaxy_sales_predictor(np.arange(10,15))"
   ]
  },
  {
   "cell_type": "code",
   "execution_count": 32,
   "id": "dccacbf8",
   "metadata": {
    "execution": {
     "iopub.execute_input": "2022-04-07T03:32:59.886481Z",
     "iopub.status.busy": "2022-04-07T03:32:59.885928Z",
     "iopub.status.idle": "2022-04-07T03:32:59.891785Z",
     "shell.execute_reply": "2022-04-07T03:32:59.891138Z"
    }
   },
   "outputs": [
    {
     "data": {
      "text/plain": [
       "True"
      ]
     },
     "execution_count": 32,
     "metadata": {},
     "output_type": "execute_result"
    }
   ],
   "source": [
    "0 < galaxy_sales_predictor(10) < 400"
   ]
  },
  {
   "cell_type": "code",
   "execution_count": 33,
   "id": "075a44fd",
   "metadata": {
    "execution": {
     "iopub.execute_input": "2022-04-07T03:32:59.894995Z",
     "iopub.status.busy": "2022-04-07T03:32:59.894375Z",
     "iopub.status.idle": "2022-04-07T03:32:59.900505Z",
     "shell.execute_reply": "2022-04-07T03:32:59.899694Z"
    }
   },
   "outputs": [
    {
     "data": {
      "text/plain": [
       "True"
      ]
     },
     "execution_count": 33,
     "metadata": {},
     "output_type": "execute_result"
    }
   ],
   "source": [
    "# HIDDEN\n",
    "np.allclose(galaxy_sales_predictor(np.arange(10,15)), [ 308.08464403 ,  308.73092002,  309.37719601,  310.02347201,  310.669748 ])"
   ]
  },
  {
   "cell_type": "raw",
   "id": "b8b51570",
   "metadata": {},
   "source": [
    "# END TESTS"
   ]
  },
  {
   "cell_type": "raw",
   "id": "51c7c7c0",
   "metadata": {},
   "source": [
    "# END QUESTION"
   ]
  },
  {
   "cell_type": "raw",
   "id": "f1cb23ec",
   "metadata": {},
   "source": [
    "# BEGIN QUESTION\n",
    "name: q2_4\n",
    "manual: true\n",
    "image: true"
   ]
  },
  {
   "cell_type": "markdown",
   "id": "534f7e8b",
   "metadata": {},
   "source": [
    "**Question 2.4.** Now, using the `galaxy_sales_predictor` function you just defined, make a scatter plot with iPhone 12 sales along the x-axis and both actual and predicted Galaxy S20 sales along the y-axis. The color of the dots for the actual Galaxy S20 sales should be different from the color for the predicted Galaxy S20 sales. **(5 points)**\n",
    "\n",
    "*Hint 1:* An example of such a scatter plot is generated can be found [here](https://inferentialthinking.com/chapters/15/2/Regression_Line.html). </a>\n",
    "\n",
    "*Hint 2*: Think about the table that must be produced and used to generate this scatter plot. The table should include columns for iPhone 12 sales, actual Galaxy S20 sales, and predicted Galaxy S20 sales. Each row in the table should represent a day’s data. Constructing the table will be the main part of this question; once you have this table, generating the scatter plot should be straightforward as usual.\n"
   ]
  },
  {
   "cell_type": "raw",
   "id": "33624d94",
   "metadata": {},
   "source": [
    "# BEGIN SOLUTION"
   ]
  },
  {
   "cell_type": "code",
   "execution_count": 34,
   "id": "986c93e2",
   "metadata": {
    "execution": {
     "iopub.execute_input": "2022-04-07T03:32:59.904214Z",
     "iopub.status.busy": "2022-04-07T03:32:59.903590Z",
     "iopub.status.idle": "2022-04-07T03:33:00.381009Z",
     "shell.execute_reply": "2022-04-07T03:33:00.380065Z"
    },
    "for_assignment_type": "solution"
   },
   "outputs": [
    {
     "data": {
      "image/png": "[encoded data removed]",
      "text/plain": [
       "<Figure size 500x500 with 1 Axes>"
      ]
     },
     "metadata": {},
     "output_type": "display_data"
    }
   ],
   "source": [
    "iPhone_sales = iphone_vs_galaxy.select('iPhone Sales') # SOLUTION\n",
    "galaxy_pred = iPhone_sales.with_column(\"predicted galaxy sales\", iphone_vs_galaxy.apply(galaxy_sales_predictor, \"iPhone Sales\")) # SOLUTION\n",
    "galaxy_pred_actual = galaxy_pred.with_column(\"actual galaxy sales\", iphone_vs_galaxy.column(\"Galaxy Sales\")) # SOLUTION\n",
    "galaxy_pred_actual.scatter('iPhone Sales') # SOLUTION"
   ]
  },
  {
   "cell_type": "raw",
   "id": "3c92186b",
   "metadata": {},
   "source": [
    "# END SOLUTION"
   ]
  },
  {
   "cell_type": "raw",
   "id": "0159fad8",
   "metadata": {},
   "source": [
    "# END QUESTION"
   ]
  },
  {
   "cell_type": "raw",
   "id": "7fa52f80",
   "metadata": {},
   "source": [
    "# BEGIN QUESTION\n",
    "name: q2_5\n",
    "manual: true"
   ]
  },
  {
   "cell_type": "markdown",
   "id": "62e5d04f",
   "metadata": {},
   "source": [
    "**Question 2.5.** Considering the shape of the scatter plot of the true data, is the model we used reasonable? If so, what features or characteristics make this model reasonable? If not, what features or characteristics make it unreasonable? **(5 points)**\n"
   ]
  },
  {
   "cell_type": "raw",
   "id": "cc21dde5",
   "metadata": {},
   "source": [
    "# BEGIN SOLUTION"
   ]
  },
  {
   "cell_type": "markdown",
   "id": "7afca6b1",
   "metadata": {
    "deletable": false,
    "manual_problem_id": "crypto_5"
   },
   "source": [
    "**SOLUTION:** The model is reasonable for this particular data, as the data points are heavily clustered around the prediction line, indicated a strong linear association. "
   ]
  },
  {
   "cell_type": "raw",
   "id": "072c7608",
   "metadata": {},
   "source": [
    "# END SOLUTION"
   ]
  },
  {
   "cell_type": "raw",
   "id": "315f44ac",
   "metadata": {},
   "source": [
    "# END QUESTION"
   ]
  },
  {
   "cell_type": "markdown",
   "id": "bc534ed0",
   "metadata": {},
   "source": [
    "## 3. Evaluating NFL Game Predictions"
   ]
  },
  {
   "cell_type": "markdown",
   "id": "11aa68b6",
   "metadata": {},
   "source": [
    "#### A Brief Introduction to Sports Betting\n",
    "\n",
    "In an NFL game, similar to basketball, the team playing at its home stadium is known as the \"home team\", while the team visiting the stadium is the \"away team\". Each team competes to score points through touchdowns, field goals, and safeties, and at the end of the game, the team with the greater number of points is declared the winner.\n",
    "\n",
    "The difference in score can be expressed through what is known as the **outcome**, which is calculated by **subtracting the home team's score from the away team's score**:\n",
    "\n",
    "\n",
    "\n",
    "$$\\text{outcome} = \\text{points scored by the away team} - \\text{points scored by the home team}$$\n",
    "\n",
    "If this number is positive, the away team won. If the number is negative, the home team won the game.\n",
    "\n",
    "In order to facilitate betting on games, analysts at casinos try to predict the outcome of the game. This prediction of the outcome is called the **spread.** The **spread** is a forecast of the number of points by which a stronger team is expected to defeat a weaker one."
   ]
  },
  {
   "cell_type": "code",
   "execution_count": 62,
   "id": "1aa39df3",
   "metadata": {},
   "outputs": [
    {
     "data": {
      "text/html": [
       "<table border=\"1\" class=\"dataframe\">\n",
       "    <thead>\n",
       "        <tr>\n",
       "            <th>Date</th> <th>Home Team</th> <th>Away Team</th> <th>Home Score</th> <th>Away Score</th> <th>Outcome</th> <th>Spread</th>\n",
       "        </tr>\n",
       "    </thead>\n",
       "    <tbody>\n",
       "        <tr>\n",
       "            <td>1/14/68</td> <td>GB       </td> <td>LVR      </td> <td>33        </td> <td>14        </td> <td>-19    </td> <td>-13.5 </td>\n",
       "        </tr>\n",
       "        <tr>\n",
       "            <td>1/12/69</td> <td>IND      </td> <td>NYJ      </td> <td>7         </td> <td>16        </td> <td>9      </td> <td>-18   </td>\n",
       "        </tr>\n",
       "        <tr>\n",
       "            <td>1/11/70</td> <td>KC       </td> <td>MIN      </td> <td>23        </td> <td>7         </td> <td>-16    </td> <td>-12   </td>\n",
       "        </tr>\n",
       "        <tr>\n",
       "            <td>1/17/71</td> <td>IND      </td> <td>DAL      </td> <td>16        </td> <td>13        </td> <td>-3     </td> <td>-2.5  </td>\n",
       "        </tr>\n",
       "        <tr>\n",
       "            <td>1/16/72</td> <td>DAL      </td> <td>MIA      </td> <td>24        </td> <td>3         </td> <td>-21    </td> <td>-6    </td>\n",
       "        </tr>\n",
       "        <tr>\n",
       "            <td>1/14/73</td> <td>MIA      </td> <td>WAS      </td> <td>14        </td> <td>7         </td> <td>-7     </td> <td>-1    </td>\n",
       "        </tr>\n",
       "        <tr>\n",
       "            <td>1/13/74</td> <td>MIA      </td> <td>MIN      </td> <td>24        </td> <td>7         </td> <td>-17    </td> <td>-6.5  </td>\n",
       "        </tr>\n",
       "        <tr>\n",
       "            <td>1/12/75</td> <td>MIN      </td> <td>PIT      </td> <td>6         </td> <td>16        </td> <td>10     </td> <td>-3    </td>\n",
       "        </tr>\n",
       "        <tr>\n",
       "            <td>1/18/76</td> <td>DAL      </td> <td>PIT      </td> <td>17        </td> <td>21        </td> <td>4      </td> <td>-7    </td>\n",
       "        </tr>\n",
       "        <tr>\n",
       "            <td>1/9/77 </td> <td>MIN      </td> <td>LVR      </td> <td>14        </td> <td>32        </td> <td>18     </td> <td>-4    </td>\n",
       "        </tr>\n",
       "        <tr>\n",
       "            <td>1/15/78</td> <td>DAL      </td> <td>DEN      </td> <td>27        </td> <td>10        </td> <td>-17    </td> <td>-6    </td>\n",
       "        </tr>\n",
       "        <tr>\n",
       "            <td>1/21/79</td> <td>DAL      </td> <td>PIT      </td> <td>31        </td> <td>35        </td> <td>4      </td> <td>3.5   </td>\n",
       "        </tr>\n",
       "        <tr>\n",
       "            <td>9/1/79 </td> <td>TB       </td> <td>DET      </td> <td>31        </td> <td>16        </td> <td>-15    </td> <td>-3    </td>\n",
       "        </tr>\n",
       "        <tr>\n",
       "            <td>9/2/79 </td> <td>BUF      </td> <td>MIA      </td> <td>7         </td> <td>9         </td> <td>2      </td> <td>-5    </td>\n",
       "        </tr>\n",
       "        <tr>\n",
       "            <td>9/2/79 </td> <td>CHI      </td> <td>GB       </td> <td>6         </td> <td>3         </td> <td>-3     </td> <td>-3    </td>\n",
       "        </tr>\n",
       "        <tr>\n",
       "            <td>9/2/79 </td> <td>DEN      </td> <td>CIN      </td> <td>10        </td> <td>0         </td> <td>-10    </td> <td>-3    </td>\n",
       "        </tr>\n",
       "        <tr>\n",
       "            <td>9/2/79 </td> <td>KC       </td> <td>IND      </td> <td>14        </td> <td>0         </td> <td>-14    </td> <td>-1    </td>\n",
       "        </tr>\n",
       "        <tr>\n",
       "            <td>9/2/79 </td> <td>LAR      </td> <td>LVR      </td> <td>17        </td> <td>24        </td> <td>7      </td> <td>-4    </td>\n",
       "        </tr>\n",
       "        <tr>\n",
       "            <td>9/2/79 </td> <td>MIN      </td> <td>SF       </td> <td>28        </td> <td>22        </td> <td>-6     </td> <td>-7    </td>\n",
       "        </tr>\n",
       "        <tr>\n",
       "            <td>9/2/79 </td> <td>NO       </td> <td>ATL      </td> <td>34        </td> <td>40        </td> <td>6      </td> <td>5     </td>\n",
       "        </tr>\n",
       "    </tbody>\n",
       "</table>\n",
       "<p>... (1063 rows omitted)</p>"
      ],
      "text/plain": [
       "<IPython.core.display.HTML object>"
      ]
     },
     "metadata": {},
     "output_type": "display_data"
    }
   ],
   "source": [
    "nfl_spreads = Table.read_table(\"NFL Spread2.csv\")\n",
    "nfl_spreads.show(20)"
   ]
  },
  {
   "cell_type": "markdown",
   "id": "9e479cbb",
   "metadata": {},
   "source": [
    "Here's a scatter plot of the outcomes and spreads, with the spreads on the horizontal axis."
   ]
  },
  {
   "cell_type": "code",
   "execution_count": 63,
   "id": "4cd09042",
   "metadata": {},
   "outputs": [
    {
     "data": {
      "image/png": "[encoded data removed]",
      "text/plain": [
       "<Figure size 500x500 with 1 Axes>"
      ]
     },
     "metadata": {},
     "output_type": "display_data"
    }
   ],
   "source": [
    "nfl_spreads.scatter(\"Spread\", \"Outcome\")"
   ]
  },
  {
   "cell_type": "markdown",
   "id": "2f3e1ef7",
   "metadata": {},
   "source": [
    "Let's investigate how well the casinos are predicting game outcomes.\n",
    "\n",
    "One question we can ask is: Is the casino's prediction correct on average? In other words, for every value of the spread, is the average outcome of games assigned that spread equal to the spread? If not, the casino would apparently be making a systematic error in its predictions."
   ]
  },
  {
   "cell_type": "raw",
   "id": "c11d7380",
   "metadata": {},
   "source": [
    "# BEGIN QUESTION\n",
    "name: q3_1\n",
    "manual: false\n",
    "points:\n",
    " - 0\n",
    " - 5"
   ]
  },
  {
   "cell_type": "markdown",
   "id": "b669cffd",
   "metadata": {},
   "source": [
    "**Question 3.1.** Compute the correlation coefficient between outcomes and spreads. **(5 points)**\n",
    "\n",
    "*Note:* It might be helpful to use the `correlation` function.\n"
   ]
  },
  {
   "cell_type": "raw",
   "id": "a59a508c",
   "metadata": {},
   "source": [
    "# BEGIN SOLUTION"
   ]
  },
  {
   "cell_type": "code",
   "execution_count": 64,
   "id": "de6822f3",
   "metadata": {
    "deletable": false,
    "execution": {
     "iopub.execute_input": "2022-04-07T03:33:00.701824Z",
     "iopub.status.busy": "2022-04-07T03:33:00.701552Z",
     "iopub.status.idle": "2022-04-07T03:33:00.708023Z",
     "shell.execute_reply": "2022-04-07T03:33:00.707219Z"
    }
   },
   "outputs": [
    {
     "data": {
      "text/plain": [
       "0.04123242222778848"
      ]
     },
     "execution_count": 64,
     "metadata": {},
     "output_type": "execute_result"
    }
   ],
   "source": [
    "nfl_spread_r = correlation(nfl_spreads.column(\"Outcome\"), nfl_spreads.column(\"Spread\")) #SOLUTION\n",
    "nfl_spread_r"
   ]
  },
  {
   "cell_type": "raw",
   "id": "34175cf5",
   "metadata": {},
   "source": [
    "# END SOLUTION"
   ]
  },
  {
   "cell_type": "raw",
   "id": "d796325d",
   "metadata": {},
   "source": [
    "# BEGIN TESTS"
   ]
  },
  {
   "cell_type": "code",
   "execution_count": 65,
   "id": "9105c436",
   "metadata": {
    "execution": {
     "iopub.execute_input": "2022-04-07T03:33:00.711691Z",
     "iopub.status.busy": "2022-04-07T03:33:00.710953Z",
     "iopub.status.idle": "2022-04-07T03:33:00.716286Z",
     "shell.execute_reply": "2022-04-07T03:33:00.715543Z"
    }
   },
   "outputs": [
    {
     "data": {
      "text/plain": [
       "True"
      ]
     },
     "execution_count": 65,
     "metadata": {},
     "output_type": "execute_result"
    }
   ],
   "source": [
    "-1 <= nfl_spread_r <= 1"
   ]
  },
  {
   "cell_type": "code",
   "execution_count": 66,
   "id": "0eab7d2d",
   "metadata": {
    "execution": {
     "iopub.execute_input": "2022-04-07T03:33:00.719826Z",
     "iopub.status.busy": "2022-04-07T03:33:00.719138Z",
     "iopub.status.idle": "2022-04-07T03:33:00.739458Z",
     "shell.execute_reply": "2022-04-07T03:33:00.738538Z"
    }
   },
   "outputs": [
    {
     "data": {
      "text/plain": [
       "True"
      ]
     },
     "execution_count": 66,
     "metadata": {},
     "output_type": "execute_result"
    }
   ],
   "source": [
    "# HIDDEN\n",
    "np.isclose(nfl_spread_r, 0.04123242222778848)"
   ]
  },
  {
   "cell_type": "raw",
   "id": "ac1ca894",
   "metadata": {},
   "source": [
    "# END TESTS"
   ]
  },
  {
   "cell_type": "raw",
   "id": "6351b45e",
   "metadata": {},
   "source": [
    "# END QUESTION"
   ]
  },
  {
   "cell_type": "raw",
   "id": "4c8961fd",
   "metadata": {},
   "source": [
    "# BEGIN QUESTION\n",
    "name: q3_2\n",
    "manual: false\n",
    "points:\n",
    " - 0\n",
    " - 5"
   ]
  },
  {
   "cell_type": "markdown",
   "id": "45b69f1c",
   "metadata": {},
   "source": [
    "**Question 3.2.** Among games with a spread between .5 and 3.5 (including both .5 and 3.5), what was the average outcome? **(5 points)**\n"
   ]
  },
  {
   "cell_type": "raw",
   "id": "b2675a27",
   "metadata": {},
   "source": [
    "# BEGIN SOLUTION"
   ]
  },
  {
   "cell_type": "code",
   "execution_count": 67,
   "id": "ad389c9f",
   "metadata": {
    "deletable": false,
    "execution": {
     "iopub.execute_input": "2022-04-07T03:33:00.743345Z",
     "iopub.status.busy": "2022-04-07T03:33:00.742709Z",
     "iopub.status.idle": "2022-04-07T03:33:00.761554Z",
     "shell.execute_reply": "2022-04-07T03:33:00.760731Z"
    }
   },
   "outputs": [
    {
     "name": "stdout",
     "output_type": "stream",
     "text": [
      "Average outcome for spreads around 2: -3.48958333333\n"
     ]
    }
   ],
   "source": [
    "nfl_spreads_around_2 = nfl_spreads.where(\"Spread\", are.between_or_equal_to(.5, 3.5)) #SOLUTION\n",
    "nfl_spread_2_outcome_average = np.mean(nfl_spreads_around_2.column(\"Outcome\")) #SOLUTION\n",
    "print(\"Average outcome for spreads around 2:\", nfl_spread_2_outcome_average)"
   ]
  },
  {
   "cell_type": "raw",
   "id": "b4f0843b",
   "metadata": {},
   "source": [
    "# END SOLUTION"
   ]
  },
  {
   "cell_type": "raw",
   "id": "6384f843",
   "metadata": {},
   "source": [
    "# BEGIN TESTS"
   ]
  },
  {
   "cell_type": "code",
   "execution_count": 68,
   "id": "acfa1fc7",
   "metadata": {
    "execution": {
     "iopub.execute_input": "2022-04-07T03:33:00.764799Z",
     "iopub.status.busy": "2022-04-07T03:33:00.764548Z",
     "iopub.status.idle": "2022-04-07T03:33:00.770148Z",
     "shell.execute_reply": "2022-04-07T03:33:00.769175Z"
    }
   },
   "outputs": [
    {
     "data": {
      "text/plain": [
       "True"
      ]
     },
     "execution_count": 68,
     "metadata": {},
     "output_type": "execute_result"
    }
   ],
   "source": [
    "-4 <= nfl_spread_2_outcome_average <= nfl_spread_2_outcome_average"
   ]
  },
  {
   "cell_type": "code",
   "execution_count": 69,
   "id": "ee60b225",
   "metadata": {
    "execution": {
     "iopub.execute_input": "2022-04-07T03:33:00.773596Z",
     "iopub.status.busy": "2022-04-07T03:33:00.772913Z",
     "iopub.status.idle": "2022-04-07T03:33:00.778005Z",
     "shell.execute_reply": "2022-04-07T03:33:00.777243Z"
    }
   },
   "outputs": [
    {
     "data": {
      "text/plain": [
       "True"
      ]
     },
     "execution_count": 69,
     "metadata": {},
     "output_type": "execute_result"
    }
   ],
   "source": [
    "# HIDDEN\n",
    "np.isclose(nfl_spread_2_outcome_average, -3.48958333333)"
   ]
  },
  {
   "cell_type": "raw",
   "id": "a3e8372b",
   "metadata": {},
   "source": [
    "# END TESTS"
   ]
  },
  {
   "cell_type": "raw",
   "id": "d226de37",
   "metadata": {},
   "source": [
    "# END QUESTION"
   ]
  },
  {
   "cell_type": "raw",
   "id": "06a07d38",
   "metadata": {},
   "source": [
    "# BEGIN QUESTION\n",
    "name: q3_3\n",
    "manual: false\n",
    "points:\n",
    " - 0\n",
    " - 2\n",
    " - 3"
   ]
  },
  {
   "cell_type": "markdown",
   "id": "fea658ce",
   "metadata": {},
   "source": [
    "**Question 3.3.** Using the `compute_regression_stats` function that you defined earlier, compute the least squares linear regression line for predicting the actual game outcomes from the provided betting spreads. We have prepared a dataset for you, structured in a two-column format; the first column is labeled `Spread` (predictor variable, x), and the second column is labeled `Outcome` (response variable, y). Use this dataset as an argument to your function to carry out the regression analysis. **(5 points)**\n",
    "\n"
   ]
  },
  {
   "cell_type": "raw",
   "id": "a77532ba",
   "metadata": {},
   "source": [
    "# BEGIN SOLUTION"
   ]
  },
  {
   "cell_type": "code",
   "execution_count": 70,
   "id": "c129ea7b",
   "metadata": {
    "deletable": false,
    "execution": {
     "iopub.execute_input": "2022-04-07T03:33:00.781303Z",
     "iopub.status.busy": "2022-04-07T03:33:00.780646Z",
     "iopub.status.idle": "2022-04-07T03:33:00.786958Z",
     "shell.execute_reply": "2022-04-07T03:33:00.786287Z"
    },
    "scrolled": true
   },
   "outputs": [
    {
     "name": "stdout",
     "output_type": "stream",
     "text": [
      "Slope: 0.066\n",
      "Intercept -2.753\n"
     ]
    }
   ],
   "source": [
    "evaluate_table = nfl_spreads.select('Spread', 'Outcome')\n",
    "approximate = compute_regression_stats(evaluate_table) # SOLUTION\n",
    "nfl_spread_slope = approximate.item(1) # SOLUTION\n",
    "nfl_spread_intercept = approximate.item(2) # SOLUTION\n",
    "print(\"Slope:\", round(nfl_spread_slope, 3))\n",
    "print(\"Intercept\", round(nfl_spread_intercept, 3))"
   ]
  },
  {
   "cell_type": "raw",
   "id": "8cf7f1ec",
   "metadata": {},
   "source": [
    "# END SOLUTION"
   ]
  },
  {
   "cell_type": "raw",
   "id": "6ec0af91",
   "metadata": {},
   "source": [
    "# BEGIN TESTS"
   ]
  },
  {
   "cell_type": "code",
   "execution_count": 71,
   "id": "2f24f143",
   "metadata": {
    "execution": {
     "iopub.execute_input": "2022-04-07T03:33:00.790354Z",
     "iopub.status.busy": "2022-04-07T03:33:00.789704Z",
     "iopub.status.idle": "2022-04-07T03:33:00.794861Z",
     "shell.execute_reply": "2022-04-07T03:33:00.794183Z"
    }
   },
   "outputs": [
    {
     "data": {
      "text/plain": [
       "True"
      ]
     },
     "execution_count": 71,
     "metadata": {},
     "output_type": "execute_result"
    }
   ],
   "source": [
    "-1 <= nfl_spread_slope < .6"
   ]
  },
  {
   "cell_type": "code",
   "execution_count": 72,
   "id": "6d44a00c",
   "metadata": {
    "execution": {
     "iopub.execute_input": "2022-04-07T03:33:00.805773Z",
     "iopub.status.busy": "2022-04-07T03:33:00.805250Z",
     "iopub.status.idle": "2022-04-07T03:33:00.839469Z",
     "shell.execute_reply": "2022-04-07T03:33:00.838711Z"
    }
   },
   "outputs": [
    {
     "data": {
      "text/plain": [
       "True"
      ]
     },
     "execution_count": 72,
     "metadata": {},
     "output_type": "execute_result"
    }
   ],
   "source": [
    "# HIDDEN\n",
    "np.isclose(nfl_spread_slope, 0.06630266535812503)"
   ]
  },
  {
   "cell_type": "code",
   "execution_count": 73,
   "id": "a8aaccdb",
   "metadata": {
    "execution": {
     "iopub.execute_input": "2022-04-07T03:33:00.843128Z",
     "iopub.status.busy": "2022-04-07T03:33:00.842632Z",
     "iopub.status.idle": "2022-04-07T03:33:00.848083Z",
     "shell.execute_reply": "2022-04-07T03:33:00.847371Z"
    }
   },
   "outputs": [
    {
     "data": {
      "text/plain": [
       "True"
      ]
     },
     "execution_count": 73,
     "metadata": {},
     "output_type": "execute_result"
    }
   ],
   "source": [
    "# HIDDEN\n",
    "np.isclose(nfl_spread_intercept, -2.7531093171024974)"
   ]
  },
  {
   "cell_type": "raw",
   "id": "b277e91f",
   "metadata": {},
   "source": [
    "# END TESTS"
   ]
  },
  {
   "cell_type": "raw",
   "id": "ecdaa617",
   "metadata": {},
   "source": [
    "# END QUESTION"
   ]
  },
  {
   "cell_type": "raw",
   "id": "45eb833b",
   "metadata": {},
   "source": [
    "# BEGIN QUESTION\n",
    "name: q3_4\n",
    "manual: true"
   ]
  },
  {
   "cell_type": "markdown",
   "id": "8056bec4",
   "metadata": {},
   "source": [
    "**Question 3.4.** \n",
    "Do you think this regression line will provide casino analysts with a reliable prediction of game outcomes? Provide a rationale for your answer. Include a discussion of the correlation coefficient and the scatter plot in your answer. **(5 points)**\n"
   ]
  },
  {
   "cell_type": "raw",
   "id": "6b7c9473",
   "metadata": {},
   "source": [
    "# BEGIN SOLUTION"
   ]
  },
  {
   "cell_type": "markdown",
   "id": "0c9d2e9c",
   "metadata": {
    "deletable": false,
    "manual_problem_id": "nba_7"
   },
   "source": [
    "**SOLUTION:** No. The correlation coefficient is very close to 0 indicating no linear correlation between spreads and outcomes, and the widely dispersed data points on the scatter plot which do not follow a linar pattern, support this conclusion."
   ]
  },
  {
   "cell_type": "raw",
   "id": "8142a488",
   "metadata": {},
   "source": [
    "# END SOLUTION"
   ]
  },
  {
   "cell_type": "raw",
   "id": "ed49cd69",
   "metadata": {},
   "source": [
    "# END QUESTION"
   ]
  },
  {
   "cell_type": "markdown",
   "id": "65ec40cf",
   "metadata": {},
   "source": [
    "### Fitting a Least-Squares Regression Line\n",
    "\n",
    "Recall that the least-squares regression line is the unique straight line that minimizes root mean squared error (RMSE) among all possible fit lines. Using this property, we can find the equation of the regression line by finding the pair of slope and intercept values that minimize root mean squared error. "
   ]
  },
  {
   "cell_type": "raw",
   "id": "38ca0a13",
   "metadata": {},
   "source": [
    "# BEGIN QUESTION\n",
    "name: q3_5\n",
    "manual: false\n",
    "points:\n",
    " - 0\n",
    " - 0\n",
    " - 3"
   ]
  },
  {
   "cell_type": "markdown",
   "id": "59320aa9",
   "metadata": {},
   "source": [
    "**Question 3.5.** Define a function called `errors`.  It should take three arguments:\n",
    "1. a table `table` like `spreads` (with the same column names and meanings, but not necessarily the same data)\n",
    "2. the `slope` of a line (a number)\n",
    "3. the `intercept` of a line (a number).\n",
    "\n",
    "It should **return an array of the errors** made when a line with that slope and intercept is used to predict outcome from spread for each game in the given table. **(3 points)**\n",
    "\n",
    "*Note*: Make sure you are returning an array of the errors, and not the RMSE. \n"
   ]
  },
  {
   "cell_type": "raw",
   "id": "8ecb3b4c",
   "metadata": {},
   "source": [
    "# BEGIN SOLUTION"
   ]
  },
  {
   "cell_type": "code",
   "execution_count": 74,
   "id": "4a45493f",
   "metadata": {
    "execution": {
     "iopub.execute_input": "2022-04-07T03:33:00.851750Z",
     "iopub.status.busy": "2022-04-07T03:33:00.851115Z",
     "iopub.status.idle": "2022-04-07T03:33:00.855216Z",
     "shell.execute_reply": "2022-04-07T03:33:00.854441Z"
    }
   },
   "outputs": [],
   "source": [
    "def errors(table, slope, intercept):\n",
    "    predictions = slope * table.column(\"Spread\") + intercept # SOLUTION NO PROMPT\n",
    "    return table.column(\"Outcome\") - predictions # SOLUTION"
   ]
  },
  {
   "cell_type": "raw",
   "id": "8d894d2b",
   "metadata": {},
   "source": [
    "# END SOLUTION"
   ]
  },
  {
   "cell_type": "raw",
   "id": "26c8aae3",
   "metadata": {},
   "source": [
    "# BEGIN TESTS"
   ]
  },
  {
   "cell_type": "code",
   "execution_count": 75,
   "id": "3029aa50",
   "metadata": {
    "execution": {
     "iopub.execute_input": "2022-04-07T03:33:00.858601Z",
     "iopub.status.busy": "2022-04-07T03:33:00.858103Z",
     "iopub.status.idle": "2022-04-07T03:33:00.863721Z",
     "shell.execute_reply": "2022-04-07T03:33:00.862850Z"
    }
   },
   "outputs": [
    {
     "data": {
      "text/plain": [
       "True"
      ]
     },
     "execution_count": 75,
     "metadata": {},
     "output_type": "execute_result"
    }
   ],
   "source": [
    "type(errors(nfl_spreads, 0, 0).item(0)) in set([float, np.float32, np.float64])"
   ]
  },
  {
   "cell_type": "code",
   "execution_count": 76,
   "id": "8bb3ce21",
   "metadata": {
    "execution": {
     "iopub.execute_input": "2022-04-07T03:33:00.867159Z",
     "iopub.status.busy": "2022-04-07T03:33:00.866474Z",
     "iopub.status.idle": "2022-04-07T03:33:00.871940Z",
     "shell.execute_reply": "2022-04-07T03:33:00.871258Z"
    }
   },
   "outputs": [
    {
     "data": {
      "text/plain": [
       "True"
      ]
     },
     "execution_count": 76,
     "metadata": {},
     "output_type": "execute_result"
    }
   ],
   "source": [
    "len(errors(nfl_spreads, 0, 0)) == 1083"
   ]
  },
  {
   "cell_type": "code",
   "execution_count": 77,
   "id": "99735aac",
   "metadata": {
    "execution": {
     "iopub.execute_input": "2022-04-07T03:33:00.874903Z",
     "iopub.status.busy": "2022-04-07T03:33:00.874708Z",
     "iopub.status.idle": "2022-04-07T03:33:00.880493Z",
     "shell.execute_reply": "2022-04-07T03:33:00.879713Z"
    }
   },
   "outputs": [
    {
     "data": {
      "text/plain": [
       "True"
      ]
     },
     "execution_count": 77,
     "metadata": {},
     "output_type": "execute_result"
    }
   ],
   "source": [
    "# HIDDEN\n",
    "np.isclose(np.mean(errors(nfl_spreads, 0, 0)), -2.7728531855955678)"
   ]
  },
  {
   "cell_type": "raw",
   "id": "d3ea8ccd",
   "metadata": {},
   "source": [
    "# END TESTS"
   ]
  },
  {
   "cell_type": "raw",
   "id": "6671b997",
   "metadata": {},
   "source": [
    "# END QUESTION"
   ]
  },
  {
   "cell_type": "raw",
   "id": "e0e106cf",
   "metadata": {},
   "source": [
    "# BEGIN QUESTION\n",
    "name: q3_6\n",
    "manual: false\n",
    "points:\n",
    " - 3"
   ]
  },
  {
   "cell_type": "markdown",
   "id": "b82bd965",
   "metadata": {},
   "source": [
    "**Question 3.6.** Using `errors`, compute the errors for the line with slope `2` and intercept `35` on the `spreads` dataset. Name that array `outcome_errors`.  Then, make a scatter plot of the errors. **(3 points)**\n",
    "\n",
    "*Hint:* To make a scatter plot of the errors, plot the error for each outcome in the dataset.  Put the actual spread on the horizontal axis and the outcome error on the vertical axis.\n"
   ]
  },
  {
   "cell_type": "raw",
   "id": "0051c3aa",
   "metadata": {},
   "source": [
    "# BEGIN SOLUTION"
   ]
  },
  {
   "cell_type": "code",
   "execution_count": 78,
   "id": "eeac05ef",
   "metadata": {
    "execution": {
     "iopub.execute_input": "2022-04-07T03:33:00.883384Z",
     "iopub.status.busy": "2022-04-07T03:33:00.883189Z",
     "iopub.status.idle": "2022-04-07T03:33:01.173679Z",
     "shell.execute_reply": "2022-04-07T03:33:01.172836Z"
    },
    "scrolled": true
   },
   "outputs": [
    {
     "data": {
      "image/png": "[encoded data removed]",
      "text/plain": [
       "<Figure size 500x500 with 1 Axes>"
      ]
     },
     "metadata": {},
     "output_type": "display_data"
    }
   ],
   "source": [
    "outcome_errors = errors(nfl_spreads, 2, 35) # SOLUTION\n",
    "# BEGIN SOLUTION\n",
    "nfl_spreads.with_column(\"Outcome errors\", outcome_errors)\\\n",
    "           .scatter(\"Spread\", \"Outcome errors\")\n",
    "# END SOLUTION"
   ]
  },
  {
   "cell_type": "raw",
   "id": "380de7d2",
   "metadata": {},
   "source": [
    "# END SOLUTION"
   ]
  },
  {
   "cell_type": "raw",
   "id": "7b099ea4",
   "metadata": {},
   "source": [
    "# BEGIN TESTS"
   ]
  },
  {
   "cell_type": "code",
   "execution_count": 79,
   "id": "50aa66ec",
   "metadata": {
    "execution": {
     "iopub.execute_input": "2022-04-07T03:33:01.177360Z",
     "iopub.status.busy": "2022-04-07T03:33:01.176867Z",
     "iopub.status.idle": "2022-04-07T03:33:01.182876Z",
     "shell.execute_reply": "2022-04-07T03:33:01.181977Z"
    }
   },
   "outputs": [
    {
     "data": {
      "text/plain": [
       "True"
      ]
     },
     "execution_count": 79,
     "metadata": {},
     "output_type": "execute_result"
    }
   ],
   "source": [
    "# If you're not passing this test, double check your errors function!\n",
    "np.round(outcome_errors.item(0), 2) == -27.0"
   ]
  },
  {
   "cell_type": "raw",
   "id": "d59a101e",
   "metadata": {},
   "source": [
    "# END TESTS"
   ]
  },
  {
   "cell_type": "raw",
   "id": "24cbf95c",
   "metadata": {},
   "source": [
    "# END QUESTION"
   ]
  },
  {
   "cell_type": "markdown",
   "id": "84460394",
   "metadata": {},
   "source": [
    "You should find that the errors are almost all negative.  That means our line is not the best fit to our data.  Let's find a better one."
   ]
  },
  {
   "cell_type": "raw",
   "id": "b5fc891c",
   "metadata": {},
   "source": [
    "# BEGIN QUESTION\n",
    "name: q3_7\n",
    "manual: false\n",
    "points:\n",
    " - 0\n",
    " - 0\n",
    " - 3"
   ]
  },
  {
   "cell_type": "markdown",
   "id": "d847a8f3",
   "metadata": {},
   "source": [
    "**Question 3.7.** Define a function called `fit_line`.  It should take a table like `nfl_spreads` (with the same column names and meanings) as its argument.  It should return an array containing the slope (as the first element) and intercept (as the second element) of the least-squares regression line predicting outcome from spread for that table. **(3 points)**\n",
    "\n",
    "*Hint*: Define a function `rmse` within `fit_line` that takes a slope and intercept as its arguments. `rmse` will use the table passed into `fit_line` to compute predicted outcomes and then return the root mean squared error between the predicted and actual outcomes. Within `fit_line`, you can call `rmse` the way you would any other function.\n",
    "\n",
    "If you haven't tried to use the `minimize` [function](http://data8.org/sp22/python-reference.html) yet, now is a great time to practice. Here's an [example from the textbook](https://www.inferentialthinking.com/chapters/15/3/Method_of_Least_Squares.html#numerical-optimization).\n"
   ]
  },
  {
   "cell_type": "raw",
   "id": "6598177c",
   "metadata": {},
   "source": [
    "# BEGIN SOLUTION"
   ]
  },
  {
   "cell_type": "code",
   "execution_count": 80,
   "id": "81747991",
   "metadata": {
    "execution": {
     "iopub.execute_input": "2022-04-07T03:33:01.186019Z",
     "iopub.status.busy": "2022-04-07T03:33:01.185798Z",
     "iopub.status.idle": "2022-04-07T03:33:01.210477Z",
     "shell.execute_reply": "2022-04-07T03:33:01.209593Z"
    }
   },
   "outputs": [
    {
     "data": {
      "text/plain": [
       "array([ 2.,  1.])"
      ]
     },
     "execution_count": 80,
     "metadata": {},
     "output_type": "execute_result"
    }
   ],
   "source": [
    "# BEGIN SOLUTION NO PROMPT\n",
    "def fit_line(tbl):\n",
    "    def rmse(slope, intercept):\n",
    "        return (np.mean(errors(tbl, slope, intercept)**2)**0.5)\n",
    "    return minimize(rmse)\n",
    "# END SOLUTION\n",
    "\"\"\" # BEGIN PROMPT\n",
    "def fit_line(tbl):\n",
    "    # Your code may need more than 1 line below here.\n",
    "    def rmse(..., ...):\n",
    "        return ... \n",
    "    return ... \n",
    "\"\"\"; # END PROMPT\n",
    "    \n",
    "# Here is an example call to your function.  To test your function,\n",
    "# figure out the right slope and intercept by hand.\n",
    "example_table = Table().with_columns(\n",
    "    \"Spread\", make_array(0, 1),\n",
    "    \"Outcome\", make_array(1, 3))\n",
    "fit_line(example_table)"
   ]
  },
  {
   "cell_type": "raw",
   "id": "048f3b68",
   "metadata": {},
   "source": [
    "# END SOLUTION"
   ]
  },
  {
   "cell_type": "raw",
   "id": "6e567a9c",
   "metadata": {},
   "source": [
    "# BEGIN TESTS"
   ]
  },
  {
   "cell_type": "code",
   "execution_count": 81,
   "id": "50b23025",
   "metadata": {
    "execution": {
     "iopub.execute_input": "2022-04-07T03:33:01.214818Z",
     "iopub.status.busy": "2022-04-07T03:33:01.214009Z",
     "iopub.status.idle": "2022-04-07T03:33:01.252445Z",
     "shell.execute_reply": "2022-04-07T03:33:01.251545Z"
    }
   },
   "outputs": [
    {
     "data": {
      "text/plain": [
       "True"
      ]
     },
     "execution_count": 81,
     "metadata": {},
     "output_type": "execute_result"
    }
   ],
   "source": [
    "type(fit_line(example_table)) == np.ndarray"
   ]
  },
  {
   "cell_type": "code",
   "execution_count": 82,
   "id": "f95dac9f",
   "metadata": {
    "execution": {
     "iopub.execute_input": "2022-04-07T03:33:01.256408Z",
     "iopub.status.busy": "2022-04-07T03:33:01.255591Z",
     "iopub.status.idle": "2022-04-07T03:33:01.277640Z",
     "shell.execute_reply": "2022-04-07T03:33:01.276991Z"
    }
   },
   "outputs": [
    {
     "data": {
      "text/plain": [
       "True"
      ]
     },
     "execution_count": 82,
     "metadata": {},
     "output_type": "execute_result"
    }
   ],
   "source": [
    "type(fit_line(example_table).item(0)) in set([float, np.float32, np.float64])"
   ]
  },
  {
   "cell_type": "code",
   "execution_count": 83,
   "id": "99568ecc",
   "metadata": {
    "execution": {
     "iopub.execute_input": "2022-04-07T03:33:01.281205Z",
     "iopub.status.busy": "2022-04-07T03:33:01.280561Z",
     "iopub.status.idle": "2022-04-07T03:33:01.317096Z",
     "shell.execute_reply": "2022-04-07T03:33:01.316424Z"
    }
   },
   "outputs": [
    {
     "data": {
      "text/plain": [
       "True"
      ]
     },
     "execution_count": 83,
     "metadata": {},
     "output_type": "execute_result"
    }
   ],
   "source": [
    "# HIDDEN\n",
    "np.isclose(fit_line(example_table).item(0), 2) and np.isclose(fit_line(example_table).item(1), 1)"
   ]
  },
  {
   "cell_type": "raw",
   "id": "b296dc18",
   "metadata": {},
   "source": [
    "# END TESTS"
   ]
  },
  {
   "cell_type": "raw",
   "id": "49cb3438",
   "metadata": {},
   "source": [
    "# END QUESTION"
   ]
  },
  {
   "cell_type": "raw",
   "id": "b46f1b0b",
   "metadata": {},
   "source": [
    "# BEGIN QUESTION\n",
    "name: q3_8\n",
    "manual: false\n",
    "points:\n",
    " - 0\n",
    " - 1\n",
    " - 1\n",
    " - 1"
   ]
  },
  {
   "cell_type": "markdown",
   "id": "b677a4f4",
   "metadata": {},
   "source": [
    "**Question 3.8.** Use `fit_line` to fit a line to `spreads`, and assign the output to `regression_line`. Assign the first and second elements in `regression_line` to `regression_line_slope` and `regression_line_intercept`, respectively.\n",
    "\n",
    "Then, set `new_errors` to the array of errors that we get by calling `errors` with our new regression line. The provided code will graph the corresponding residual plot with a best fit line. **(3 points)**\n",
    "\n",
    "*Hint:* Make sure that the residual plot makes sense. What qualities should the best fit line of a residual plot have?\n"
   ]
  },
  {
   "cell_type": "raw",
   "id": "26b0f376",
   "metadata": {},
   "source": [
    "# BEGIN SOLUTION"
   ]
  },
  {
   "cell_type": "code",
   "execution_count": 84,
   "id": "b582adea",
   "metadata": {
    "execution": {
     "iopub.execute_input": "2022-04-07T03:33:01.340834Z",
     "iopub.status.busy": "2022-04-07T03:33:01.340129Z",
     "iopub.status.idle": "2022-04-07T03:33:01.624862Z",
     "shell.execute_reply": "2022-04-07T03:33:01.623980Z"
    }
   },
   "outputs": [
    {
     "data": {
      "text/plain": [
       "'Slope: 0.0663584 | Intercept: -2.75309'"
      ]
     },
     "execution_count": 84,
     "metadata": {},
     "output_type": "execute_result"
    },
    {
     "data": {
      "image/png": "[encoded data removed]",
      "text/plain": [
       "<Figure size 500x500 with 1 Axes>"
      ]
     },
     "metadata": {},
     "output_type": "display_data"
    }
   ],
   "source": [
    "regression_line = fit_line(nfl_spreads) #SOLUTION\n",
    "regression_line_slope = regression_line.item(0) #SOLUTION\n",
    "regression_line_intercept = regression_line.item(1) #SOLUTION\n",
    "\n",
    "new_errors = errors(nfl_spreads, regression_line_slope, regression_line_intercept) #SOLUTION\n",
    "\n",
    "# This code displays the residual plot, given your values for the regression_line_slope and regression_line_intercept\n",
    "Table().with_columns(\"Spread\", \n",
    "                    nfl_spreads.column(\"Spread\"), \n",
    "                    \"Outcome errors\", \n",
    "                    new_errors\n",
    "                   ).scatter(\"Spread\", \"Outcome errors\", fit_line=True)\n",
    "\n",
    "# This just prints your slope and intercept\n",
    "\"Slope: {:g} | Intercept: {:g}\".format(regression_line_slope, regression_line_intercept)"
   ]
  },
  {
   "cell_type": "raw",
   "id": "eab41b3b",
   "metadata": {},
   "source": [
    "# END SOLUTION"
   ]
  },
  {
   "cell_type": "raw",
   "id": "7c76c5c9",
   "metadata": {},
   "source": [
    "# BEGIN TESTS"
   ]
  },
  {
   "cell_type": "code",
   "execution_count": 85,
   "id": "22d2fe3a",
   "metadata": {
    "execution": {
     "iopub.execute_input": "2022-04-07T03:33:01.628747Z",
     "iopub.status.busy": "2022-04-07T03:33:01.628135Z",
     "iopub.status.idle": "2022-04-07T03:33:01.638388Z",
     "shell.execute_reply": "2022-04-07T03:33:01.637699Z"
    }
   },
   "outputs": [
    {
     "data": {
      "text/plain": [
       "True"
      ]
     },
     "execution_count": 85,
     "metadata": {},
     "output_type": "execute_result"
    }
   ],
   "source": [
    "len(new_errors) == 1083"
   ]
  },
  {
   "cell_type": "code",
   "execution_count": 86,
   "id": "88e4cd68",
   "metadata": {
    "execution": {
     "iopub.execute_input": "2022-04-07T03:33:01.641510Z",
     "iopub.status.busy": "2022-04-07T03:33:01.641188Z",
     "iopub.status.idle": "2022-04-07T03:33:01.646366Z",
     "shell.execute_reply": "2022-04-07T03:33:01.645753Z"
    }
   },
   "outputs": [
    {
     "data": {
      "text/plain": [
       "True"
      ]
     },
     "execution_count": 86,
     "metadata": {},
     "output_type": "execute_result"
    }
   ],
   "source": [
    "# HIDDEN\n",
    "int(round(regression_line_slope, 1)) == 0"
   ]
  },
  {
   "cell_type": "code",
   "execution_count": 87,
   "id": "f2fd8df6",
   "metadata": {
    "execution": {
     "iopub.execute_input": "2022-04-07T03:33:01.649830Z",
     "iopub.status.busy": "2022-04-07T03:33:01.649210Z",
     "iopub.status.idle": "2022-04-07T03:33:01.654142Z",
     "shell.execute_reply": "2022-04-07T03:33:01.653253Z"
    }
   },
   "outputs": [
    {
     "data": {
      "text/plain": [
       "True"
      ]
     },
     "execution_count": 87,
     "metadata": {},
     "output_type": "execute_result"
    }
   ],
   "source": [
    "# HIDDEN\n",
    "round(regression_line_intercept, 1) == -2.8"
   ]
  },
  {
   "cell_type": "code",
   "execution_count": 88,
   "id": "2b57ce40",
   "metadata": {
    "execution": {
     "iopub.execute_input": "2022-04-07T03:33:01.657019Z",
     "iopub.status.busy": "2022-04-07T03:33:01.656783Z",
     "iopub.status.idle": "2022-04-07T03:33:01.661614Z",
     "shell.execute_reply": "2022-04-07T03:33:01.661023Z"
    }
   },
   "outputs": [
    {
     "data": {
      "text/plain": [
       "True"
      ]
     },
     "execution_count": 88,
     "metadata": {},
     "output_type": "execute_result"
    }
   ],
   "source": [
    "# HIDDEN\n",
    "round(new_errors[10], 1) == -13.8"
   ]
  },
  {
   "cell_type": "raw",
   "id": "9948ba07",
   "metadata": {},
   "source": [
    "# END TESTS"
   ]
  },
  {
   "cell_type": "raw",
   "id": "069dd048",
   "metadata": {},
   "source": [
    "# END QUESTION"
   ]
  },
  {
   "cell_type": "raw",
   "id": "aeb92fbc",
   "metadata": {},
   "source": [
    "# BEGIN QUESTION\n",
    "name: q3_9\n",
    "manual: true"
   ]
  },
  {
   "cell_type": "markdown",
   "id": "bf70d672",
   "metadata": {},
   "source": [
    "**Question 3.9.** How does the process of minimizing the Root Mean Square Error (RMSE) lead to slope and intercept values in Question 3.8 that are consistent with those obtained using previous methods in Question 3.3, even though different techniques are employed? **(3 points)**\n"
   ]
  },
  {
   "cell_type": "raw",
   "id": "446d6ab9",
   "metadata": {},
   "source": [
    "# BEGIN SOLUTION"
   ]
  },
  {
   "cell_type": "markdown",
   "id": "580b0eec",
   "metadata": {},
   "source": [
    "**SOLUTION:** Minimizing the Root Mean Square Error (RMSE) essentially involves finding the line that best fits the data by minimizing the differences between the observed values and the values predicted by the regression line. While the techniques for finding the regression line in Question 3.3 may differ, the ultimate goal remains the same: to minimize the overall error. Therefore, even though different methods may be employed, the fundamental principle of minimizing the differences between observed and predicted values leads to slope and intercept values that align closely with those obtained using previous methods."
   ]
  },
  {
   "cell_type": "raw",
   "id": "93dbfc52",
   "metadata": {},
   "source": [
    "# END SOLUTION"
   ]
  },
  {
   "cell_type": "raw",
   "id": "be6ad505",
   "metadata": {},
   "source": [
    "# END QUESTION"
   ]
  },
  {
   "cell_type": "markdown",
   "id": "68fcfe34",
   "metadata": {},
   "source": [
    "You're done with Homework 10!  \n",
    "\n",
    "**Important submission steps:** \n",
    "1. Run the tests and verify that they all pass.\n",
    "2. Choose **Save Notebook** from the **File** menu, then **run the final cell**. \n",
    "3. Click the link to download the zip file.\n",
    "4. Then submit the zip file to the corresponding assignment according to your instructor's directions. \n",
    "\n",
    "**It is your responsibility to make sure your work is saved before running the last cell.**"
   ]
  },
  {
   "cell_type": "code",
   "execution_count": null,
   "id": "31fc11e9",
   "metadata": {},
   "outputs": [],
   "source": []
  }
 ],
 "metadata": {
  "kernelspec": {
   "display_name": "Python 3 (ipykernel)",
   "language": "python",
   "name": "python3"
  },
  "language_info": {
   "codemirror_mode": {
    "name": "ipython",
    "version": 3
   },
   "file_extension": ".py",
   "mimetype": "text/x-python",
   "name": "python",
   "nbconvert_exporter": "python",
   "pygments_lexer": "ipython3",
   "version": "3.10.11"
  }
 },
 "nbformat": 4,
 "nbformat_minor": 5
}
