{
 "cells": [
  {
   "cell_type": "code",
   "execution_count": null,
   "id": "951680d4",
   "metadata": {},
   "outputs": [],
   "source": [
    "# Initialize Otter\n",
    "import otter\n",
    "grader = otter.Notebook(\"project1.ipynb\")"
   ]
  },
  {
   "cell_type": "markdown",
   "id": "fbf89059",
   "metadata": {},
   "source": [
    "# Project 1: World Progress"
   ]
  },
  {
   "cell_type": "markdown",
   "id": "cf19c6f4",
   "metadata": {},
   "source": [
    "In this project, you'll explore data from [Gapminder.org](http://gapminder.org), a website dedicated to providing a fact-based view of the world and how it has changed. That site includes several data visualizations and presentations, but also publishes the raw data that we will use in this project to recreate and extend some of their most famous visualizations.\n",
    "\n",
    "The Gapminder website collects data from many sources and compiles them into tables that describe many countries around the world. All of the data they aggregate are published in the [Systema Globalis](https://github.com/open-numbers/ddf--gapminder--systema_globalis/blob/master/README.md). Their goal is \"to compile all public statistics; Social, Economic and Environmental; into a comparable total dataset.\" All data sets in this project are copied directly from the Systema Globalis without any changes.\n",
    "\n",
    "This project is dedicated to [Hans Rosling](https://en.wikipedia.org/wiki/Hans_Rosling) (1948-2017), who championed the use of data to understand and prioritize global development challenges."
   ]
  },
  {
   "cell_type": "markdown",
   "id": "00a92e38",
   "metadata": {},
   "source": [
    "### Logistics\n",
    "\n",
    "**Rules.** Don't share your code with anybody but your partner. You are welcome to discuss questions with other students, but don't share the answers. The experience of solving the problems in this project will prepare you for exams (and life). If someone asks you for the answer, resist! Instead, you can demonstrate how you would solve a similar problem.\n",
    "\n",
    "**Support.** You are not alone! Come to office hours and talk to your classmates. If you want to ask about the details of your solution to a problem, come see me. If you're ever feeling overwhelmed or don't know how to make progress, email for help.\n",
    "\n",
    "**Tests.** The tests that are given are **not comprehensive** and passing the tests for a question **does not** mean that you answered the question correctly. Tests usually only check that your table has the correct column labels. However, more tests will be applied to verify the correctness of your submission in order to assign your final score, so be careful and check your work! You might want to create your own checks along the way to see if your answers make sense. Additionally, before you submit, make sure that none of your cells take a very long time to run (several minutes).\n",
    "\n",
    "**Free Response Questions:** Make sure that you put the answers to the written questions in the indicated cell we provide. **Every free response question should include an explanation** that adequately answers the question.\n",
    "\n",
    "**Tabular Thinking Guide:** Feel free to reference [Tabular Thinking Guide](https://drive.google.com/file/d/1NvbBECCBdI0Ku380oPcTUOcpjH3RI230/view) for extra guidance.\n",
    "\n",
    "**Advice.** Develop your answers incrementally. To perform a complicated table manipulation, break it up into steps, perform each step on a different line, give a new name to each result, and check that each intermediate result is what you expect. You can add any additional names or functions you want to the provided cells. Make sure that you are using distinct and meaningful variable names throughout the notebook. Along that line, **DO NOT** reuse the variable names that we use when we grade your answers. For example, in Question 1 of the Global Poverty section we ask you to assign an answer to `latest`. Do not reassign the variable name `latest` to anything else in your notebook, otherwise there is the chance that our tests grade against what `latest` was reassigned to.\n",
    "\n",
    "You **never** have to use just one line in this project or any others. Use intermediate variables and multiple lines as much as you would like!\n",
    "\n",
    "---\n",
    "\n",
    "To get started, load `datascience`, `numpy`, `plots`, and `otter`."
   ]
  },
  {
   "cell_type": "code",
   "execution_count": null,
   "id": "ca104017",
   "metadata": {},
   "outputs": [],
   "source": [
    "# Initialize Otter\n",
    "import otter\n",
    "grader = otter.Notebook(\"project1.ipynb\")"
   ]
  },
  {
   "cell_type": "code",
   "execution_count": null,
   "id": "e1fde6c7",
   "metadata": {},
   "outputs": [],
   "source": [
    "# Run this cell to set up the notebook, but please don't change it.\n",
    "\n",
    "# These lines import the NumPy and Datascience modules.\n",
    "from datascience import *\n",
    "import numpy as np\n",
    "\n",
    "# These lines do some fancy plotting magic.\n",
    "%matplotlib inline\n",
    "import matplotlib.pyplot as plots\n",
    "plots.style.use('fivethirtyeight')\n",
    "\n",
    "from ipywidgets import interact, interactive, fixed, interact_manual\n",
    "import ipywidgets as widgets\n",
    "\n"
   ]
  },
  {
   "cell_type": "markdown",
   "id": "04b4f34e",
   "metadata": {},
   "source": [
    "## 1. Global Population Growth"
   ]
  },
  {
   "cell_type": "markdown",
   "id": "df28d5c0",
   "metadata": {},
   "source": [
    "The global population of humans reached 1 billion around 1800, 3 billion around 1960, and 7 billion around 2011. The potential impact of exponential population growth has concerned scientists, economists, and politicians alike.\n",
    "\n",
    "The UN Population Division estimates that the world population will likely continue to grow throughout the 21st century, but at a slower rate, perhaps reaching 11 billion by 2100. However, the UN does not rule out scenarios of more extreme growth.\n",
    "\n",
    "<a href=\"http://www.pewresearch.org/fact-tank/2015/06/08/scientists-more-worried-than-public-about-worlds-growing-population/ft_15-06-04_popcount/\"> \n",
    " <img src=\"pew_population_projection.png\"/> \n",
    "</a>\n",
    "\n",
    "In this part of the project, we will examine some of the factors that influence population growth and how they have been changing over the years and around the world. There are two main sub-parts of this analysis.\n",
    "\n",
    "- First, we will examine the data for one country, Zimbabwe. We will see how factors such as life expectancy, fertility rate, and child mortality have changed over time in Zimbabwe, and how they are related to the rate of population growth.\n",
    "- Next, we will examine whether the changes we have observed for Zimbabwe are particular to that country or whether they reflect general patterns observable in other countries too. We will study aspects of world population growth and see how they have been changing.\n",
    "\n",
    "The first table we will consider contains the total population of each country over time. Run the cell below."
   ]
  },
  {
   "cell_type": "code",
   "execution_count": null,
   "id": "36ec1452",
   "metadata": {},
   "outputs": [],
   "source": [
    "population = Table.read_table('population.csv').where(\"time\", are.below(2021))\n",
    "population.show(3)"
   ]
  },
  {
   "cell_type": "markdown",
   "id": "4cc837b6",
   "metadata": {},
   "source": [
    "**Note:** The population csv file can also be found [here](https://github.com/open-numbers/ddf--gapminder--systema_globalis/blob/master/countries-etc-datapoints/ddf--datapoints--population_total--by--geo--time.csv). The data for this project was downloaded in February 2017. "
   ]
  },
  {
   "cell_type": "markdown",
   "id": "d0b4c088",
   "metadata": {},
   "source": [
    "### Zimbabwe Liberation\n",
    "\n",
    "This project explores the population growth in [Zimbabwe](https://en.wikipedia.org/wiki/Rhodesian_Bush_War), with a specific focus on the period following the Rhodesian Bush War from 1964 to 1979. This war, a significant chapter in Zimbabwe's history, involved a prolonged guerrilla conflict against colonial rule, culminating in the country's independence in 1980. The war had profound effects on Zimbabwe's social and economic infrastructure, which indirectly influenced the nation's demographic trends. In this section, we will delve into the development of Zimbabwe since the end of the Rhodesian Bush War, examining how the country has navigated its post-conflict era and the various factors that have influenced its population growth in the subsequent decades. Our analysis aims to provide insights into the complexities of Zimbabwe's demographic evolution, acknowledging the resilience and challenges faced by the nation as it embarked on a journey of recovery and growth post-1979.\n",
    "\n",
    "For further reading on the historical context, refer to Wikipedia's comprehensive overview of the [Rhodesian Bush War](https://en.wikipedia.org/wiki/Rhodesian_Bush_War) and its impact on Zimbabwe's path to independence and beyond.\n",
    "\n",
    "In the `population` table, the `geo` column contains three-letter codes established by the [International Organization for Standardization](https://en.wikipedia.org/wiki/International_Organization_for_Standardization) (ISO) in the [Alpha-3](https://en.wikipedia.org/wiki/ISO_3166-1_alpha-3#Current_codes) standard. We will begin by taking a close look at Zimbabwe. Use the Alpha-3 link to find the 3-letter code forZimbabwe."
   ]
  },
  {
   "cell_type": "markdown",
   "id": "b69c34c8",
   "metadata": {},
   "source": [
    "**Question 1.** Create a table called `z_pop` that has two columns labeled `time` and `population_total`. The first column should contain the years from 1970 through 2020 (including both 1970 and 2020) and the second should contain the population of Zimbabwe in each of those years.\n"
   ]
  },
  {
   "cell_type": "code",
   "execution_count": null,
   "id": "a876f6e5",
   "metadata": {},
   "outputs": [],
   "source": [
    "z_pop = ...\n",
    "z_pop.show()"
   ]
  },
  {
   "cell_type": "code",
   "execution_count": null,
   "id": "9822403d",
   "metadata": {},
   "outputs": [],
   "source": [
    "grader.check(\"q1_1\")"
   ]
  },
  {
   "cell_type": "markdown",
   "id": "1c0a20e6",
   "metadata": {},
   "source": [
    "Run the following cell to create a table called `z_four` that has the population of Zimbabwe every four years. At a glance, it appears that the population of Zimbabwe has been growing quickly indeed!"
   ]
  },
  {
   "cell_type": "code",
   "execution_count": null,
   "id": "ee77f52e",
   "metadata": {},
   "outputs": [],
   "source": [
    "z_pop.set_format('population_total', NumberFormatter)\n",
    "\n",
    "four = np.arange(1970, 2022, 4) # 1970, 1974, 1978, ...\n",
    "z_four = z_pop.sort('time').where('time', are.contained_in(four))\n",
    "z_four.show()"
   ]
  },
  {
   "cell_type": "markdown",
   "id": "618ab548",
   "metadata": {},
   "source": [
    "**Question 2.** Assign `initial` to an array that contains the population for every four year interval from 1970 to 2014 (inclusive). Then, assign `changed` to an array that contains the population for every four year interval from 1974 to 2018 (inclusive). The first array should include both 1970 and 2014, and the second array should include both 1974 and 2018. You should use the `z_four` table to create both arrays, by first filtering the table to only contain the relevant years.\n",
    "\n",
    "The annual growth rate for a time period is equal to:\n",
    "\n",
    "$$\\left(\\left(\\frac{\\text{Population at end of period}}{\\text{Population at start of period}}\\right)^{\\displaystyle\\frac{1}{\\text{number of years}}}\\right) -1$$\n",
    "\n",
    "We have provided the code below that uses  `initial` and `changed` in order to add a column to `z_four` called `annual_growth`. Don't worry about the calculation of the growth rates; run the test below to test your solution.\n",
    "\n",
    "If you are interested in how we came up with the formula for growth rates, consult the [growth rates](https://inferentialthinking.com/chapters/03/2/1/Growth.html) section of the textbook.\n"
   ]
  },
  {
   "cell_type": "code",
   "execution_count": null,
   "id": "20e6675a",
   "metadata": {},
   "outputs": [],
   "source": [
    "initial = ...\n",
    "changed = ...\n",
    "\n",
    "z_1970_through_2014 = z_four.where('time', are.below_or_equal_to(2014)) \n",
    "z_four_growth = z_1970_through_2014.with_column('annual_growth', (changed/initial)**0.2-1)\n",
    "z_four_growth.set_format('annual_growth', PercentFormatter).show()"
   ]
  },
  {
   "cell_type": "code",
   "execution_count": null,
   "id": "a8950a16",
   "metadata": {},
   "outputs": [],
   "source": [
    "grader.check(\"q1_2\")"
   ]
  },
  {
   "cell_type": "markdown",
   "id": "15bb34ee",
   "metadata": {},
   "source": [
    "While the population has grown every four years since 1970, the annual growth rate decreased dramatically from 1986 to 2014. Let's look at some other information in order to develop a possible explanation. Run the next cell to load three additional tables of measurements about countries over time."
   ]
  },
  {
   "cell_type": "code",
   "execution_count": null,
   "id": "f218eea3",
   "metadata": {},
   "outputs": [],
   "source": [
    "life_expectancy = Table.read_table('life_expectancy.csv').where('time', are.below(2021))\n",
    "child_mortality = Table.read_table('child_mortality.csv').relabel(2, 'child_mortality_under_5_per_1000_born').where('time', are.below(2021))\n",
    "fertility = Table.read_table('fertility.csv').where('time', are.below(2021))"
   ]
  },
  {
   "cell_type": "markdown",
   "id": "e10a8324",
   "metadata": {},
   "source": [
    "The `life_expectancy` table contains a statistic that is often used to measure how long people live, called *life expectancy at birth*. This number, for a country in a given year, [does not measure how long babies born in that year are expected to live](http://blogs.worldbank.org/opendata/what-does-life-expectancy-birth-really-mean). Instead, it measures how long someone would live, on average, if the *mortality conditions* in that year persisted throughout their lifetime. These \"mortality conditions\" describe what fraction of people at each age survived the year. So, it is a way of measuring the proportion of people that are staying alive, aggregated over different age groups in the population."
   ]
  },
  {
   "cell_type": "markdown",
   "id": "497364ba",
   "metadata": {},
   "source": [
    "Run the following cells below to see `life_expectancy`, `child_mortality`, and `fertility`. Refer back to these tables as they will be helpful for answering further questions!"
   ]
  },
  {
   "cell_type": "code",
   "execution_count": null,
   "id": "75f2a8c9",
   "metadata": {},
   "outputs": [],
   "source": [
    "life_expectancy.show(3)"
   ]
  },
  {
   "cell_type": "code",
   "execution_count": null,
   "id": "f9413f7b",
   "metadata": {},
   "outputs": [],
   "source": [
    "child_mortality.show(3)"
   ]
  },
  {
   "cell_type": "code",
   "execution_count": null,
   "id": "7bb5e01d",
   "metadata": {},
   "outputs": [],
   "source": [
    "fertility.show(3)"
   ]
  },
  {
   "cell_type": "markdown",
   "id": "e774f800",
   "metadata": {},
   "source": [
    "<!-- BEGIN QUESTION -->\n",
    "\n",
    "**Question 3.** Perhaps population is growing more slowly because people aren't living as long. Use the `life_expectancy` table to draw a line graph with the years 1970 and later on the horizontal axis that shows how the *life expectancy at birth* has changed in Zimbabwe.\n"
   ]
  },
  {
   "cell_type": "code",
   "execution_count": null,
   "id": "9e3479ca",
   "metadata": {},
   "outputs": [],
   "source": [
    "#Fill in code here\n",
    "..."
   ]
  },
  {
   "cell_type": "markdown",
   "id": "894a6bea",
   "metadata": {},
   "source": [
    "<!-- END QUESTION -->\n",
    "\n",
    "<!-- BEGIN QUESTION -->\n",
    "\n",
    "**Question 4.** Assuming everything else stays the same, do the trends in life expectancy in the graph above directly explain why the population growth rate decreased from 1986 to 2005 in Zimbabwe? Why or why not? \n",
    "\n",
    "Hint: What happened in Zimbabwe from the mid-80's to 2005, and does that event explain the overall change in population growth rate? This [webpage](https://en.wikipedia.org/wiki/HIV/AIDS_in_Zimbabwe) provides relevant context.\n"
   ]
  },
  {
   "cell_type": "markdown",
   "id": "fe9cfd43",
   "metadata": {},
   "source": [
    "_Type your answer here, replacing this text._"
   ]
  },
  {
   "cell_type": "markdown",
   "id": "389fae12",
   "metadata": {},
   "source": [
    "<!-- END QUESTION -->\n",
    "\n",
    "The `fertility` table contains a statistic that is often used to measure how many babies are being born, the *total fertility rate*. This number describes the [number of children a woman would have in her lifetime](https://www.measureevaluation.org/prh/rh_indicators/specific/fertility/total-fertility-rate), on average, if the current rates of birth by age of the mother persisted throughout her child bearing years, assuming she survived through age 49. "
   ]
  },
  {
   "cell_type": "markdown",
   "id": "91f902ec",
   "metadata": {},
   "source": [
    "**Question 5.** Complete the function `fertility_over_time`. It takes the Alpha-3 code of a country as `country_code` and a `start` year. It returns a two-column table with labels `Year` and `Children per woman` that can be used to generate a line chart of the country's fertility rate each year, starting at the `start` year. The plot should include the `start` year and all later years that appear in the `fertility` table. \n",
    "\n",
    "Then, determine the Alpha-3 code for Zimbabwe. The code for Zimbabwe and the year 1970 are used in the call to your `fertility_over_time` function in order to plot how Zimbabwe's fertility rate has changed since 1970. Note that the function `fertility_over_time` should not return the plot itself. **The expression that draws the line plot is provided for you; please don't change it.**\n"
   ]
  },
  {
   "cell_type": "code",
   "execution_count": null,
   "id": "873676f3",
   "metadata": {},
   "outputs": [],
   "source": [
    "def fertility_over_time(country_code, start):\n",
    "    \"\"\"Create a two-column table that describes a country's total fertility rate each year.\"\"\"\n",
    "    country_fertility = ...\n",
    "    country_fertility_after_start = ...\n",
    "    cleaned_table = ...\n",
    "    ...\n",
    "\n",
    "zimbabwe_code = ...\n",
    "fertility_over_time(zimbabwe_code, 1970).plot(0, 1) # You should *not* change this line."
   ]
  },
  {
   "cell_type": "code",
   "execution_count": null,
   "id": "3a2f3178",
   "metadata": {},
   "outputs": [],
   "source": [
    "grader.check(\"q1_5\")"
   ]
  },
  {
   "cell_type": "markdown",
   "id": "d8e6999c",
   "metadata": {},
   "source": [
    "<!-- BEGIN QUESTION -->\n",
    "\n",
    "**Question 6.** Assuming everything else is constant, do the trends in fertility in the graph above help directly explain why the population growth rate decreased from 1980 to 2020 in Zimbabwe? Why or why not?\n"
   ]
  },
  {
   "cell_type": "markdown",
   "id": "a3ac6084",
   "metadata": {},
   "source": [
    "_Type your answer here, replacing this text._"
   ]
  },
  {
   "cell_type": "markdown",
   "id": "1061d6c3",
   "metadata": {},
   "source": [
    "<!-- END QUESTION -->\n",
    "\n",
    "It has been [observed](https://www.ageing.ox.ac.uk/download/143) that lower fertility rates are often associated with lower child mortality rates. The link has been attributed to family planning: if parents can expect that their children will all survive into adulthood, then they will choose to have fewer children. In the reverse direction, having fewer children may allow families to devote more resources to each child, reducing child mortality. We can see if this association is evident in Zimbabwe by plotting the relationship between total fertility rate and [child mortality rate per 1000 children](https://en.wikipedia.org/wiki/Child_mortality)."
   ]
  },
  {
   "cell_type": "markdown",
   "id": "c2e1dd86",
   "metadata": {},
   "source": [
    "**Question 7.** Using both the `fertility` and `child_mortality` tables, draw a scatter diagram that has Zimbabwe's total fertility on the horizontal axis and its child mortality on the vertical axis with one point for each year, starting with 1970.\n",
    "\n",
    "**The code that draws the scatter diagram is provided for you; please don't change it.** Instead, create a table called `post_1969_fertility_and_child_mortality` with the appropriate column labels and data in order to generate the chart correctly. Use the label `Children per woman` to describe total fertility and the label `Child deaths per 1000 born` to describe child mortality.\n",
    "\n",
    "*Hint*: Do not drop the `time` column or you will get an error in the scatterplot in the next cell!\n"
   ]
  },
  {
   "cell_type": "code",
   "execution_count": null,
   "id": "99714d73",
   "metadata": {},
   "outputs": [],
   "source": [
    "zwe_fertility = ...\n",
    "zwe_child_mortality = ...\n",
    "fertility_and_child_mortality = ...\n",
    "post_1969_fertility_and_child_mortality = ...\n",
    "\n",
    "# Don't change anything below this line!\n",
    "x_births = post_1969_fertility_and_child_mortality.column(\"Children per woman\")\n",
    "y_deaths = post_1969_fertility_and_child_mortality.column(\"Child deaths per 1000 born\")\n",
    "time_colors = post_1969_fertility_and_child_mortality.column(\"time\")\n",
    "\n",
    "plots.figure(figsize=(6,6))\n",
    "plots.scatter(x_births, y_deaths, c=time_colors, cmap=\"Blues_r\")\n",
    "plots.colorbar()                  \n",
    "plots.xlabel(\"Children per woman\")\n",
    "plots.ylabel(\"Child deaths per 1000 born\");"
   ]
  },
  {
   "cell_type": "code",
   "execution_count": null,
   "id": "b58c2ade",
   "metadata": {},
   "outputs": [],
   "source": [
    "grader.check(\"q1_7\")"
   ]
  },
  {
   "cell_type": "markdown",
   "id": "c1966611",
   "metadata": {},
   "source": [
    "The plot above uses **color** to encode data about the `time` column from the table `post_1969_fertility_and_child_mortality`. The colors, ranging from dark blue to white, represent the passing of time between the 1970s to the 2020s. For example, a point on the scatter plot representing data from the 1970s would appear as **dark blue** and a point from the 2010s would appear as **light blue**.\n"
   ]
  },
  {
   "cell_type": "markdown",
   "id": "d5c7c211",
   "metadata": {},
   "source": [
    "<!-- BEGIN QUESTION -->\n",
    "\n",
    "**Question 8.** In one or two sentences, describe the association (if any) that is illustrated by this scatter diagram. Does the diagram show that reduced child mortality *causes* parents to choose to have fewer children?\n"
   ]
  },
  {
   "cell_type": "markdown",
   "id": "114cdcb7",
   "metadata": {},
   "source": [
    "_Type your answer here, replacing this text._"
   ]
  },
  {
   "cell_type": "markdown",
   "id": "1c6f71e1",
   "metadata": {},
   "source": [
    "<!-- END QUESTION -->\n",
    "\n",
    "<img src=\"yoshi.jpg\" alt=\"drawing\" width=\"500\"/>\n",
    "\n",
    "**WOOOHOO Yoshi and friends want to congratulate you on getting this far!**\n",
    "\n"
   ]
  },
  {
   "cell_type": "markdown",
   "id": "f3ff1258",
   "metadata": {},
   "source": [
    "--- \n",
    "\n",
    "To double check your work, the cell below will rerun all of the autograder tests for Section 1. "
   ]
  },
  {
   "cell_type": "code",
   "execution_count": null,
   "id": "932be85d",
   "metadata": {},
   "outputs": [],
   "source": [
    "checkpoint_tests = [\"q1_1\", \"q1_2\", \"q1_5\", \"q1_7\"]\n",
    "for test in checkpoint_tests:\n",
    "    display(grader.check(test))"
   ]
  },
  {
   "cell_type": "markdown",
   "id": "e37b6fc9",
   "metadata": {},
   "source": [
    "## Submission\n",
    "If your instructor would like you to submit the work in part one as a checkpoint to the project, follow the instructions below.\n",
    "\n",
    "Make sure you have run all cells in your notebook in order before running the cell below, so that all images/graphs appear in the output. The cell below will generate a zip file for you to submit. **Please save before exporting!**"
   ]
  },
  {
   "cell_type": "code",
   "execution_count": null,
   "id": "ad8b778c",
   "metadata": {},
   "outputs": [],
   "source": [
    "# Save your notebook first, then run this cell to export your submission.\n",
    "grader.export(pdf=False)"
   ]
  },
  {
   "cell_type": "markdown",
   "id": "0eadcd83",
   "metadata": {},
   "source": [
    "### The World\n",
    "\n",
    "The change observed in Zimbabwe since 1980 can also be observed in many other developing countries: health services improve, life expectancy increases, and child mortality decreases. At the same time, the fertility rate often plummets, and so the population growth rate decreases despite increasing longevity."
   ]
  },
  {
   "cell_type": "markdown",
   "id": "8b271737",
   "metadata": {},
   "source": [
    "Run the cell below to generate two overlaid histograms, one for 1962 and one for 2010, that show the distributions of total fertility rates for these two years among all 201 countries in the `fertility` table."
   ]
  },
  {
   "cell_type": "code",
   "execution_count": null,
   "id": "200e8e77",
   "metadata": {},
   "outputs": [],
   "source": [
    "Table().with_columns(\n",
    "    '1982', fertility.where('time', 1982).column(2),\n",
    "    '2012', fertility.where('time', 2012).column(2)\n",
    ").hist(bins=np.arange(0, 10, 0.5), unit='child per woman')\n",
    "_ = plots.xlabel('Children per woman')\n",
    "_ = plots.ylabel('Percent per children per woman')\n",
    "_ = plots.xticks(np.arange(10))"
   ]
  },
  {
   "cell_type": "markdown",
   "id": "2bf6cb93",
   "metadata": {},
   "source": [
    "**Question 9.** Assign `fertility_statements` to an array of the numbers of each statement below that can be correctly inferred from these histograms.\n",
    "\n",
    "1. In 1982, less than 20% of countries had a fertility rate below 3.\n",
    "2. About the same number of countries had a fertility rate between 6 and 7 in both 1982 and 2012.\n",
    "3. More countries had a fertility rate below 3 in 2010 than in 1982.\n",
    "4. About the same number of countries had a fertitlity rate between 4.5 and 5.5 in both 1982 and 2012.\n",
    "5. In 1982, about 40% of countries had a fertility rate between 3 and 4.\n",
    "6. At least 30% of countries had a fertility rate below 2 in 2012.\n"
   ]
  },
  {
   "cell_type": "code",
   "execution_count": null,
   "id": "363025fd",
   "metadata": {},
   "outputs": [],
   "source": [
    "fertility_statements = ..."
   ]
  },
  {
   "cell_type": "code",
   "execution_count": null,
   "id": "07b62e21",
   "metadata": {},
   "outputs": [],
   "source": [
    "grader.check(\"q1_9\")"
   ]
  },
  {
   "cell_type": "markdown",
   "id": "c3f6f87b",
   "metadata": {},
   "source": [
    "<!-- BEGIN QUESTION -->\n",
    "\n",
    "**Question 10.** Draw a line plot of the world population from 1800 through 2020 (inclusive of both endpoints). The world population is the sum of all of the countries' populations. You should use the `population` table defined earlier in the project. "
   ]
  },
  {
   "cell_type": "code",
   "execution_count": null,
   "id": "4e91d7bc",
   "metadata": {},
   "outputs": [],
   "source": [
    "#Fill in code here\n",
    "..."
   ]
  },
  {
   "cell_type": "markdown",
   "id": "34eb5bff",
   "metadata": {},
   "source": [
    "<!-- END QUESTION -->\n",
    "\n",
    "**Question 11.** Create a function `stats_in_year` that takes a `year` and returns a table of statistics. The table it returns should have four columns: `geo`, `population_total`, `children_per_woman_total_fertility`, and `child_mortality_under_5_per_1000_born`. Each row should contain one unique Alpha-3 country code and three statistics: population, fertility rate, and child mortality for that `year` from the `population`, `fertility` and `child_mortality` tables. Only include rows for which all three statistics are available for the country and year.\n",
    "\n",
    "In addition, restrict the result to country codes that appears in `big_40`, an array of the 40 most populous countries in 2020. This restriction will speed up computations later in the project.\n",
    "\n",
    "After you write `stats_in_year`, try calling `stats_in_year` on any year between 1960 and 2020. Try to understand the output of stats_in_year.\n",
    "\n",
    "*Hint*: The tests for this question are quite comprehensive, so if you pass the tests, your function is probably correct. However, without calling your function yourself and looking at the output, it will be very difficult to understand any problems you have, so try your best to write the function correctly and check that it works before you rely on the `grader` tests to confirm your work.\n",
    "\n",
    "*Hint*: What do all three tables have in common (pay attention to column names)?\n"
   ]
  },
  {
   "cell_type": "code",
   "execution_count": null,
   "id": "8cc9cf8b",
   "metadata": {},
   "outputs": [],
   "source": [
    "# We first create a population table that only includes the \n",
    "# 40 countries with the largest 2020 populations. We focus on \n",
    "# these 40 countries only so that plotting later will run faster.\n",
    "big_40 = population.where('time', are.equal_to(2020)).sort(\"population_total\", descending=True).take(np.arange(40)).column('geo')\n",
    "population_of_big_40 = population.where('time', are.above(1959)).where('geo', are.contained_in(big_40))\n",
    "\n",
    "def stats_in_year(year):\n",
    "    \"\"\"Return a table of the stats for each country that year.\"\"\"\n",
    "    p = population_of_big_40.where('time', are.equal_to(year)).drop('time')\n",
    "    f = fertility.where('time', are.equal_to(year)).drop('time')\n",
    "    c = child_mortality.where('time', are.equal_to(year)).drop('time')\n",
    "    ...\n",
    "    pf = p.join('geo', f)\n",
    "    pfc = pf.join(\"geo\", c)\n",
    "    return pfc\n",
    "..."
   ]
  },
  {
   "cell_type": "code",
   "execution_count": null,
   "id": "95d3bb13",
   "metadata": {},
   "outputs": [],
   "source": [
    "grader.check(\"q1_11\")"
   ]
  },
  {
   "cell_type": "markdown",
   "id": "c473b9fd",
   "metadata": {},
   "source": [
    "**Question 12.** Create a table called `pop_by_decade` with two columns called `decade` and `population`, in this order. It has a row for each year that starts a decade, in decreasing order starting with 2020 and ending with 1960. For example, 1960 is the start of the 1960's decade. The `population` column contains the total population of all countries included in the result of `stats_in_year(year)` for the first `year` of the decade. You should see that these countries contain most of the world's population.\n",
    "\n",
    "*Hint:* One approach is to define a function `pop_in_year` that computes this total population, then `apply` it to the `decade` column.  The `stats_in_year` function from the previous question may be useful here.\n",
    "\n",
    "This first test is just a sanity check for your helper function if you choose to use it. You will not lose points for not implementing the function `pop_in_year`.\n",
    "\n",
    "**Note:** The cell where you will generate the `pop_by_decade` table is below the cell where you can choose to define the helper function `pop_in_year`. You should define your `pop_by_decade` table in the cell that starts with the table `decades` being defined. \n"
   ]
  },
  {
   "cell_type": "code",
   "execution_count": null,
   "id": "866245bd",
   "metadata": {},
   "outputs": [],
   "source": [
    "def pop_in_year(year):\n",
    "    \"\"\"Return the total population for the specified year.\"\"\"\n",
    "    ..."
   ]
  },
  {
   "cell_type": "code",
   "execution_count": null,
   "id": "b7f10dda",
   "metadata": {},
   "outputs": [],
   "source": [
    "grader.check(\"q1_12_0\")"
   ]
  },
  {
   "cell_type": "markdown",
   "id": "cf9a3580",
   "metadata": {},
   "source": [
    "Now that you've defined your helper function (if you've chosen to do so), define the `pop_by_decade` table.\n"
   ]
  },
  {
   "cell_type": "code",
   "execution_count": null,
   "id": "3f0ad79f",
   "metadata": {},
   "outputs": [],
   "source": [
    "decades = Table().with_column('decade', np.arange(2020, 1959, -10))\n",
    "\n",
    "pop_by_decade = ...\n",
    "pop_by_decade.set_format(1, NumberFormatter)"
   ]
  },
  {
   "cell_type": "code",
   "execution_count": null,
   "id": "0b00444f",
   "metadata": {},
   "outputs": [],
   "source": [
    "grader.check(\"q1_12\")"
   ]
  },
  {
   "cell_type": "markdown",
   "id": "10f71d56",
   "metadata": {},
   "source": [
    "The `countries` table describes various characteristics of countries. The `country` column contains the same codes as the `geo` column in each of the other data tables (`population`, `fertility`, and `child_mortality`). The `world_6region` column classifies each country into a region of the world. Run the cell below to inspect the data."
   ]
  },
  {
   "cell_type": "code",
   "execution_count": null,
   "id": "f1cce900",
   "metadata": {},
   "outputs": [],
   "source": [
    "countries = Table.read_table('countries.csv').where('country', are.contained_in(population.group('geo').column('geo')))\n",
    "countries.select('country', 'name', 'world_6region')"
   ]
  },
  {
   "cell_type": "markdown",
   "id": "46a26bb7",
   "metadata": {},
   "source": [
    "**Question 13.** Create a table called `zone_nums`. It should contain two columns called `zone` and `count`. The `zone` column should contain regions of the world, and the `count` column should contain the number of countries in each region that appears in the result of `stats_in_year(2019)`. \n",
    "\n",
    "For example, one row would have `south_asia` as its `zone` value and an integer as its `count` value: the number of large South Asian countries for which we have population, fertility, and child mortality numbers from 2019.\n",
    "\n",
    "*Hint*: You may have to relabel a column to name it `region`. \n"
   ]
  },
  {
   "cell_type": "code",
   "execution_count": null,
   "id": "1aac68e4",
   "metadata": {},
   "outputs": [],
   "source": [
    "stats_in_2019 = ...\n",
    "zone_nums = ...\n",
    "zone_nums"
   ]
  },
  {
   "cell_type": "code",
   "execution_count": null,
   "id": "b239d95b",
   "metadata": {},
   "outputs": [],
   "source": [
    "grader.check(\"q1_13\")"
   ]
  },
  {
   "cell_type": "markdown",
   "id": "e94fdad9",
   "metadata": {},
   "source": [
    "The following scatter diagram compares total fertility rate and child mortality rate for each country in 1960. The area of each dot represents the population of the country, and the color represents its region of the world. Run the cell. Do you think you can identify any of the dots?"
   ]
  },
  {
   "cell_type": "code",
   "execution_count": null,
   "id": "8390fb61",
   "metadata": {},
   "outputs": [],
   "source": [
    "from functools import lru_cache as cache\n",
    "\n",
    "# This cache annotation makes sure that if the same year\n",
    "# is passed as an argument twice, the work of computing\n",
    "# the result is only carried out once.\n",
    "@cache(None)\n",
    "def stats_relabeled(year):\n",
    "    \"\"\"Relabeled and cached version of stats_for_year.\"\"\"\n",
    "    return stats_in_year(year).relabel(2, 'Children per woman').relabel(3, 'Child deaths per 1000 born')\n",
    "\n",
    "def fertility_vs_child_mortality(year):\n",
    "    \"\"\"Draw a color scatter diagram comparing child mortality and fertility.\"\"\"\n",
    "    with_region = stats_relabeled(year).join('geo', countries.select('country', 'world_6region'), 'country')\n",
    "    with_region.scatter(2, 3, sizes=1, group=4, s=500)\n",
    "    plots.xlim(0,10)\n",
    "    plots.ylim(-50, 500)\n",
    "    plots.title(year)\n",
    "    plots.show()\n",
    "\n",
    "fertility_vs_child_mortality(1960)"
   ]
  },
  {
   "cell_type": "markdown",
   "id": "ebc25f55",
   "metadata": {},
   "source": [
    "**Question 14.** Assign `scatter_statements` to an array of the numbers of each statement below that can be inferred from this scatter diagram for 1960. \n",
    "1. As a whole, the `east_asia_pacific` region had the lowest child mortality rate.\n",
    "1. The two largest countries by population also had the two highest child mortality rates.\n",
    "1. There was no association between child mortality and fertility.\n",
    "1. Most countries had a mortality rate above 100.\n",
    "1. The lowest child mortality rate of any country was from a `south_asia` country.\n"
   ]
  },
  {
   "cell_type": "code",
   "execution_count": null,
   "id": "4f864f38",
   "metadata": {},
   "outputs": [],
   "source": [
    "scatter_statements = ..."
   ]
  },
  {
   "cell_type": "code",
   "execution_count": null,
   "id": "13c6cb17",
   "metadata": {},
   "outputs": [],
   "source": [
    "grader.check(\"q1_14\")"
   ]
  },
  {
   "cell_type": "markdown",
   "id": "e41da428",
   "metadata": {},
   "source": [
    "The result of the cell below is interactive. Drag the slider to the right to see how countries have changed over time. You'll find that the great divide between so-called \"Western\" and \"developing\" countries that existed in the 1960's has nearly disappeared. This shift in fertility rates is the reason that the global population is expected to grow more slowly in the 21st century than it did in the 19th and 20th centuries.\n",
    "\n",
    "**Note:** Don't worry if a red warning pops up when running the cell below. You'll still be able to run the cell!"
   ]
  },
  {
   "cell_type": "code",
   "execution_count": null,
   "id": "ac4a0fa4",
   "metadata": {},
   "outputs": [],
   "source": [
    "import ipywidgets as widgets\n",
    "\n",
    "_ = widgets.interact(fertility_vs_child_mortality, \n",
    "                     year=widgets.IntSlider(min=1960, max=2020, value=1960))"
   ]
  },
  {
   "cell_type": "markdown",
   "id": "e2699c5d",
   "metadata": {},
   "source": [
    "Now is a great time to take a break and watch the same data presented by [Hans Rosling in a 2010 TEDx talk](https://www.gapminder.org/videos/reducing-child-mortality-a-moral-and-environmental-imperative) with smoother animation and witty commentary."
   ]
  },
  {
   "cell_type": "markdown",
   "id": "81caa320",
   "metadata": {},
   "source": [
    "## 2. Global Poverty"
   ]
  },
  {
   "cell_type": "code",
   "execution_count": null,
   "id": "5ff962f2",
   "metadata": {},
   "outputs": [],
   "source": [
    "# Run this cell to set up the notebook, but please don't change it.\n",
    "\n",
    "# These lines import the Numpy and Datascience modules.\n",
    "import numpy as np\n",
    "from datascience import *\n",
    "\n",
    "# These lines do some fancy plotting magic.\n",
    "import matplotlib\n",
    "%matplotlib inline\n",
    "import matplotlib.pyplot as plots\n",
    "plots.style.use('fivethirtyeight')\n",
    "\n",
    "from ipywidgets import interact, interactive, fixed, interact_manual\n",
    "import ipywidgets as widgets\n"
   ]
  },
  {
   "cell_type": "markdown",
   "id": "30ca9899",
   "metadata": {},
   "source": [
    "In 1800, 85% of the world's 1 billion people lived in [extreme poverty](https://en.wikipedia.org/wiki/Extreme_poverty), defined by the United Nations as \"a condition characterized by severe deprivation of basic human needs, including food, safe drinking water, sanitation facilities, health, shelter, education and information.\" At the time when the data in this project were gathered, a common definition of extreme poverty was a person living on less than \\$1.25 a day.\n",
    "\n",
    "In 2018, the proportion of people living in extreme poverty was estimated to be [about 9\\%](https://unstats.un.org/sdgs/report/2019/goal-01/). Although the world rate of extreme poverty has declined consistently for hundreds of years, the number of people living in extreme poverty is still over 600 million. The United Nations adopted an [ambitious goal](http://www.un.org/sustainabledevelopment/poverty/): \"By 2030, eradicate extreme poverty for all people everywhere.\" In this part of the project we will examine aspects of global poverty that might affect whether the goal is achievable."
   ]
  },
  {
   "cell_type": "markdown",
   "id": "e8c95d55",
   "metadata": {},
   "source": [
    "First, load the population and poverty rate by country and year and the country descriptions. While the `population` table has values for every recent year for many countries, the `poverty` table only includes certain years for each country in which a measurement of the rate of extreme poverty was available."
   ]
  },
  {
   "cell_type": "code",
   "execution_count": null,
   "id": "face224c",
   "metadata": {},
   "outputs": [],
   "source": [
    "population = Table.read_table('population.csv')\n",
    "countries = Table.read_table('countries.csv').where('country', are.contained_in(population.group('geo').column('geo')))\n",
    "poverty = Table.read_table('poverty.csv')\n",
    "poverty.show(3)"
   ]
  },
  {
   "cell_type": "markdown",
   "id": "35041339",
   "metadata": {},
   "source": [
    "**Question 1.** Assign `recent_poverty` to a three-column table with one row for each country that appears in the `poverty` table. The first column should contain the 3-letter code for the country. The second column should contain the most recent year for which an extreme poverty rate is available for the country. The third column should contain the poverty rate in that year. **Do not change the last line, so that the labels of your table are set correctly.**\n",
    "\n",
    "*Hint*: think about how ```group``` works: it does a sequential search of the table (from top to bottom) and collects values in the array in the order in which they appear, and then applies a function to that array. The `first` function may be helpful, but you are not required to use it.\n"
   ]
  },
  {
   "cell_type": "code",
   "execution_count": null,
   "id": "e9508db8",
   "metadata": {},
   "outputs": [],
   "source": [
    "def first(values):\n",
    "    return values.item(0)\n",
    "\n",
    "recent_poverty = ...\n",
    "recent_poverty = recent_poverty.relabeled(0, 'geo').relabeled(1, 'time').relabeled(2, 'poverty_percent') # You should *not* change this line.\n",
    "recent_poverty"
   ]
  },
  {
   "cell_type": "code",
   "execution_count": null,
   "id": "7832803d",
   "metadata": {},
   "outputs": [],
   "source": [
    "grader.check(\"q2_1\")"
   ]
  },
  {
   "cell_type": "markdown",
   "id": "253ceb68",
   "metadata": {},
   "source": [
    "**Question 2.** Using both `recent_poverty` and `population`, create a four-column table called `recent_poverty_total` with one row for each country in `recent_poverty`. The four columns should have the following labels and contents:\n",
    "1. `geo` contains the 3-letter country code,\n",
    "1. `poverty_percent` contains the most recent poverty percent,\n",
    "1. `population_total` contains the population of the country in 2015,\n",
    "1. `total_poverty` contains the number of people in poverty **rounded to the nearest integer**, based on the 2015 population and most recent poverty rate.\n",
    "\n",
    "*Hint*: You are not required to use `poverty_and_pop`, and you are always welcome to add any additional names. "
   ]
  },
  {
   "cell_type": "code",
   "execution_count": null,
   "id": "2131eeba",
   "metadata": {},
   "outputs": [],
   "source": [
    "poverty_and_pop = ...\n",
    "recent_poverty_total = ...\n",
    "recent_poverty_total"
   ]
  },
  {
   "cell_type": "code",
   "execution_count": null,
   "id": "de5ac0a5",
   "metadata": {},
   "outputs": [],
   "source": [
    "grader.check(\"q2_2\")"
   ]
  },
  {
   "cell_type": "markdown",
   "id": "4f0846fc",
   "metadata": {},
   "source": [
    "**Question 3.** Assign the name `poverty_percent` to the known percentage of the world’s 2015 population that were living in extreme poverty. Assume that the `total_poverty` numbers in the `recent_poverty_total` table describe **all** people in 2015 living in extreme poverty. You should get a number that is above the 2018 global estimate of 9%, since many country-specific poverty rates are older than 2018.\n",
    "\n",
    "*Hint*: The sum of the `population_total` column in the `recent_poverty_total` table is not the world population, because only a subset of the world's countries are included in the `recent_poverty_total` table (only some countries have known poverty rates). Use the `population` table to compute the world's 2015 total population.\n",
    "\n",
    "*Hint*: We are computing a percentage (value between 0 and 100), not a proportion (value between 0 and 1).\n"
   ]
  },
  {
   "cell_type": "code",
   "execution_count": null,
   "id": "89f34ef2",
   "metadata": {},
   "outputs": [],
   "source": [
    "poverty_percent = ...\n",
    "poverty_percent"
   ]
  },
  {
   "cell_type": "code",
   "execution_count": null,
   "id": "a59ea6da",
   "metadata": {},
   "outputs": [],
   "source": [
    "grader.check(\"q2_3\")"
   ]
  },
  {
   "cell_type": "markdown",
   "id": "e2d8fa40",
   "metadata": {},
   "source": [
    "The `countries` table includes not only the name and region of countries, but also their positions on the globe."
   ]
  },
  {
   "cell_type": "code",
   "execution_count": null,
   "id": "86b8fe0d",
   "metadata": {},
   "outputs": [],
   "source": [
    "countries.select('country', 'name', 'world_4region', 'latitude', 'longitude')"
   ]
  },
  {
   "cell_type": "markdown",
   "id": "7105281a",
   "metadata": {},
   "source": [
    "**Question 4.** Using both `countries` and `recent_poverty_total`, create a five-column table called `poverty_map` with one row for every country in `recent_poverty_total`.  The five columns should have the following labels and contents:\n",
    "1. `name` contains the country's name,\n",
    "1. `zone` contains the country's region from the `world_4region` column of `countries`,\n",
    "1. `latitude` contains the country's latitude,\n",
    "1. `longitude` contains the country's longitude,\n",
    "1. `total_poverty` contains the country's poverty total.\n"
   ]
  },
  {
   "cell_type": "code",
   "execution_count": null,
   "id": "632a332e",
   "metadata": {},
   "outputs": [],
   "source": [
    "poverty_map = ...\n",
    "poverty_map"
   ]
  },
  {
   "cell_type": "code",
   "execution_count": null,
   "id": "043eebc9",
   "metadata": {},
   "outputs": [],
   "source": [
    "grader.check(\"q2_4\")"
   ]
  },
  {
   "cell_type": "markdown",
   "id": "9f9ebb29",
   "metadata": {},
   "source": [
    "Run the cell below to draw a map of the world in which the areas of circles represent the number of people living in extreme poverty. Double-click on the map to zoom in."
   ]
  },
  {
   "cell_type": "code",
   "execution_count": null,
   "id": "afa59d29",
   "metadata": {},
   "outputs": [],
   "source": [
    "# It may take a few seconds to generate this map.\n",
    "colors = {'africa': 'blue', 'europe': 'black', 'asia': 'red', 'americas': 'green'}\n",
    "scaled = poverty_map.with_columns(\n",
    "    'labels', poverty_map.column('name'),\n",
    "    'colors', poverty_map.apply(colors.get, 'zone'),\n",
    "    'areas', 1e-4 * poverty_map.column('total_poverty')\n",
    ").drop('name', 'zone', 'total-poverty')\n",
    "\n",
    "Circle.map_table(scaled)"
   ]
  },
  {
   "cell_type": "markdown",
   "id": "c0939ed9",
   "metadata": {},
   "source": [
    "Although people lived in extreme poverty throughout the world in 2010 (with more than 5 million in the United States), the largest numbers were in Asia and Africa."
   ]
  },
  {
   "cell_type": "markdown",
   "id": "fc08ddaa",
   "metadata": {},
   "source": [
    "**Question 5.** Assign `highest` to a three-column table with the `name` (not the 3-letter code), `zone` and `total_poverty` of the 15 countries with the largest number of people living in extreme poverty.\n",
    "\n",
    "*Hint*: How can we use `take` and `np.arange` in conjunction with each other?\n"
   ]
  },
  {
   "cell_type": "code",
   "execution_count": null,
   "id": "6808c9ad",
   "metadata": {},
   "outputs": [],
   "source": [
    "highest = ...\n",
    "highest.set_format('total_poverty', NumberFormatter)"
   ]
  },
  {
   "cell_type": "code",
   "execution_count": null,
   "id": "1521bfcb",
   "metadata": {},
   "outputs": [],
   "source": [
    "grader.check(\"q2_5\")"
   ]
  },
  {
   "cell_type": "markdown",
   "id": "b810e1fc",
   "metadata": {},
   "source": [
    "<!-- BEGIN QUESTION -->\n",
    "\n",
    "**Question 6.** It is important to study the absolute number of people living in poverty, not just the percent. The absolute number is an important factor in determining the amount of resources needed to support people living in poverty. In the next two questions you will explore this.\n",
    "\n",
    "In Question 7, you will be asked to write a function called `poverty_timeline` that takes **the name of a country** as its argument  (not the Alpha-3 country code). It should draw a line plot of the number of people living in poverty in that country with time on the horizontal axis. The line plot should have a point for each row in the `poverty` table for that country. To compute the population living in poverty from a poverty percentage, multiply by the population of the country **in that year**.\n",
    "\n",
    "For this question, write out a generalized process for Question 7. What should this function output, and what steps will you take within the function?\n"
   ]
  },
  {
   "cell_type": "markdown",
   "id": "67d9f6dd",
   "metadata": {},
   "source": [
    "_Type your answer here, replacing this text._"
   ]
  },
  {
   "cell_type": "markdown",
   "id": "6333a9ba",
   "metadata": {},
   "source": [
    "<!-- END QUESTION -->\n",
    "\n",
    "**Question 7.** Now, we'll actually write the function called `poverty_timeline`. Recall that `poverty_timeline` takes **the name of a country** as its argument (not the Alpha-3 country code). It should draw a line plot of the number of people living in poverty in that country with time on the horizontal axis. The line plot should have a point for each row in the `poverty` table for that country. To compute the population living in poverty from a poverty percentage, multiply by the population of the country **in that year**.\n",
    "\n",
    "*Hint:* This question is long. Feel free to create cells and experiment. You can create cells by going to the toolbar and hitting the `+` button, or by going to the `Insert` tab."
   ]
  },
  {
   "cell_type": "code",
   "execution_count": null,
   "id": "835b4269",
   "metadata": {},
   "outputs": [],
   "source": [
    "def poverty_timeline(country):\n",
    "    '''Draw a timeline of people living in extreme poverty in a country.'''\n",
    "    geo = ...\n",
    "    # This solution will take multiple lines of code. Use as many as you need\n",
    "    ...\n",
    "    # Don't change anything below this line. \n",
    "    plots.title(country)\n",
    "    plots.ylim(bottom=0)\n",
    "    plots.show() # This should be the last line of your function. "
   ]
  },
  {
   "cell_type": "code",
   "execution_count": null,
   "id": "0b6e07b7",
   "metadata": {},
   "outputs": [],
   "source": [
    "poverty_timeline('India')\n",
    "poverty_timeline('Nigeria')\n",
    "poverty_timeline('China')\n",
    "poverty_timeline('Colombia')\n",
    "poverty_timeline('United States')"
   ]
  },
  {
   "cell_type": "markdown",
   "id": "b668e354",
   "metadata": {},
   "source": [
    "Although the number of people living in extreme poverty increased in some countries including Nigeria and the United States, the decreases in other countries, most notably the massive decreases in China and India, have shaped the overall trend that extreme poverty is decreasing worldwide, both in percentage and in absolute number. \n",
    "\n",
    "To learn more, watch [Hans Rosling in a 2015 film](https://www.gapminder.org/videos/dont-panic-end-poverty/) about the UN goal of eradicating extreme poverty from the world. \n",
    "\n",
    "Below, we've also added an interactive dropdown menu for you to visualize `poverty_timeline` graphs for other countries. Note that each dropdown menu selection may take a few seconds to run."
   ]
  },
  {
   "cell_type": "code",
   "execution_count": null,
   "id": "013f063a",
   "metadata": {},
   "outputs": [],
   "source": [
    "# Just run this cell\n",
    "\n",
    "all_countries = poverty_map.column('name')\n",
    "_ = widgets.interact(poverty_timeline, country=list(all_countries))"
   ]
  },
  {
   "cell_type": "markdown",
   "id": "1abadae4",
   "metadata": {},
   "source": [
    "\n",
    "\n",
    "<img src=\"mochi.jpg\" alt=\"drawing\" width=\"300\"/>\n",
    "\n",
    "**Mochi wants to tell you, you're finished!** Congratulations on discovering many important facts about global poverty and demonstrating your mastery of table manipulation and data visualization. Time to submit.\n",
    "\n",
    "**Important submission steps:** \n",
    "1. Run the tests and verify that they all pass.\n",
    "2. Choose **Save Notebook** from the **File** menu, then **run the final cell**. \n",
    "3. Click the link to download the zip file.\n",
    "4. Then submit the zip file to the corresponding assignment according to your instructor's directions. \n",
    "\n",
    "**It is your responsibility to make sure your work is saved before running the last cell.**"
   ]
  },
  {
   "cell_type": "markdown",
   "id": "5f46602a",
   "metadata": {},
   "source": [
    "---\n",
    "\n",
    "To double-check your work, the cell below will rerun all of the autograder tests."
   ]
  },
  {
   "cell_type": "code",
   "execution_count": null,
   "id": "f4180aee",
   "metadata": {},
   "outputs": [],
   "source": [
    "grader.check_all()"
   ]
  },
  {
   "cell_type": "markdown",
   "id": "787a3461",
   "metadata": {},
   "source": [
    "## Submission\n",
    "\n",
    "Make sure you have run all cells in your notebook in order before running the cell below, so that all images/graphs appear in the output. The cell below will generate a zip file for you to submit. **Please save before exporting!**"
   ]
  },
  {
   "cell_type": "code",
   "execution_count": null,
   "id": "1139278c",
   "metadata": {},
   "outputs": [],
   "source": [
    "# Save your notebook first, then run this cell to export your submission.\n",
    "grader.export()"
   ]
  },
  {
   "cell_type": "markdown",
   "id": "ee086b40",
   "metadata": {},
   "source": [
    " "
   ]
  }
 ],
 "metadata": {
  "celltoolbar": "Edit Metadata",
  "kernelspec": {
   "display_name": "venv",
   "language": "python",
   "name": "python3"
  },
  "language_info": {
   "codemirror_mode": {
    "name": "ipython",
    "version": 3
   },
   "file_extension": ".py",
   "mimetype": "text/x-python",
   "name": "python",
   "nbconvert_exporter": "python",
   "pygments_lexer": "ipython3"
  },
  "otter": {
   "OK_FORMAT": true,
   "tests": {
    "q1_1": {
     "name": "q1_1",
     "points": [
      0,
      0
     ],
     "suites": [
      {
       "cases": [
        {
         "code": ">>> z_pop.labels == ('time', 'population_total')\nTrue",
         "hidden": false,
         "locked": false
        },
        {
         "code": ">>> all(z_pop.sort('time').column('time') == np.arange(1970, 2021))\nTrue",
         "hidden": false,
         "locked": false
        }
       ],
       "scored": true,
       "setup": "",
       "teardown": "",
       "type": "doctest"
      }
     ]
    },
    "q1_11": {
     "name": "q1_11",
     "points": [
      0,
      0,
      0,
      4
     ],
     "suites": [
      {
       "cases": [
        {
         "code": ">>> t = stats_in_year(1990)\n>>> t.labels == ('geo', 'population_total', 'children_per_woman_total_fertility', 'child_mortality_under_5_per_1000_born')\nTrue",
         "hidden": false,
         "locked": false
        },
        {
         "code": ">>> t = stats_in_year(1990)\n>>> t.num_rows == 40\nTrue",
         "hidden": false,
         "locked": false
        },
        {
         "code": ">>> stats_in_year(1960).sort('geo').take(np.arange(5, 40, 5)).column(0)[0] == 'chn'\nTrue",
         "hidden": false,
         "locked": false
        },
        {
         "code": ">>> stats_in_year(2010).sort('geo').take(np.arange(3, 40, 5)).column(0)[0] == 'bra'\nTrue",
         "hidden": false,
         "locked": false
        }
       ],
       "scored": true,
       "setup": "",
       "teardown": "",
       "type": "doctest"
      }
     ]
    },
    "q1_12": {
     "name": "q1_12",
     "points": [
      0,
      0
     ],
     "suites": [
      {
       "cases": [
        {
         "code": ">>> pop_by_decade.labels == ('decade', 'population')\nTrue",
         "hidden": false,
         "locked": false
        },
        {
         "code": ">>> pop_by_decade.column(0).item(0) == 2020\nTrue",
         "hidden": false,
         "locked": false
        }
       ],
       "scored": true,
       "setup": "",
       "teardown": "",
       "type": "doctest"
      }
     ]
    },
    "q1_12_0": {
     "name": "q1_12_0",
     "points": [
      0,
      0,
      0,
      0
     ],
     "suites": [
      {
       "cases": [
        {
         "code": ">>> pop_in_year(1972) == 3254829629\nTrue",
         "hidden": false,
         "locked": false
        },
        {
         "code": ">>> pop_in_year(2020) == 6448947012\nTrue",
         "hidden": false,
         "locked": false
        },
        {
         "code": ">>> pop_in_year(1989) == 4414537563\nTrue",
         "hidden": false,
         "locked": false
        },
        {
         "code": ">>> pop_in_year(2002) == 5290783972\nTrue",
         "hidden": false,
         "locked": false
        }
       ],
       "scored": true,
       "setup": "",
       "teardown": "",
       "type": "doctest"
      }
     ]
    },
    "q1_13": {
     "name": "q1_13",
     "points": [
      0,
      0
     ],
     "suites": [
      {
       "cases": [
        {
         "code": ">>> zone_nums.labels == ('zone', 'count')\nTrue",
         "hidden": false,
         "locked": false
        },
        {
         "code": ">>> sum(zone_nums.column('count')) == 40\nTrue",
         "hidden": false,
         "locked": false
        }
       ],
       "scored": true,
       "setup": "",
       "teardown": "",
       "type": "doctest"
      }
     ]
    },
    "q1_14": {
     "name": "q1_14",
     "points": [
      0
     ],
     "suites": [
      {
       "cases": [
        {
         "code": ">>> all((x in range(1, 6) for x in set(scatter_statements)))\nTrue",
         "hidden": false,
         "locked": false
        }
       ],
       "scored": true,
       "setup": "",
       "teardown": "",
       "type": "doctest"
      }
     ]
    },
    "q1_2": {
     "name": "q1_2",
     "points": [
      0,
      0
     ],
     "suites": [
      {
       "cases": [
        {
         "code": ">>> first = round(z_four_growth.sort(0).column(2).item(0), 8)\n>>> 0.02 <= first <= 0.2\nTrue",
         "hidden": false,
         "locked": false
        },
        {
         "code": ">>> max(z_four_growth.column(2)) < 0.03\nTrue",
         "hidden": false,
         "locked": false
        }
       ],
       "scored": true,
       "setup": "",
       "teardown": "",
       "type": "doctest"
      }
     ]
    },
    "q1_5": {
     "name": "q1_5",
     "points": [
      0,
      0,
      0
     ],
     "suites": [
      {
       "cases": [
        {
         "code": ">>> fertility_over_time('usa', 2010).labels == ('Year', 'Children per woman')\nTrue",
         "hidden": false,
         "locked": false
        },
        {
         "code": ">>> all(fertility_over_time('usa', 2010).column('Year') == np.arange(2010, 2021))\nTrue",
         "hidden": false,
         "locked": false
        },
        {
         "code": ">>> all(fertility_over_time('usa', 2005).column('Year') == np.arange(2005, 2021))\nTrue",
         "hidden": false,
         "locked": false
        }
       ],
       "scored": true,
       "setup": "",
       "teardown": "",
       "type": "doctest"
      }
     ]
    },
    "q1_7": {
     "name": "q1_7",
     "points": [
      0,
      0
     ],
     "suites": [
      {
       "cases": [
        {
         "code": ">>> post_1969_fertility_and_child_mortality.num_rows == 51\nTrue",
         "hidden": false,
         "locked": false
        },
        {
         "code": ">>> all([label in post_1969_fertility_and_child_mortality.labels for label in ['Children per woman', 'Child deaths per 1000 born']])\nTrue",
         "hidden": false,
         "locked": false
        }
       ],
       "scored": true,
       "setup": "",
       "teardown": "",
       "type": "doctest"
      }
     ]
    },
    "q1_9": {
     "name": "q1_9",
     "points": [
      0
     ],
     "suites": [
      {
       "cases": [
        {
         "code": ">>> all((x in range(1, 7) for x in set(fertility_statements)))\nTrue",
         "hidden": false,
         "locked": false
        }
       ],
       "scored": true,
       "setup": "",
       "teardown": "",
       "type": "doctest"
      }
     ]
    },
    "q2_1": {
     "name": "q2_1",
     "points": [
      0,
      0
     ],
     "suites": [
      {
       "cases": [
        {
         "code": ">>> recent_poverty.labels == ('geo', 'time', 'poverty_percent')\nTrue",
         "hidden": false,
         "locked": false
        },
        {
         "code": ">>> recent_poverty.num_rows == 145\nTrue",
         "hidden": false,
         "locked": false
        }
       ],
       "scored": true,
       "setup": "",
       "teardown": "",
       "type": "doctest"
      }
     ]
    },
    "q2_2": {
     "name": "q2_2",
     "points": [
      0,
      0,
      0
     ],
     "suites": [
      {
       "cases": [
        {
         "code": ">>> recent_poverty_total.labels == ('geo', 'poverty_percent', 'population_total', 'total_poverty')\nTrue",
         "hidden": false,
         "locked": false
        },
        {
         "code": ">>> recent_poverty_total.where('geo', 'aus').column(2).item(0) == 23932499\nTrue",
         "hidden": false,
         "locked": false
        },
        {
         "code": ">>> float(recent_poverty_total.where('geo', 'aus').column(3).item(0)) == 325482.0\nTrue",
         "hidden": false,
         "locked": false
        }
       ],
       "scored": true,
       "setup": "",
       "teardown": "",
       "type": "doctest"
      }
     ]
    },
    "q2_3": {
     "name": "q2_3",
     "points": [
      0
     ],
     "suites": [
      {
       "cases": [
        {
         "code": ">>> 10 <= poverty_percent <= 20\nTrue",
         "hidden": false,
         "locked": false
        }
       ],
       "scored": true,
       "setup": "",
       "teardown": "",
       "type": "doctest"
      }
     ]
    },
    "q2_4": {
     "name": "q2_4",
     "points": [
      0,
      0
     ],
     "suites": [
      {
       "cases": [
        {
         "code": ">>> poverty_map.labels == ('name', 'zone', 'latitude', 'longitude', 'total_poverty')\nTrue",
         "hidden": false,
         "locked": false
        },
        {
         "code": ">>> list(np.sort(np.unique(poverty_map.column('zone')))) == ['africa', 'americas', 'asia', 'europe']\nTrue",
         "hidden": false,
         "locked": false
        }
       ],
       "scored": true,
       "setup": "",
       "teardown": "",
       "type": "doctest"
      }
     ]
    },
    "q2_5": {
     "name": "q2_5",
     "points": [
      0,
      0,
      0
     ],
     "suites": [
      {
       "cases": [
        {
         "code": ">>> highest.labels == ('name', 'zone', 'total_poverty')\nTrue",
         "hidden": false,
         "locked": false
        },
        {
         "code": ">>> highest.column(0).item(0) == 'India'\nTrue",
         "hidden": false,
         "locked": false
        },
        {
         "code": ">>> highest.num_rows == 15\nTrue",
         "hidden": false,
         "locked": false
        }
       ],
       "scored": true,
       "setup": "",
       "teardown": "",
       "type": "doctest"
      }
     ]
    }
   }
  },
  "widgets": {
   "application/vnd.jupyter.widget-state+json": {
    "state": {
     "1e88c78ed5744e7bb5cb1661b4f5d475": {
      "model_module": "@jupyter-widgets/output",
      "model_module_version": "1.0.0",
      "model_name": "OutputModel",
      "state": {
       "_dom_classes": [],
       "_model_module": "@jupyter-widgets/output",
       "_model_module_version": "1.0.0",
       "_model_name": "OutputModel",
       "_view_count": null,
       "_view_module": "@jupyter-widgets/output",
       "_view_module_version": "1.0.0",
       "_view_name": "OutputView",
       "layout": "IPY_MODEL_21f1dbd3bebb48fbbd79fa9ce0e1a81c",
       "msg_id": "",
       "outputs": [
        {
         "data": {
          "image/png": "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",
          "text/plain": "<Figure size 500x500 with 1 Axes>"
         },
         "metadata": {},
         "output_type": "display_data"
        }
       ],
       "tabbable": null,
       "tooltip": null
      }
     },
     "21f1dbd3bebb48fbbd79fa9ce0e1a81c": {
      "model_module": "@jupyter-widgets/base",
      "model_module_version": "2.0.0",
      "model_name": "LayoutModel",
      "state": {
       "_model_module": "@jupyter-widgets/base",
       "_model_module_version": "2.0.0",
       "_model_name": "LayoutModel",
       "_view_count": null,
       "_view_module": "@jupyter-widgets/base",
       "_view_module_version": "2.0.0",
       "_view_name": "LayoutView",
       "align_content": null,
       "align_items": null,
       "align_self": null,
       "border_bottom": null,
       "border_left": null,
       "border_right": null,
       "border_top": null,
       "bottom": null,
       "display": null,
       "flex": null,
       "flex_flow": null,
       "grid_area": null,
       "grid_auto_columns": null,
       "grid_auto_flow": null,
       "grid_auto_rows": null,
       "grid_column": null,
       "grid_gap": null,
       "grid_row": null,
       "grid_template_areas": null,
       "grid_template_columns": null,
       "grid_template_rows": null,
       "height": null,
       "justify_content": null,
       "justify_items": null,
       "left": null,
       "margin": null,
       "max_height": null,
       "max_width": null,
       "min_height": null,
       "min_width": null,
       "object_fit": null,
       "object_position": null,
       "order": null,
       "overflow": null,
       "padding": null,
       "right": null,
       "top": null,
       "visibility": null,
       "width": null
      }
     },
     "53a11d1cb65641d892dbe5cb583be329": {
      "model_module": "@jupyter-widgets/controls",
      "model_module_version": "2.0.0",
      "model_name": "VBoxModel",
      "state": {
       "_dom_classes": [
        "widget-interact"
       ],
       "_model_module": "@jupyter-widgets/controls",
       "_model_module_version": "2.0.0",
       "_model_name": "VBoxModel",
       "_view_count": null,
       "_view_module": "@jupyter-widgets/controls",
       "_view_module_version": "2.0.0",
       "_view_name": "VBoxView",
       "box_style": "",
       "children": [
        "IPY_MODEL_787644359a944b9b9a627fe423713de5",
        "IPY_MODEL_1e88c78ed5744e7bb5cb1661b4f5d475"
       ],
       "layout": "IPY_MODEL_857cfc2435914a6cbd7432648ed3c9fd",
       "tabbable": null,
       "tooltip": null
      }
     },
     "5824cbd8361c446bb8a6f9cd8da8285c": {
      "model_module": "@jupyter-widgets/controls",
      "model_module_version": "2.0.0",
      "model_name": "DropdownModel",
      "state": {
       "_dom_classes": [],
       "_model_module": "@jupyter-widgets/controls",
       "_model_module_version": "2.0.0",
       "_model_name": "DropdownModel",
       "_options_labels": [
        "Angola",
        "Albania",
        "Argentina",
        "Armenia",
        "Australia",
        "Austria",
        "Azerbaijan",
        "Burundi",
        "Belgium",
        "Benin",
        "Burkina Faso",
        "Bangladesh",
        "Bulgaria",
        "Bosnia and Herzegovina",
        "Belarus",
        "Belize",
        "Bolivia",
        "Brazil",
        "Bhutan",
        "Botswana",
        "Central African Republic",
        "Canada",
        "Switzerland",
        "Chile",
        "China",
        "Cote d'Ivoire",
        "Cameroon",
        "Congo, Dem. Rep.",
        "Congo, Rep.",
        "Colombia",
        "Comoros",
        "Cape Verde",
        "Costa Rica",
        "Czech Republic",
        "Germany",
        "Djibouti",
        "Denmark",
        "Dominican Republic",
        "Algeria",
        "Ecuador",
        "Egypt",
        "Spain",
        "Estonia",
        "Ethiopia",
        "Finland",
        "Fiji",
        "France",
        "Micronesia, Fed. Sts.",
        "Gabon",
        "United Kingdom",
        "Georgia",
        "Ghana",
        "Guinea",
        "Gambia",
        "Guinea-Bissau",
        "Greece",
        "Guatemala",
        "Guyana",
        "Honduras",
        "Croatia",
        "Haiti",
        "Hungary",
        "Indonesia",
        "India",
        "Ireland",
        "Iran",
        "Iraq",
        "Israel",
        "Italy",
        "Jamaica",
        "Jordan",
        "Japan",
        "Kazakhstan",
        "Kenya",
        "Kyrgyz Republic",
        "Cambodia",
        "Lao",
        "Liberia",
        "St. Lucia",
        "Sri Lanka",
        "Lesotho",
        "Lithuania",
        "Latvia",
        "Morocco",
        "Moldova",
        "Madagascar",
        "Maldives",
        "Mexico",
        "North Macedonia",
        "Mali",
        "Montenegro",
        "Mozambique",
        "Mauritania",
        "Malawi",
        "Malaysia",
        "Namibia",
        "Niger",
        "Nigeria",
        "Nicaragua",
        "Netherlands",
        "Norway",
        "Nepal",
        "Pakistan",
        "Panama",
        "Peru",
        "Philippines",
        "Papua New Guinea",
        "Poland",
        "Paraguay",
        "Palestine",
        "Romania",
        "Russia",
        "Rwanda",
        "Sudan",
        "Senegal",
        "Sierra Leone",
        "El Salvador",
        "Serbia",
        "Sao Tome and Principe",
        "Suriname",
        "Slovak Republic",
        "Slovenia",
        "Sweden",
        "Swaziland",
        "Seychelles",
        "Syria",
        "Chad",
        "Togo",
        "Thailand",
        "Tajikistan",
        "Turkmenistan",
        "Timor-Leste",
        "Trinidad and Tobago",
        "Tunisia",
        "Turkey",
        "Tanzania",
        "Uganda",
        "Ukraine",
        "Uruguay",
        "United States",
        "Venezuela",
        "Vietnam",
        "Yemen",
        "South Africa",
        "Zambia"
       ],
       "_view_count": null,
       "_view_module": "@jupyter-widgets/controls",
       "_view_module_version": "2.0.0",
       "_view_name": "DropdownView",
       "description": "country",
       "description_allow_html": false,
       "disabled": false,
       "index": 0,
       "layout": "IPY_MODEL_7d6efddd02d644a9a4864921bf48a74d",
       "style": "IPY_MODEL_85aa24f32ccd46789baf4acc894d3e52",
       "tabbable": null,
       "tooltip": null
      }
     },
     "69f7700dfe0540b09b9246188b06667e": {
      "model_module": "@jupyter-widgets/output",
      "model_module_version": "1.0.0",
      "model_name": "OutputModel",
      "state": {
       "_dom_classes": [],
       "_model_module": "@jupyter-widgets/output",
       "_model_module_version": "1.0.0",
       "_model_name": "OutputModel",
       "_view_count": null,
       "_view_module": "@jupyter-widgets/output",
       "_view_module_version": "1.0.0",
       "_view_name": "OutputView",
       "layout": "IPY_MODEL_7a28f13a300949058b09f08fe25f7f9c",
       "msg_id": "",
       "outputs": [
        {
         "data": {
          "image/png": "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",
          "text/plain": "<Figure size 600x600 with 1 Axes>"
         },
         "metadata": {},
         "output_type": "display_data"
        }
       ],
       "tabbable": null,
       "tooltip": null
      }
     },
     "787644359a944b9b9a627fe423713de5": {
      "model_module": "@jupyter-widgets/controls",
      "model_module_version": "2.0.0",
      "model_name": "IntSliderModel",
      "state": {
       "_dom_classes": [],
       "_model_module": "@jupyter-widgets/controls",
       "_model_module_version": "2.0.0",
       "_model_name": "IntSliderModel",
       "_view_count": null,
       "_view_module": "@jupyter-widgets/controls",
       "_view_module_version": "2.0.0",
       "_view_name": "IntSliderView",
       "behavior": "drag-tap",
       "continuous_update": true,
       "description": "year",
       "description_allow_html": false,
       "disabled": false,
       "layout": "IPY_MODEL_ff3432b2a8fc42119538847a77ac19c7",
       "max": 2020,
       "min": 1960,
       "orientation": "horizontal",
       "readout": true,
       "readout_format": "d",
       "step": 1,
       "style": "IPY_MODEL_ff9f4621888e49e2aeb4f15cfe2b2ee5",
       "tabbable": null,
       "tooltip": null,
       "value": 1960
      }
     },
     "7a28f13a300949058b09f08fe25f7f9c": {
      "model_module": "@jupyter-widgets/base",
      "model_module_version": "2.0.0",
      "model_name": "LayoutModel",
      "state": {
       "_model_module": "@jupyter-widgets/base",
       "_model_module_version": "2.0.0",
       "_model_name": "LayoutModel",
       "_view_count": null,
       "_view_module": "@jupyter-widgets/base",
       "_view_module_version": "2.0.0",
       "_view_name": "LayoutView",
       "align_content": null,
       "align_items": null,
       "align_self": null,
       "border_bottom": null,
       "border_left": null,
       "border_right": null,
       "border_top": null,
       "bottom": null,
       "display": null,
       "flex": null,
       "flex_flow": null,
       "grid_area": null,
       "grid_auto_columns": null,
       "grid_auto_flow": null,
       "grid_auto_rows": null,
       "grid_column": null,
       "grid_gap": null,
       "grid_row": null,
       "grid_template_areas": null,
       "grid_template_columns": null,
       "grid_template_rows": null,
       "height": null,
       "justify_content": null,
       "justify_items": null,
       "left": null,
       "margin": null,
       "max_height": null,
       "max_width": null,
       "min_height": null,
       "min_width": null,
       "object_fit": null,
       "object_position": null,
       "order": null,
       "overflow": null,
       "padding": null,
       "right": null,
       "top": null,
       "visibility": null,
       "width": null
      }
     },
     "7d6efddd02d644a9a4864921bf48a74d": {
      "model_module": "@jupyter-widgets/base",
      "model_module_version": "2.0.0",
      "model_name": "LayoutModel",
      "state": {
       "_model_module": "@jupyter-widgets/base",
       "_model_module_version": "2.0.0",
       "_model_name": "LayoutModel",
       "_view_count": null,
       "_view_module": "@jupyter-widgets/base",
       "_view_module_version": "2.0.0",
       "_view_name": "LayoutView",
       "align_content": null,
       "align_items": null,
       "align_self": null,
       "border_bottom": null,
       "border_left": null,
       "border_right": null,
       "border_top": null,
       "bottom": null,
       "display": null,
       "flex": null,
       "flex_flow": null,
       "grid_area": null,
       "grid_auto_columns": null,
       "grid_auto_flow": null,
       "grid_auto_rows": null,
       "grid_column": null,
       "grid_gap": null,
       "grid_row": null,
       "grid_template_areas": null,
       "grid_template_columns": null,
       "grid_template_rows": null,
       "height": null,
       "justify_content": null,
       "justify_items": null,
       "left": null,
       "margin": null,
       "max_height": null,
       "max_width": null,
       "min_height": null,
       "min_width": null,
       "object_fit": null,
       "object_position": null,
       "order": null,
       "overflow": null,
       "padding": null,
       "right": null,
       "top": null,
       "visibility": null,
       "width": null
      }
     },
     "857cfc2435914a6cbd7432648ed3c9fd": {
      "model_module": "@jupyter-widgets/base",
      "model_module_version": "2.0.0",
      "model_name": "LayoutModel",
      "state": {
       "_model_module": "@jupyter-widgets/base",
       "_model_module_version": "2.0.0",
       "_model_name": "LayoutModel",
       "_view_count": null,
       "_view_module": "@jupyter-widgets/base",
       "_view_module_version": "2.0.0",
       "_view_name": "LayoutView",
       "align_content": null,
       "align_items": null,
       "align_self": null,
       "border_bottom": null,
       "border_left": null,
       "border_right": null,
       "border_top": null,
       "bottom": null,
       "display": null,
       "flex": null,
       "flex_flow": null,
       "grid_area": null,
       "grid_auto_columns": null,
       "grid_auto_flow": null,
       "grid_auto_rows": null,
       "grid_column": null,
       "grid_gap": null,
       "grid_row": null,
       "grid_template_areas": null,
       "grid_template_columns": null,
       "grid_template_rows": null,
       "height": null,
       "justify_content": null,
       "justify_items": null,
       "left": null,
       "margin": null,
       "max_height": null,
       "max_width": null,
       "min_height": null,
       "min_width": null,
       "object_fit": null,
       "object_position": null,
       "order": null,
       "overflow": null,
       "padding": null,
       "right": null,
       "top": null,
       "visibility": null,
       "width": null
      }
     },
     "85aa24f32ccd46789baf4acc894d3e52": {
      "model_module": "@jupyter-widgets/controls",
      "model_module_version": "2.0.0",
      "model_name": "DescriptionStyleModel",
      "state": {
       "_model_module": "@jupyter-widgets/controls",
       "_model_module_version": "2.0.0",
       "_model_name": "DescriptionStyleModel",
       "_view_count": null,
       "_view_module": "@jupyter-widgets/base",
       "_view_module_version": "2.0.0",
       "_view_name": "StyleView",
       "description_width": ""
      }
     },
     "9accc323234d4bd19ff19356c01d615c": {
      "model_module": "@jupyter-widgets/base",
      "model_module_version": "2.0.0",
      "model_name": "LayoutModel",
      "state": {
       "_model_module": "@jupyter-widgets/base",
       "_model_module_version": "2.0.0",
       "_model_name": "LayoutModel",
       "_view_count": null,
       "_view_module": "@jupyter-widgets/base",
       "_view_module_version": "2.0.0",
       "_view_name": "LayoutView",
       "align_content": null,
       "align_items": null,
       "align_self": null,
       "border_bottom": null,
       "border_left": null,
       "border_right": null,
       "border_top": null,
       "bottom": null,
       "display": null,
       "flex": null,
       "flex_flow": null,
       "grid_area": null,
       "grid_auto_columns": null,
       "grid_auto_flow": null,
       "grid_auto_rows": null,
       "grid_column": null,
       "grid_gap": null,
       "grid_row": null,
       "grid_template_areas": null,
       "grid_template_columns": null,
       "grid_template_rows": null,
       "height": null,
       "justify_content": null,
       "justify_items": null,
       "left": null,
       "margin": null,
       "max_height": null,
       "max_width": null,
       "min_height": null,
       "min_width": null,
       "object_fit": null,
       "object_position": null,
       "order": null,
       "overflow": null,
       "padding": null,
       "right": null,
       "top": null,
       "visibility": null,
       "width": null
      }
     },
     "e5ee553edcc740dc91a9dd2d4bdbf872": {
      "model_module": "@jupyter-widgets/controls",
      "model_module_version": "2.0.0",
      "model_name": "VBoxModel",
      "state": {
       "_dom_classes": [
        "widget-interact"
       ],
       "_model_module": "@jupyter-widgets/controls",
       "_model_module_version": "2.0.0",
       "_model_name": "VBoxModel",
       "_view_count": null,
       "_view_module": "@jupyter-widgets/controls",
       "_view_module_version": "2.0.0",
       "_view_name": "VBoxView",
       "box_style": "",
       "children": [
        "IPY_MODEL_5824cbd8361c446bb8a6f9cd8da8285c",
        "IPY_MODEL_69f7700dfe0540b09b9246188b06667e"
       ],
       "layout": "IPY_MODEL_9accc323234d4bd19ff19356c01d615c",
       "tabbable": null,
       "tooltip": null
      }
     },
     "ff3432b2a8fc42119538847a77ac19c7": {
      "model_module": "@jupyter-widgets/base",
      "model_module_version": "2.0.0",
      "model_name": "LayoutModel",
      "state": {
       "_model_module": "@jupyter-widgets/base",
       "_model_module_version": "2.0.0",
       "_model_name": "LayoutModel",
       "_view_count": null,
       "_view_module": "@jupyter-widgets/base",
       "_view_module_version": "2.0.0",
       "_view_name": "LayoutView",
       "align_content": null,
       "align_items": null,
       "align_self": null,
       "border_bottom": null,
       "border_left": null,
       "border_right": null,
       "border_top": null,
       "bottom": null,
       "display": null,
       "flex": null,
       "flex_flow": null,
       "grid_area": null,
       "grid_auto_columns": null,
       "grid_auto_flow": null,
       "grid_auto_rows": null,
       "grid_column": null,
       "grid_gap": null,
       "grid_row": null,
       "grid_template_areas": null,
       "grid_template_columns": null,
       "grid_template_rows": null,
       "height": null,
       "justify_content": null,
       "justify_items": null,
       "left": null,
       "margin": null,
       "max_height": null,
       "max_width": null,
       "min_height": null,
       "min_width": null,
       "object_fit": null,
       "object_position": null,
       "order": null,
       "overflow": null,
       "padding": null,
       "right": null,
       "top": null,
       "visibility": null,
       "width": null
      }
     },
     "ff9f4621888e49e2aeb4f15cfe2b2ee5": {
      "model_module": "@jupyter-widgets/controls",
      "model_module_version": "2.0.0",
      "model_name": "SliderStyleModel",
      "state": {
       "_model_module": "@jupyter-widgets/controls",
       "_model_module_version": "2.0.0",
       "_model_name": "SliderStyleModel",
       "_view_count": null,
       "_view_module": "@jupyter-widgets/base",
       "_view_module_version": "2.0.0",
       "_view_name": "StyleView",
       "description_width": "",
       "handle_color": null
      }
     }
    },
    "version_major": 2,
    "version_minor": 0
   }
  }
 },
 "nbformat": 4,
 "nbformat_minor": 5
}
